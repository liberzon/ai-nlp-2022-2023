{
 "cells": [
  {
   "cell_type": "code",
   "execution_count": 3,
   "metadata": {
    "collapsed": true
   },
   "outputs": [
    {
     "name": "stdout",
     "output_type": "stream",
     "text": [
      "Collecting package metadata (current_repodata.json): done\r\n",
      "Solving environment: failed with initial frozen solve. Retrying with flexible solve.\r\n",
      "Solving environment: failed with repodata from current_repodata.json, will retry with next repodata source.\r\n",
      "Collecting package metadata (repodata.json): done\r\n",
      "Solving environment: failed with initial frozen solve. Retrying with flexible solve.\r\n",
      "Solving environment: | \r\n",
      "Found conflicts! Looking for incompatible packages.\r\n",
      "This can take several minutes.  Press CTRL-C to abort.\r\n",
      "failed                                                                        \r\n",
      "\r\n",
      "UnsatisfiableError: The following specifications were found\r\n",
      "to be incompatible with the existing python installation in your environment:\r\n",
      "\r\n",
      "Specifications:\r\n",
      "\r\n",
      "  - pytorch -> python[version='3.10.*|3.6.12|3.6.12|3.7.10|3.7.10|3.7.12|3.8.12|3.9.10|>=3.11,<3.12.0a0|>=3.11,<3.12.0a0|>=3.5|>=3.6|>=3.7|3.7.9|3.6.9|3.6.9|3.6.9|3.6.9|3.8.*|>=3.8|3.9.*',build='0_73_pypy|1_73_pypy|2_73_pypy|4_73_pypy|0_73_pypy|1_73_pypy|0_73_pypy|0_73_pypy|*_cpython|0_73_pypy|5_73_pypy|5_73_pypy|3_73_pypy']\r\n",
      "\r\n",
      "Your python: python=3.9\r\n",
      "\r\n",
      "If python is on the left-most side of the chain, that's the version you've asked for.\r\n",
      "When python appears to the right, that indicates that the thing on the left is somehow\r\n",
      "not available for the python version you are constrained to. Note that conda will not\r\n",
      "change your python version to a different minor version unless you explicitly specify\r\n",
      "that.\r\n",
      "\r\n",
      "The following specifications were found to be incompatible with each other:\r\n",
      "\r\n",
      "Output in format: Requested package -> Available versions\r\n",
      "\r\n",
      "Package pytorch conflicts for:\r\n",
      "torchvision -> pytorch[version='*|1.10|1.14.0.dev20221022|>=1.12.0,<1.13.0a0|>=1.11.0,<1.12.0a0|>=1.10.2,<1.11.0a0|1.10.0.*|>=1.8.0|1.10.2',build=cpu*]\r\n",
      "torchvision -> pytorch-cpu -> pytorch[version='1.10.0|1.10.0|1.10.0|1.10.0|1.10.1|1.10.1|1.10.2|1.10.2|1.10.2|1.10.2|1.11.0|1.11.0|1.11.0|1.11.0|1.11.0|1.11.0|1.11.0|1.11.0|1.11.0|1.12.0|1.12.0|1.12.0|1.12.0|1.12.0|1.12.0|1.12.0|1.12.0|1.12.0|1.12.1|1.9.1|1.9.1|1.9.0|1.9.0|1.9.0|1.9.0|1.9.0|1.9.0|1.8.0|1.8.0|1.8.0|1.8.0|1.8.0|1.8.0|1.8.0|1.8.0',build='cpu_py38h179404b_0|cpu_py38h15dfef8_2|cpu_py39h8ae5edc_2|cpu_py39h8ae5edc_3|cpu_py38h15dfef8_3|cpu_py39he8fdc14_2|cpu_py39h7601aee_0|cpu_py39hbfdb42d_1|cpu_py38h7444d52_0|cpu_py39hbfdb42d_1|cpu_py38h7444d52_1|cpu_py38h1b6422d_0|cpu_py39h19aa3d3_0|cpu_py310he9514b4_0|cpu_py38h3eb028a_0|cpu_py38h7afd69f_0|cpu_py39h0768760_0|cpu_py310h911b1ea_0|cpu_py39hf1faf6a_1|cpu_py38hfb32b02_1|cpu_py310h7410233_1|cpu_py38h7afd69f_2|cpu_py39h0768760_2|cpu_py310h911b1ea_2|cpu_py38h7afd69f_1|cpu_py39h0768760_1|cpu_py310h911b1ea_1|cpu_py39h7be5bbc_0|cpu_py310hb62697f_0|cpu_py310h61528c5_2|cpu_py38h17550ec_2|cpu_py39h03f923b_2|cpu_py310h61528c5_1|cpu_py39h03f923b_1|cpu_py38h17550ec_1|cpu_py39hbfdb42d_0|cpu_py39hbfdb42d_0|cpu_py38h7444d52_0|cpu_py38h7444d52_1|cpu_py38ha3d347f_0|cpu_py38ha3d347f_3|cpu_py39h7601aee_3|cpu_py38hff7f1bc_2|cpu_py38h15dfef8_1|cpu_py39h8ae5edc_1|cpu_py39h8ae5edc_0|cpu_py38h15dfef8_0|cpu_py39hc766e51_1|cpu_py38hc43b888_1|cpu_py39hff516c6_0']\r\n",
      "torchaudio -> pytorch==1.14.0.dev20221022\r\n",
      "\r\n",
      "Package libprotobuf conflicts for:\r\n",
      "pytorch -> libprotobuf[version='>=3.15.5,<3.16.0a0|>=3.15.6,<3.16.0a0|>=3.15.8,<3.16.0a0|>=3.16.0,<3.17.0a0|>=3.18.1,<3.19.0a0|>=3.19.3,<3.20.0a0|>=3.19.4,<3.20.0a0|>=3.20.1,<3.21.0a0|>=3.21.7,<3.22.0a0']\r\n",
      "torchvision -> pytorch[version='>=1.12.0,<1.13.0a0'] -> libprotobuf[version='>=3.15.5,<3.16.0a0|>=3.15.6,<3.16.0a0|>=3.15.8,<3.16.0a0|>=3.16.0,<3.17.0a0|>=3.18.1,<3.19.0a0|>=3.19.3,<3.20.0a0|>=3.19.4,<3.20.0a0|>=3.20.1,<3.21.0a0|>=3.21.7,<3.22.0a0']\r\n",
      "\r\n",
      "Package setuptools conflicts for:\r\n",
      "python=3.9 -> pip -> setuptools\r\n",
      "torchvision -> pytorch[version='>=1.10.2,<1.11.0a0'] -> setuptools[version='<59.6']\r\n",
      "pytorch -> setuptools[version='<59.6']\r\n",
      "torchvision -> setuptoolsThe following specifications were found to be incompatible with your system:\r\n",
      "\r\n",
      "  - feature:/osx-arm64::__osx==12.6.1=0\r\n",
      "  - feature:|@/osx-arm64::__osx==12.6.1=0\r\n",
      "  - pytorch -> __osx[version='>=11.0']\r\n",
      "  - torchvision -> pytorch[version='>=1.12.0,<1.13.0a0'] -> __osx[version='>=11.0']\r\n",
      "\r\n",
      "Your installed version is: 12.6.1\r\n",
      "\r\n",
      "\r\n"
     ]
    }
   ],
   "source": [
    "!conda install pytorch torchvision torchaudio -c pytorch-nightly"
   ]
  },
  {
   "cell_type": "code",
   "execution_count": 4,
   "outputs": [],
   "source": [
    "import torch"
   ],
   "metadata": {
    "collapsed": false
   }
  },
  {
   "cell_type": "code",
   "execution_count": 5,
   "outputs": [],
   "source": [
    "import math"
   ],
   "metadata": {
    "collapsed": false
   }
  },
  {
   "cell_type": "code",
   "execution_count": 6,
   "outputs": [
    {
     "name": "stdout",
     "output_type": "stream",
     "text": [
      "True\n"
     ]
    }
   ],
   "source": [
    "print(torch.backends.mps.is_available())"
   ],
   "metadata": {
    "collapsed": false
   }
  },
  {
   "cell_type": "code",
   "execution_count": 7,
   "outputs": [
    {
     "name": "stdout",
     "output_type": "stream",
     "text": [
      "True\n"
     ]
    }
   ],
   "source": [
    "print(torch.backends.mps.is_built())"
   ],
   "metadata": {
    "collapsed": false
   }
  },
  {
   "cell_type": "code",
   "execution_count": 8,
   "outputs": [
    {
     "name": "stdout",
     "output_type": "stream",
     "text": [
      "99 758.8839721679688\n",
      "199 531.150390625\n",
      "299 372.85858154296875\n",
      "399 262.73626708984375\n",
      "499 186.0600128173828\n",
      "599 132.62744140625\n",
      "699 95.36326599121094\n",
      "799 69.3552474975586\n",
      "899 51.18992614746094\n",
      "999 38.49342346191406\n",
      "1099 29.61334991455078\n",
      "1199 23.398578643798828\n",
      "1299 19.04644012451172\n",
      "1399 15.996870994567871\n",
      "1499 13.858831405639648\n",
      "1599 12.359094619750977\n",
      "1699 11.306547164916992\n",
      "1799 10.567497253417969\n",
      "1899 10.04832649230957\n",
      "1999 9.683464050292969\n",
      "Result: y = 0.029862187802791595 + 0.864895761013031 x + -0.005151723511517048 x^2 + -0.09449037164449692 x^3\n"
     ]
    }
   ],
   "source": [
    "dtype = torch.float\n",
    "device = torch.device(\"mps\")\n",
    "\n",
    "# Create random input and output data\n",
    "x = torch.linspace(-math.pi, math.pi, 2000, device=device, dtype=dtype)\n",
    "y = torch.sin(x)\n",
    "\n",
    "# Randomly initialize weights\n",
    "a = torch.randn((), device=device, dtype=dtype)\n",
    "b = torch.randn((), device=device, dtype=dtype)\n",
    "c = torch.randn((), device=device, dtype=dtype)\n",
    "d = torch.randn((), device=device, dtype=dtype)\n",
    "\n",
    "learning_rate = 1e-6\n",
    "for t in range(2000):\n",
    "    # Forward pass: compute predicted y\n",
    "    y_pred = a + b * x + c * x ** 2 + d * x ** 3\n",
    "\n",
    "    # Compute and print loss\n",
    "    loss = (y_pred - y).pow(2).sum().item()\n",
    "    if t % 100 == 99:\n",
    "        print(t, loss)\n",
    "\n",
    "    # Backprop to compute gradients of a, b, c, d with respect to loss\n",
    "    grad_y_pred = 2.0 * (y_pred - y)\n",
    "    grad_a = grad_y_pred.sum()\n",
    "    grad_b = (grad_y_pred * x).sum()\n",
    "    grad_c = (grad_y_pred * x ** 2).sum()\n",
    "    grad_d = (grad_y_pred * x ** 3).sum()\n",
    "\n",
    "    # Update weights using gradient descent\n",
    "    a -= learning_rate * grad_a\n",
    "    b -= learning_rate * grad_b\n",
    "    c -= learning_rate * grad_c\n",
    "    d -= learning_rate * grad_d\n",
    "\n",
    "\n",
    "print(f'Result: y = {a.item()} + {b.item()} x + {c.item()} x^2 + {d.item()} x^3')"
   ],
   "metadata": {
    "collapsed": false
   }
  },
  {
   "cell_type": "code",
   "execution_count": null,
   "outputs": [],
   "source": [],
   "metadata": {
    "collapsed": false
   }
  }
 ],
 "metadata": {
  "kernelspec": {
   "display_name": "Python 3",
   "language": "python",
   "name": "python3"
  },
  "language_info": {
   "codemirror_mode": {
    "name": "ipython",
    "version": 2
   },
   "file_extension": ".py",
   "mimetype": "text/x-python",
   "name": "python",
   "nbconvert_exporter": "python",
   "pygments_lexer": "ipython2",
   "version": "2.7.6"
  }
 },
 "nbformat": 4,
 "nbformat_minor": 0
}
