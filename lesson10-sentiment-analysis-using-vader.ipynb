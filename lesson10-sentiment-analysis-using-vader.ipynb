{
 "cells": [
  {
   "cell_type": "code",
   "execution_count": 2,
   "outputs": [],
   "source": [
    "import pandas as pd\n",
    "import re\n",
    "import matplotlib.pyplot as plt\n",
    "%matplotlib inline"
   ],
   "metadata": {
    "collapsed": false
   }
  },
  {
   "cell_type": "code",
   "execution_count": 9,
   "outputs": [],
   "source": [
    "data_source_url = \"reviews_sample.csv\"\n",
    "amazon_reviews = pd.read_csv(data_source_url)"
   ],
   "metadata": {
    "collapsed": false
   }
  },
  {
   "cell_type": "code",
   "execution_count": 10,
   "outputs": [
    {
     "data": {
      "text/plain": "                                              review label\n0  Stuning even for the non-gamer: This sound tra...   pos\n1  The best soundtrack ever to anything.: I'm rea...   pos\n2  Amazing!: This soundtrack is my favorite music...   pos\n3  Excellent Soundtrack: I truly like this soundt...   pos\n4  Remember, Pull Your Jaw Off The Floor After He...   pos",
      "text/html": "<div>\n<style scoped>\n    .dataframe tbody tr th:only-of-type {\n        vertical-align: middle;\n    }\n\n    .dataframe tbody tr th {\n        vertical-align: top;\n    }\n\n    .dataframe thead th {\n        text-align: right;\n    }\n</style>\n<table border=\"1\" class=\"dataframe\">\n  <thead>\n    <tr style=\"text-align: right;\">\n      <th></th>\n      <th>review</th>\n      <th>label</th>\n    </tr>\n  </thead>\n  <tbody>\n    <tr>\n      <th>0</th>\n      <td>Stuning even for the non-gamer: This sound tra...</td>\n      <td>pos</td>\n    </tr>\n    <tr>\n      <th>1</th>\n      <td>The best soundtrack ever to anything.: I'm rea...</td>\n      <td>pos</td>\n    </tr>\n    <tr>\n      <th>2</th>\n      <td>Amazing!: This soundtrack is my favorite music...</td>\n      <td>pos</td>\n    </tr>\n    <tr>\n      <th>3</th>\n      <td>Excellent Soundtrack: I truly like this soundt...</td>\n      <td>pos</td>\n    </tr>\n    <tr>\n      <th>4</th>\n      <td>Remember, Pull Your Jaw Off The Floor After He...</td>\n      <td>pos</td>\n    </tr>\n  </tbody>\n</table>\n</div>"
     },
     "execution_count": 10,
     "metadata": {},
     "output_type": "execute_result"
    }
   ],
   "source": [
    "amazon_reviews.head()"
   ],
   "metadata": {
    "collapsed": false
   }
  },
  {
   "cell_type": "code",
   "execution_count": 11,
   "outputs": [
    {
     "name": "stderr",
     "output_type": "stream",
     "text": [
      "[nltk_data] Downloading package vader_lexicon to\n",
      "[nltk_data]     /Users/yairl/nltk_data...\n",
      "[nltk_data]   Package vader_lexicon is already up-to-date!\n"
     ]
    },
    {
     "data": {
      "text/plain": "True"
     },
     "execution_count": 11,
     "metadata": {},
     "output_type": "execute_result"
    }
   ],
   "source": [
    "import nltk\n",
    "nltk.download('vader_lexicon')"
   ],
   "metadata": {
    "collapsed": false
   }
  },
  {
   "cell_type": "code",
   "execution_count": 12,
   "outputs": [],
   "source": [
    "from nltk.sentiment.vader import SentimentIntensityAnalyzer\n",
    "sid = SentimentIntensityAnalyzer()"
   ],
   "metadata": {
    "collapsed": false
   }
  },
  {
   "cell_type": "code",
   "execution_count": 13,
   "outputs": [
    {
     "data": {
      "text/plain": "{'neg': 0.0, 'neu': 0.508, 'pos': 0.492, 'compound': 0.4404}"
     },
     "execution_count": 13,
     "metadata": {},
     "output_type": "execute_result"
    }
   ],
   "source": [
    "a = 'This was a good movie.'\n",
    "sid.polarity_scores(a)"
   ],
   "metadata": {
    "collapsed": false
   }
  },
  {
   "cell_type": "code",
   "execution_count": 14,
   "outputs": [
    {
     "data": {
      "text/plain": "{'neg': 0.0, 'neu': 0.425, 'pos': 0.575, 'compound': 0.8877}"
     },
     "execution_count": 14,
     "metadata": {},
     "output_type": "execute_result"
    }
   ],
   "source": [
    "a = 'This was the best, most awesome movie EVER MADE!!!'\n",
    "sid.polarity_scores(a)\n"
   ],
   "metadata": {
    "collapsed": false
   }
  },
  {
   "cell_type": "code",
   "execution_count": 15,
   "outputs": [
    {
     "data": {
      "text/plain": "pos    10257\nneg     9742\nName: label, dtype: int64"
     },
     "execution_count": 15,
     "metadata": {},
     "output_type": "execute_result"
    }
   ],
   "source": [
    "amazon_reviews['label'].value_counts()"
   ],
   "metadata": {
    "collapsed": false
   }
  },
  {
   "cell_type": "code",
   "execution_count": 16,
   "outputs": [],
   "source": [
    "amazon_reviews.dropna(inplace=True)\n",
    "\n",
    "blanks = []  # start with an empty list\n",
    "\n",
    "for i,lb,rv in amazon_reviews.itertuples():\n",
    "    if type(rv)==str:\n",
    "        if rv.isspace():\n",
    "            blanks.append(i)\n",
    "\n",
    "amazon_reviews.drop(blanks, inplace=True)"
   ],
   "metadata": {
    "collapsed": false
   }
  },
  {
   "cell_type": "code",
   "execution_count": 17,
   "outputs": [],
   "source": [
    "amazon_reviews['scores'] = amazon_reviews['review'].apply(lambda review: sid.polarity_scores(review))"
   ],
   "metadata": {
    "collapsed": false
   }
  },
  {
   "cell_type": "code",
   "execution_count": 18,
   "outputs": [
    {
     "data": {
      "text/plain": "                                              review label  \\\n0  Stuning even for the non-gamer: This sound tra...   pos   \n1  The best soundtrack ever to anything.: I'm rea...   pos   \n2  Amazing!: This soundtrack is my favorite music...   pos   \n3  Excellent Soundtrack: I truly like this soundt...   pos   \n4  Remember, Pull Your Jaw Off The Floor After He...   pos   \n\n                                              scores  \n0  {'neg': 0.088, 'neu': 0.669, 'pos': 0.243, 'co...  \n1  {'neg': 0.018, 'neu': 0.837, 'pos': 0.145, 'co...  \n2  {'neg': 0.04, 'neu': 0.692, 'pos': 0.268, 'com...  \n3  {'neg': 0.09, 'neu': 0.615, 'pos': 0.295, 'com...  \n4  {'neg': 0.0, 'neu': 0.746, 'pos': 0.254, 'comp...  ",
      "text/html": "<div>\n<style scoped>\n    .dataframe tbody tr th:only-of-type {\n        vertical-align: middle;\n    }\n\n    .dataframe tbody tr th {\n        vertical-align: top;\n    }\n\n    .dataframe thead th {\n        text-align: right;\n    }\n</style>\n<table border=\"1\" class=\"dataframe\">\n  <thead>\n    <tr style=\"text-align: right;\">\n      <th></th>\n      <th>review</th>\n      <th>label</th>\n      <th>scores</th>\n    </tr>\n  </thead>\n  <tbody>\n    <tr>\n      <th>0</th>\n      <td>Stuning even for the non-gamer: This sound tra...</td>\n      <td>pos</td>\n      <td>{'neg': 0.088, 'neu': 0.669, 'pos': 0.243, 'co...</td>\n    </tr>\n    <tr>\n      <th>1</th>\n      <td>The best soundtrack ever to anything.: I'm rea...</td>\n      <td>pos</td>\n      <td>{'neg': 0.018, 'neu': 0.837, 'pos': 0.145, 'co...</td>\n    </tr>\n    <tr>\n      <th>2</th>\n      <td>Amazing!: This soundtrack is my favorite music...</td>\n      <td>pos</td>\n      <td>{'neg': 0.04, 'neu': 0.692, 'pos': 0.268, 'com...</td>\n    </tr>\n    <tr>\n      <th>3</th>\n      <td>Excellent Soundtrack: I truly like this soundt...</td>\n      <td>pos</td>\n      <td>{'neg': 0.09, 'neu': 0.615, 'pos': 0.295, 'com...</td>\n    </tr>\n    <tr>\n      <th>4</th>\n      <td>Remember, Pull Your Jaw Off The Floor After He...</td>\n      <td>pos</td>\n      <td>{'neg': 0.0, 'neu': 0.746, 'pos': 0.254, 'comp...</td>\n    </tr>\n  </tbody>\n</table>\n</div>"
     },
     "execution_count": 18,
     "metadata": {},
     "output_type": "execute_result"
    }
   ],
   "source": [
    "amazon_reviews.head()"
   ],
   "metadata": {
    "collapsed": false
   }
  },
  {
   "cell_type": "code",
   "execution_count": 20,
   "outputs": [],
   "source": [
    "amazon_reviews['compound']  = amazon_reviews['scores'].apply(lambda score_dict: score_dict['compound'])"
   ],
   "metadata": {
    "collapsed": false
   }
  },
  {
   "cell_type": "code",
   "execution_count": 26,
   "outputs": [
    {
     "data": {
      "text/plain": "                                              review label  \\\n0  Stuning even for the non-gamer: This sound tra...   pos   \n1  The best soundtrack ever to anything.: I'm rea...   pos   \n2  Amazing!: This soundtrack is my favorite music...   pos   \n3  Excellent Soundtrack: I truly like this soundt...   pos   \n4  Remember, Pull Your Jaw Off The Floor After He...   pos   \n\n                                              scores  compound comp_score  \n0  {'neg': 0.088, 'neu': 0.669, 'pos': 0.243, 'co...    0.9454        pos  \n1  {'neg': 0.018, 'neu': 0.837, 'pos': 0.145, 'co...    0.8957        pos  \n2  {'neg': 0.04, 'neu': 0.692, 'pos': 0.268, 'com...    0.9858        pos  \n3  {'neg': 0.09, 'neu': 0.615, 'pos': 0.295, 'com...    0.9814        pos  \n4  {'neg': 0.0, 'neu': 0.746, 'pos': 0.254, 'comp...    0.9781        pos  ",
      "text/html": "<div>\n<style scoped>\n    .dataframe tbody tr th:only-of-type {\n        vertical-align: middle;\n    }\n\n    .dataframe tbody tr th {\n        vertical-align: top;\n    }\n\n    .dataframe thead th {\n        text-align: right;\n    }\n</style>\n<table border=\"1\" class=\"dataframe\">\n  <thead>\n    <tr style=\"text-align: right;\">\n      <th></th>\n      <th>review</th>\n      <th>label</th>\n      <th>scores</th>\n      <th>compound</th>\n      <th>comp_score</th>\n    </tr>\n  </thead>\n  <tbody>\n    <tr>\n      <th>0</th>\n      <td>Stuning even for the non-gamer: This sound tra...</td>\n      <td>pos</td>\n      <td>{'neg': 0.088, 'neu': 0.669, 'pos': 0.243, 'co...</td>\n      <td>0.9454</td>\n      <td>pos</td>\n    </tr>\n    <tr>\n      <th>1</th>\n      <td>The best soundtrack ever to anything.: I'm rea...</td>\n      <td>pos</td>\n      <td>{'neg': 0.018, 'neu': 0.837, 'pos': 0.145, 'co...</td>\n      <td>0.8957</td>\n      <td>pos</td>\n    </tr>\n    <tr>\n      <th>2</th>\n      <td>Amazing!: This soundtrack is my favorite music...</td>\n      <td>pos</td>\n      <td>{'neg': 0.04, 'neu': 0.692, 'pos': 0.268, 'com...</td>\n      <td>0.9858</td>\n      <td>pos</td>\n    </tr>\n    <tr>\n      <th>3</th>\n      <td>Excellent Soundtrack: I truly like this soundt...</td>\n      <td>pos</td>\n      <td>{'neg': 0.09, 'neu': 0.615, 'pos': 0.295, 'com...</td>\n      <td>0.9814</td>\n      <td>pos</td>\n    </tr>\n    <tr>\n      <th>4</th>\n      <td>Remember, Pull Your Jaw Off The Floor After He...</td>\n      <td>pos</td>\n      <td>{'neg': 0.0, 'neu': 0.746, 'pos': 0.254, 'comp...</td>\n      <td>0.9781</td>\n      <td>pos</td>\n    </tr>\n  </tbody>\n</table>\n</div>"
     },
     "execution_count": 26,
     "metadata": {},
     "output_type": "execute_result"
    }
   ],
   "source": [
    "amazon_reviews.head()"
   ],
   "metadata": {
    "collapsed": false
   }
  },
  {
   "cell_type": "code",
   "execution_count": 21,
   "outputs": [],
   "source": [
    "amazon_reviews['comp_score'] = amazon_reviews['compound'].apply(lambda c: 'pos' if c >=0 else 'neg')"
   ],
   "metadata": {
    "collapsed": false
   }
  },
  {
   "cell_type": "code",
   "execution_count": 25,
   "outputs": [
    {
     "data": {
      "text/plain": "                                                  review label  \\\n0      Stuning even for the non-gamer: This sound tra...   pos   \n1      The best soundtrack ever to anything.: I'm rea...   pos   \n2      Amazing!: This soundtrack is my favorite music...   pos   \n3      Excellent Soundtrack: I truly like this soundt...   pos   \n4      Remember, Pull Your Jaw Off The Floor After He...   pos   \n...                                                  ...   ...   \n19994  Rip-off: I liked Flint, I trusted him to deliv...   neg   \n19995  Very disappointing: I have previously bought t...   neg   \n19996  Tedious collection of stories about a goat.: I...   neg   \n19997  Disappointed: I love the 1632 series. I have b...   neg   \n19998  Pretty Disappointing: I have to say that after...   neg   \n\n                                                  scores  compound comp_score  \n0      {'neg': 0.088, 'neu': 0.669, 'pos': 0.243, 'co...    0.9454        pos  \n1      {'neg': 0.018, 'neu': 0.837, 'pos': 0.145, 'co...    0.8957        pos  \n2      {'neg': 0.04, 'neu': 0.692, 'pos': 0.268, 'com...    0.9858        pos  \n3      {'neg': 0.09, 'neu': 0.615, 'pos': 0.295, 'com...    0.9814        pos  \n4      {'neg': 0.0, 'neu': 0.746, 'pos': 0.254, 'comp...    0.9781        pos  \n...                                                  ...       ...        ...  \n19994  {'neg': 0.084, 'neu': 0.83, 'pos': 0.086, 'com...   -0.2144        neg  \n19995  {'neg': 0.23, 'neu': 0.714, 'pos': 0.056, 'com...   -0.8748        neg  \n19996  {'neg': 0.071, 'neu': 0.786, 'pos': 0.143, 'co...    0.8040        pos  \n19997  {'neg': 0.081, 'neu': 0.784, 'pos': 0.135, 'co...    0.6487        pos  \n19998  {'neg': 0.084, 'neu': 0.715, 'pos': 0.201, 'co...    0.9100        pos  \n\n[19999 rows x 5 columns]",
      "text/html": "<div>\n<style scoped>\n    .dataframe tbody tr th:only-of-type {\n        vertical-align: middle;\n    }\n\n    .dataframe tbody tr th {\n        vertical-align: top;\n    }\n\n    .dataframe thead th {\n        text-align: right;\n    }\n</style>\n<table border=\"1\" class=\"dataframe\">\n  <thead>\n    <tr style=\"text-align: right;\">\n      <th></th>\n      <th>review</th>\n      <th>label</th>\n      <th>scores</th>\n      <th>compound</th>\n      <th>comp_score</th>\n    </tr>\n  </thead>\n  <tbody>\n    <tr>\n      <th>0</th>\n      <td>Stuning even for the non-gamer: This sound tra...</td>\n      <td>pos</td>\n      <td>{'neg': 0.088, 'neu': 0.669, 'pos': 0.243, 'co...</td>\n      <td>0.9454</td>\n      <td>pos</td>\n    </tr>\n    <tr>\n      <th>1</th>\n      <td>The best soundtrack ever to anything.: I'm rea...</td>\n      <td>pos</td>\n      <td>{'neg': 0.018, 'neu': 0.837, 'pos': 0.145, 'co...</td>\n      <td>0.8957</td>\n      <td>pos</td>\n    </tr>\n    <tr>\n      <th>2</th>\n      <td>Amazing!: This soundtrack is my favorite music...</td>\n      <td>pos</td>\n      <td>{'neg': 0.04, 'neu': 0.692, 'pos': 0.268, 'com...</td>\n      <td>0.9858</td>\n      <td>pos</td>\n    </tr>\n    <tr>\n      <th>3</th>\n      <td>Excellent Soundtrack: I truly like this soundt...</td>\n      <td>pos</td>\n      <td>{'neg': 0.09, 'neu': 0.615, 'pos': 0.295, 'com...</td>\n      <td>0.9814</td>\n      <td>pos</td>\n    </tr>\n    <tr>\n      <th>4</th>\n      <td>Remember, Pull Your Jaw Off The Floor After He...</td>\n      <td>pos</td>\n      <td>{'neg': 0.0, 'neu': 0.746, 'pos': 0.254, 'comp...</td>\n      <td>0.9781</td>\n      <td>pos</td>\n    </tr>\n    <tr>\n      <th>...</th>\n      <td>...</td>\n      <td>...</td>\n      <td>...</td>\n      <td>...</td>\n      <td>...</td>\n    </tr>\n    <tr>\n      <th>19994</th>\n      <td>Rip-off: I liked Flint, I trusted him to deliv...</td>\n      <td>neg</td>\n      <td>{'neg': 0.084, 'neu': 0.83, 'pos': 0.086, 'com...</td>\n      <td>-0.2144</td>\n      <td>neg</td>\n    </tr>\n    <tr>\n      <th>19995</th>\n      <td>Very disappointing: I have previously bought t...</td>\n      <td>neg</td>\n      <td>{'neg': 0.23, 'neu': 0.714, 'pos': 0.056, 'com...</td>\n      <td>-0.8748</td>\n      <td>neg</td>\n    </tr>\n    <tr>\n      <th>19996</th>\n      <td>Tedious collection of stories about a goat.: I...</td>\n      <td>neg</td>\n      <td>{'neg': 0.071, 'neu': 0.786, 'pos': 0.143, 'co...</td>\n      <td>0.8040</td>\n      <td>pos</td>\n    </tr>\n    <tr>\n      <th>19997</th>\n      <td>Disappointed: I love the 1632 series. I have b...</td>\n      <td>neg</td>\n      <td>{'neg': 0.081, 'neu': 0.784, 'pos': 0.135, 'co...</td>\n      <td>0.6487</td>\n      <td>pos</td>\n    </tr>\n    <tr>\n      <th>19998</th>\n      <td>Pretty Disappointing: I have to say that after...</td>\n      <td>neg</td>\n      <td>{'neg': 0.084, 'neu': 0.715, 'pos': 0.201, 'co...</td>\n      <td>0.9100</td>\n      <td>pos</td>\n    </tr>\n  </tbody>\n</table>\n<p>19999 rows × 5 columns</p>\n</div>"
     },
     "execution_count": 25,
     "metadata": {},
     "output_type": "execute_result"
    }
   ],
   "source": [
    "amazon_reviews"
   ],
   "metadata": {
    "collapsed": false
   }
  },
  {
   "cell_type": "code",
   "execution_count": 30,
   "outputs": [],
   "source": [
    "amazon_reviews['agreement'] = amazon_reviews['label'] == amazon_reviews['comp_score']"
   ],
   "metadata": {
    "collapsed": false
   }
  },
  {
   "cell_type": "code",
   "execution_count": 35,
   "outputs": [
    {
     "data": {
      "text/plain": "                                                  review label  \\\n0      Stuning even for the non-gamer: This sound tra...   pos   \n1      The best soundtrack ever to anything.: I'm rea...   pos   \n2      Amazing!: This soundtrack is my favorite music...   pos   \n3      Excellent Soundtrack: I truly like this soundt...   pos   \n4      Remember, Pull Your Jaw Off The Floor After He...   pos   \n...                                                  ...   ...   \n19994  Rip-off: I liked Flint, I trusted him to deliv...   neg   \n19995  Very disappointing: I have previously bought t...   neg   \n19996  Tedious collection of stories about a goat.: I...   pos   \n19997  Disappointed: I love the 1632 series. I have b...   pos   \n19998  Pretty Disappointing: I have to say that after...   pos   \n\n                                                  scores  compound comp_score  \\\n0      {'neg': 0.088, 'neu': 0.669, 'pos': 0.243, 'co...    0.9454        pos   \n1      {'neg': 0.018, 'neu': 0.837, 'pos': 0.145, 'co...    0.8957        pos   \n2      {'neg': 0.04, 'neu': 0.692, 'pos': 0.268, 'com...    0.9858        pos   \n3      {'neg': 0.09, 'neu': 0.615, 'pos': 0.295, 'com...    0.9814        pos   \n4      {'neg': 0.0, 'neu': 0.746, 'pos': 0.254, 'comp...    0.9781        pos   \n...                                                  ...       ...        ...   \n19994  {'neg': 0.084, 'neu': 0.83, 'pos': 0.086, 'com...   -0.2144        neg   \n19995  {'neg': 0.23, 'neu': 0.714, 'pos': 0.056, 'com...   -0.8748        neg   \n19996  {'neg': 0.071, 'neu': 0.786, 'pos': 0.143, 'co...    0.8040        pos   \n19997  {'neg': 0.081, 'neu': 0.784, 'pos': 0.135, 'co...    0.6487        pos   \n19998  {'neg': 0.084, 'neu': 0.715, 'pos': 0.201, 'co...    0.9100        pos   \n\n       agreement  \n0           True  \n1           True  \n2           True  \n3           True  \n4           True  \n...          ...  \n19994       True  \n19995       True  \n19996       True  \n19997       True  \n19998       True  \n\n[19999 rows x 6 columns]",
      "text/html": "<div>\n<style scoped>\n    .dataframe tbody tr th:only-of-type {\n        vertical-align: middle;\n    }\n\n    .dataframe tbody tr th {\n        vertical-align: top;\n    }\n\n    .dataframe thead th {\n        text-align: right;\n    }\n</style>\n<table border=\"1\" class=\"dataframe\">\n  <thead>\n    <tr style=\"text-align: right;\">\n      <th></th>\n      <th>review</th>\n      <th>label</th>\n      <th>scores</th>\n      <th>compound</th>\n      <th>comp_score</th>\n      <th>agreement</th>\n    </tr>\n  </thead>\n  <tbody>\n    <tr>\n      <th>0</th>\n      <td>Stuning even for the non-gamer: This sound tra...</td>\n      <td>pos</td>\n      <td>{'neg': 0.088, 'neu': 0.669, 'pos': 0.243, 'co...</td>\n      <td>0.9454</td>\n      <td>pos</td>\n      <td>True</td>\n    </tr>\n    <tr>\n      <th>1</th>\n      <td>The best soundtrack ever to anything.: I'm rea...</td>\n      <td>pos</td>\n      <td>{'neg': 0.018, 'neu': 0.837, 'pos': 0.145, 'co...</td>\n      <td>0.8957</td>\n      <td>pos</td>\n      <td>True</td>\n    </tr>\n    <tr>\n      <th>2</th>\n      <td>Amazing!: This soundtrack is my favorite music...</td>\n      <td>pos</td>\n      <td>{'neg': 0.04, 'neu': 0.692, 'pos': 0.268, 'com...</td>\n      <td>0.9858</td>\n      <td>pos</td>\n      <td>True</td>\n    </tr>\n    <tr>\n      <th>3</th>\n      <td>Excellent Soundtrack: I truly like this soundt...</td>\n      <td>pos</td>\n      <td>{'neg': 0.09, 'neu': 0.615, 'pos': 0.295, 'com...</td>\n      <td>0.9814</td>\n      <td>pos</td>\n      <td>True</td>\n    </tr>\n    <tr>\n      <th>4</th>\n      <td>Remember, Pull Your Jaw Off The Floor After He...</td>\n      <td>pos</td>\n      <td>{'neg': 0.0, 'neu': 0.746, 'pos': 0.254, 'comp...</td>\n      <td>0.9781</td>\n      <td>pos</td>\n      <td>True</td>\n    </tr>\n    <tr>\n      <th>...</th>\n      <td>...</td>\n      <td>...</td>\n      <td>...</td>\n      <td>...</td>\n      <td>...</td>\n      <td>...</td>\n    </tr>\n    <tr>\n      <th>19994</th>\n      <td>Rip-off: I liked Flint, I trusted him to deliv...</td>\n      <td>neg</td>\n      <td>{'neg': 0.084, 'neu': 0.83, 'pos': 0.086, 'com...</td>\n      <td>-0.2144</td>\n      <td>neg</td>\n      <td>True</td>\n    </tr>\n    <tr>\n      <th>19995</th>\n      <td>Very disappointing: I have previously bought t...</td>\n      <td>neg</td>\n      <td>{'neg': 0.23, 'neu': 0.714, 'pos': 0.056, 'com...</td>\n      <td>-0.8748</td>\n      <td>neg</td>\n      <td>True</td>\n    </tr>\n    <tr>\n      <th>19996</th>\n      <td>Tedious collection of stories about a goat.: I...</td>\n      <td>pos</td>\n      <td>{'neg': 0.071, 'neu': 0.786, 'pos': 0.143, 'co...</td>\n      <td>0.8040</td>\n      <td>pos</td>\n      <td>True</td>\n    </tr>\n    <tr>\n      <th>19997</th>\n      <td>Disappointed: I love the 1632 series. I have b...</td>\n      <td>pos</td>\n      <td>{'neg': 0.081, 'neu': 0.784, 'pos': 0.135, 'co...</td>\n      <td>0.6487</td>\n      <td>pos</td>\n      <td>True</td>\n    </tr>\n    <tr>\n      <th>19998</th>\n      <td>Pretty Disappointing: I have to say that after...</td>\n      <td>pos</td>\n      <td>{'neg': 0.084, 'neu': 0.715, 'pos': 0.201, 'co...</td>\n      <td>0.9100</td>\n      <td>pos</td>\n      <td>True</td>\n    </tr>\n  </tbody>\n</table>\n<p>19999 rows × 6 columns</p>\n</div>"
     },
     "execution_count": 35,
     "metadata": {},
     "output_type": "execute_result"
    }
   ],
   "source": [
    "amazon_reviews"
   ],
   "metadata": {
    "collapsed": false
   }
  },
  {
   "cell_type": "code",
   "execution_count": 33,
   "outputs": [
    {
     "data": {
      "text/plain": "(19999, 6)"
     },
     "execution_count": 33,
     "metadata": {},
     "output_type": "execute_result"
    }
   ],
   "source": [
    "amazon_reviews.shape"
   ],
   "metadata": {
    "collapsed": false
   }
  },
  {
   "cell_type": "code",
   "execution_count": 34,
   "outputs": [
    {
     "data": {
      "text/plain": "True    19999\nName: agreement, dtype: int64"
     },
     "execution_count": 34,
     "metadata": {},
     "output_type": "execute_result"
    }
   ],
   "source": [
    "amazon_reviews.agreement.value_counts()"
   ],
   "metadata": {
    "collapsed": false
   }
  },
  {
   "cell_type": "code",
   "execution_count": null,
   "outputs": [],
   "source": [],
   "metadata": {
    "collapsed": false
   }
  }
 ],
 "metadata": {
  "kernelspec": {
   "display_name": "Python 3",
   "language": "python",
   "name": "python3"
  },
  "language_info": {
   "codemirror_mode": {
    "name": "ipython",
    "version": 2
   },
   "file_extension": ".py",
   "mimetype": "text/x-python",
   "name": "python",
   "nbconvert_exporter": "python",
   "pygments_lexer": "ipython2",
   "version": "2.7.6"
  }
 },
 "nbformat": 4,
 "nbformat_minor": 0
}
