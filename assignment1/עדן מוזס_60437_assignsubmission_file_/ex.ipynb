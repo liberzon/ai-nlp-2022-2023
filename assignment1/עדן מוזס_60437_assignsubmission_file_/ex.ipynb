{
 "cells": [
  {
   "cell_type": "code",
   "execution_count": 1,
   "metadata": {
    "colab": {
     "base_uri": "https://localhost:8080/"
    },
    "id": "_D8t9Ya8L4nN",
    "outputId": "a6ad13f6-df50-4e36-a60a-dc5299e32039"
   },
   "outputs": [
    {
     "name": "stdout",
     "output_type": "stream",
     "text": [
      "Collecting package metadata (current_repodata.json): ...working... done"
     ]
    },
    {
     "name": "stderr",
     "output_type": "stream",
     "text": [
      "\n",
      "PackagesNotFoundError: The following packages are not available from current channels:\n",
      "\n",
      "  - sklearn\n",
      "\n",
      "Current channels:\n",
      "\n",
      "  - https://repo.anaconda.com/pkgs/main/win-64\n",
      "  - https://repo.anaconda.com/pkgs/main/noarch\n",
      "  - https://repo.anaconda.com/pkgs/r/win-64\n",
      "  - https://repo.anaconda.com/pkgs/r/noarch\n",
      "  - https://repo.anaconda.com/pkgs/msys2/win-64\n",
      "  - https://repo.anaconda.com/pkgs/msys2/noarch\n",
      "\n",
      "To search for alternate channels that may provide the conda package you're\n",
      "looking for, navigate to\n",
      "\n",
      "    https://anaconda.org\n",
      "\n",
      "and use the search bar at the top of the page.\n",
      "\n",
      "\n"
     ]
    },
    {
     "name": "stdout",
     "output_type": "stream",
     "text": [
      "\n",
      "Solving environment: ...working... failed with initial frozen solve. Retrying with flexible solve.\n",
      "Collecting package metadata (repodata.json): ...working... done\n",
      "Solving environment: ...working... failed with initial frozen solve. Retrying with flexible solve.\n",
      "Collecting package metadata (current_repodata.json): ...working... done\n",
      "Solving environment: ...working... done\n",
      "\n",
      "# All requested packages already installed.\n",
      "\n"
     ]
    },
    {
     "name": "stderr",
     "output_type": "stream",
     "text": [
      "\n",
      "\n",
      "==> WARNING: A newer version of conda exists. <==\n",
      "  current version: 4.9.2\n",
      "  latest version: 22.11.1\n",
      "\n",
      "Please update conda by running\n",
      "\n",
      "    $ conda update -n base -c defaults conda\n",
      "\n",
      "\n"
     ]
    },
    {
     "name": "stdout",
     "output_type": "stream",
     "text": [
      "Collecting package metadata (current_repodata.json): ...working... done\n",
      "Solving environment: ...working... done\n",
      "\n",
      "# All requested packages already installed.\n",
      "\n"
     ]
    },
    {
     "name": "stderr",
     "output_type": "stream",
     "text": [
      "\n",
      "\n",
      "==> WARNING: A newer version of conda exists. <==\n",
      "  current version: 4.9.2\n",
      "  latest version: 22.11.1\n",
      "\n",
      "Please update conda by running\n",
      "\n",
      "    $ conda update -n base -c defaults conda\n",
      "\n",
      "\n"
     ]
    }
   ],
   "source": [
    "!conda install --yes sklearn\n",
    "!conda install --yes pandas\n",
    "!conda install --yes nltk"
   ]
  },
  {
   "cell_type": "code",
   "execution_count": 2,
   "metadata": {
    "id": "J6xcZQE-2A00"
   },
   "outputs": [],
   "source": [
    "import pandas as pd\n",
    "from sklearn.model_selection import train_test_split\n",
    "from sklearn.feature_extraction.text import CountVectorizer, TfidfTransformer\n",
    "from sklearn.tree import DecisionTreeClassifier\n",
    "from sklearn.ensemble import RandomForestClassifier\n",
    "from sklearn.metrics import accuracy_score"
   ]
  },
  {
   "cell_type": "code",
   "execution_count": 3,
   "metadata": {
    "colab": {
     "base_uri": "https://localhost:8080/"
    },
    "id": "xxpoVihT7gvf",
    "outputId": "de77260b-75ee-4ed8-c149-519875da56a3"
   },
   "outputs": [
    {
     "name": "stderr",
     "output_type": "stream",
     "text": [
      "[nltk_data] Downloading package stopwords to\n",
      "[nltk_data]     C:\\Users\\levil\\AppData\\Roaming\\nltk_data...\n",
      "[nltk_data]   Unzipping corpora\\stopwords.zip.\n",
      "[nltk_data] Downloading package punkt to\n",
      "[nltk_data]     C:\\Users\\levil\\AppData\\Roaming\\nltk_data...\n",
      "[nltk_data]   Unzipping tokenizers\\punkt.zip.\n",
      "[nltk_data] Downloading package wordnet to\n",
      "[nltk_data]     C:\\Users\\levil\\AppData\\Roaming\\nltk_data...\n",
      "[nltk_data] Downloading package omw-1.4 to\n",
      "[nltk_data]     C:\\Users\\levil\\AppData\\Roaming\\nltk_data...\n"
     ]
    }
   ],
   "source": [
    "import nltk\n",
    "nltk.download(\"stopwords\")\n",
    "nltk.download('punkt')\n",
    "nltk.download('wordnet')\n",
    "nltk.download('omw-1.4')\n",
    "from nltk.tokenize import word_tokenize\n",
    "from nltk.corpus import stopwords"
   ]
  },
  {
   "cell_type": "markdown",
   "metadata": {
    "id": "FzVI-DDQc-hv"
   },
   "source": [
    "## Tokenization"
   ]
  },
  {
   "cell_type": "code",
   "execution_count": 4,
   "metadata": {
    "colab": {
     "base_uri": "https://localhost:8080/",
     "height": 424
    },
    "id": "RiRQE0HT6E3r",
    "outputId": "9aa04359-76b2-4f03-9fe1-fb0c0e740e92"
   },
   "outputs": [
    {
     "data": {
      "text/html": [
       "<div>\n",
       "<style scoped>\n",
       "    .dataframe tbody tr th:only-of-type {\n",
       "        vertical-align: middle;\n",
       "    }\n",
       "\n",
       "    .dataframe tbody tr th {\n",
       "        vertical-align: top;\n",
       "    }\n",
       "\n",
       "    .dataframe thead th {\n",
       "        text-align: right;\n",
       "    }\n",
       "</style>\n",
       "<table border=\"1\" class=\"dataframe\">\n",
       "  <thead>\n",
       "    <tr style=\"text-align: right;\">\n",
       "      <th></th>\n",
       "      <th>label</th>\n",
       "      <th>text</th>\n",
       "      <th>label_num</th>\n",
       "    </tr>\n",
       "  </thead>\n",
       "  <tbody>\n",
       "    <tr>\n",
       "      <th>0</th>\n",
       "      <td>ham</td>\n",
       "      <td>Subject: enron methanol ; meter # : 988291\\r\\n...</td>\n",
       "      <td>0</td>\n",
       "    </tr>\n",
       "    <tr>\n",
       "      <th>1</th>\n",
       "      <td>ham</td>\n",
       "      <td>Subject: hpl nom for january 9 , 2001\\r\\n( see...</td>\n",
       "      <td>0</td>\n",
       "    </tr>\n",
       "    <tr>\n",
       "      <th>2</th>\n",
       "      <td>ham</td>\n",
       "      <td>Subject: neon retreat\\r\\nho ho ho , we ' re ar...</td>\n",
       "      <td>0</td>\n",
       "    </tr>\n",
       "    <tr>\n",
       "      <th>3</th>\n",
       "      <td>spam</td>\n",
       "      <td>Subject: photoshop , windows , office . cheap ...</td>\n",
       "      <td>1</td>\n",
       "    </tr>\n",
       "    <tr>\n",
       "      <th>4</th>\n",
       "      <td>ham</td>\n",
       "      <td>Subject: re : indian springs\\r\\nthis deal is t...</td>\n",
       "      <td>0</td>\n",
       "    </tr>\n",
       "    <tr>\n",
       "      <th>...</th>\n",
       "      <td>...</td>\n",
       "      <td>...</td>\n",
       "      <td>...</td>\n",
       "    </tr>\n",
       "    <tr>\n",
       "      <th>5166</th>\n",
       "      <td>ham</td>\n",
       "      <td>Subject: put the 10 on the ft\\r\\nthe transport...</td>\n",
       "      <td>0</td>\n",
       "    </tr>\n",
       "    <tr>\n",
       "      <th>5167</th>\n",
       "      <td>ham</td>\n",
       "      <td>Subject: 3 / 4 / 2000 and following noms\\r\\nhp...</td>\n",
       "      <td>0</td>\n",
       "    </tr>\n",
       "    <tr>\n",
       "      <th>5168</th>\n",
       "      <td>ham</td>\n",
       "      <td>Subject: calpine daily gas nomination\\r\\n&gt;\\r\\n...</td>\n",
       "      <td>0</td>\n",
       "    </tr>\n",
       "    <tr>\n",
       "      <th>5169</th>\n",
       "      <td>ham</td>\n",
       "      <td>Subject: industrial worksheets for august 2000...</td>\n",
       "      <td>0</td>\n",
       "    </tr>\n",
       "    <tr>\n",
       "      <th>5170</th>\n",
       "      <td>spam</td>\n",
       "      <td>Subject: important online banking alert\\r\\ndea...</td>\n",
       "      <td>1</td>\n",
       "    </tr>\n",
       "  </tbody>\n",
       "</table>\n",
       "<p>5171 rows × 3 columns</p>\n",
       "</div>"
      ],
      "text/plain": [
       "     label                                               text  label_num\n",
       "0      ham  Subject: enron methanol ; meter # : 988291\\r\\n...          0\n",
       "1      ham  Subject: hpl nom for january 9 , 2001\\r\\n( see...          0\n",
       "2      ham  Subject: neon retreat\\r\\nho ho ho , we ' re ar...          0\n",
       "3     spam  Subject: photoshop , windows , office . cheap ...          1\n",
       "4      ham  Subject: re : indian springs\\r\\nthis deal is t...          0\n",
       "...    ...                                                ...        ...\n",
       "5166   ham  Subject: put the 10 on the ft\\r\\nthe transport...          0\n",
       "5167   ham  Subject: 3 / 4 / 2000 and following noms\\r\\nhp...          0\n",
       "5168   ham  Subject: calpine daily gas nomination\\r\\n>\\r\\n...          0\n",
       "5169   ham  Subject: industrial worksheets for august 2000...          0\n",
       "5170  spam  Subject: important online banking alert\\r\\ndea...          1\n",
       "\n",
       "[5171 rows x 3 columns]"
      ]
     },
     "execution_count": 4,
     "metadata": {},
     "output_type": "execute_result"
    }
   ],
   "source": [
    "df = pd.read_csv('spam_ham_dataset.csv')\n",
    "df.drop(['Unnamed: 0'],axis=1, inplace=True)\n",
    "\n",
    "df"
   ]
  },
  {
   "cell_type": "code",
   "execution_count": 5,
   "metadata": {
    "id": "r0aMOYov_xWp"
   },
   "outputs": [],
   "source": [
    "import string\n",
    "\n",
    "# remove punctuation\n",
    "def remove_punkt(line):\n",
    "    updated_str = ''\n",
    "    for c in line:\n",
    "        if c not in string.punctuation:\n",
    "            updated_str += c\n",
    "    return updated_str\n",
    "\n",
    "df['cleand_text'] = df['text'].apply(remove_punkt)\n"
   ]
  },
  {
   "cell_type": "code",
   "execution_count": 6,
   "metadata": {
    "id": "fj-_QmLGd7Gi"
   },
   "outputs": [],
   "source": [
    "import re\n",
    "from nltk.tokenize import WhitespaceTokenizer\n",
    "\n",
    "# Tokenize text, sentence => list of tokens\n",
    "tokenizer_re = r\"[^a-zA-Z0-9]\"\n",
    "\n",
    "def tokenize(doc: str) -> list():\n",
    "    doc = re.sub(tokenizer_re, \" \", doc.lower())\n",
    "    return WhitespaceTokenizer().tokenize(doc)\n",
    "\n",
    "df['tokenzied'] = df['cleand_text'].apply(tokenize)\n"
   ]
  },
  {
   "cell_type": "code",
   "execution_count": 7,
   "metadata": {
    "id": "Y4gelnElgRpz"
   },
   "outputs": [],
   "source": [
    "stop_words = stopwords.words('english')\n",
    "\n",
    "# remove stop words\n",
    "def remove_stop_words(tokens):\n",
    "    updated_list = []\n",
    "    for token in tokens:\n",
    "        if token not in stop_words:\n",
    "            updated_list.append(token)\n",
    "    return updated_list\n",
    "\n",
    "df['cleaned_tokens'] = df['tokenzied'].apply(remove_stop_words)"
   ]
  },
  {
   "cell_type": "code",
   "execution_count": 8,
   "metadata": {
    "id": "4Lpo-0ekhPvG"
   },
   "outputs": [],
   "source": [
    "# lemmatize words\n",
    "lemmatizer = nltk.WordNetLemmatizer()\n",
    "\n",
    "df['lem_text'] = df['cleaned_tokens'].apply(lambda tokens: [lemmatizer.lemmatize(token) for token in tokens])"
   ]
  },
  {
   "cell_type": "code",
   "execution_count": 9,
   "metadata": {
    "id": "IMvYnsMbjOP9"
   },
   "outputs": [],
   "source": [
    "# join tokens back to sentence\n",
    "df['final_text'] = df['lem_text'].apply(lambda tokens: ' '.join(tokens))"
   ]
  },
  {
   "cell_type": "markdown",
   "metadata": {
    "id": "c8r34UHNTWXd"
   },
   "source": [
    "## EDA"
   ]
  },
  {
   "cell_type": "code",
   "execution_count": 10,
   "metadata": {
    "id": "tAGGkFaKTYJE"
   },
   "outputs": [],
   "source": [
    "import matplotlib.pyplot as plt\n",
    "plt.style.use(style=\"seaborn\")\n",
    "\n",
    "df_eda = df.copy()"
   ]
  },
  {
   "cell_type": "code",
   "execution_count": 11,
   "metadata": {
    "colab": {
     "base_uri": "https://localhost:8080/",
     "height": 483
    },
    "id": "XCNk0jEhTk_7",
    "outputId": "f0da47da-e654-45a3-f856-18d287765146"
   },
   "outputs": [
    {
     "data": {
      "image/png": "[encoded data removed]",
      "text/plain": [
       "<Figure size 1152x576 with 1 Axes>"
      ]
     },
     "metadata": {},
     "output_type": "display_data"
    }
   ],
   "source": [
    "ham = df_eda[df_eda['label'] == 'ham'].shape[0]\n",
    "spam = df_eda[df_eda['label'] == 'spam'].shape[0]\n",
    "\n",
    "plt.figure(1,figsize=(16,8))\n",
    "plt.subplot(1,2,1)\n",
    "_ = plt.bar(['Ham', 'Spam'], [ham, spam])"
   ]
  },
  {
   "cell_type": "code",
   "execution_count": 12,
   "metadata": {
    "id": "fJ1cFOWlZ6kP"
   },
   "outputs": [],
   "source": [
    "from collections import Counter\n",
    "\n",
    "# count ocuurences of every token in the dataframe\n",
    "df_eda['count'] = df_eda['lem_text'].apply(Counter)"
   ]
  },
  {
   "cell_type": "code",
   "execution_count": 13,
   "metadata": {
    "id": "OAZKDdDGaEcA"
   },
   "outputs": [],
   "source": [
    "# sum the occurences of all tokens for every category: Span and Ham\n",
    "count_words_ham = df_eda[df_eda['label']=='ham']['count'].sum()\n",
    "count_words_spam = df_eda[df_eda['label']=='spam']['count'].sum()"
   ]
  },
  {
   "cell_type": "code",
   "execution_count": 14,
   "metadata": {
    "id": "OPysWKn8YYGy"
   },
   "outputs": [],
   "source": [
    "# Convert the sum to dataframe\n",
    "df_ham = pd.DataFrame.from_dict(count_words_ham, orient='index').sort_values(by=[0], ascending=False).reset_index()\n",
    "df_spam = pd.DataFrame.from_dict(count_words_spam, orient='index').sort_values(by=[0], ascending=False).reset_index()\n"
   ]
  },
  {
   "cell_type": "markdown",
   "metadata": {
    "id": "7cuHM3lBcst6"
   },
   "source": [
    "ham mails token distribution"
   ]
  },
  {
   "cell_type": "code",
   "execution_count": 15,
   "metadata": {
    "colab": {
     "base_uri": "https://localhost:8080/",
     "height": 424
    },
    "id": "gVXQkR3Vcxbl",
    "outputId": "d7c61e38-a3fe-453b-824a-93434928c71c"
   },
   "outputs": [
    {
     "data": {
      "text/html": [
       "<div>\n",
       "<style scoped>\n",
       "    .dataframe tbody tr th:only-of-type {\n",
       "        vertical-align: middle;\n",
       "    }\n",
       "\n",
       "    .dataframe tbody tr th {\n",
       "        vertical-align: top;\n",
       "    }\n",
       "\n",
       "    .dataframe thead th {\n",
       "        text-align: right;\n",
       "    }\n",
       "</style>\n",
       "<table border=\"1\" class=\"dataframe\">\n",
       "  <thead>\n",
       "    <tr style=\"text-align: right;\">\n",
       "      <th></th>\n",
       "      <th>index</th>\n",
       "      <th>0</th>\n",
       "    </tr>\n",
       "  </thead>\n",
       "  <tbody>\n",
       "    <tr>\n",
       "      <th>0</th>\n",
       "      <td>ect</td>\n",
       "      <td>13897</td>\n",
       "    </tr>\n",
       "    <tr>\n",
       "      <th>1</th>\n",
       "      <td>hou</td>\n",
       "      <td>7281</td>\n",
       "    </tr>\n",
       "    <tr>\n",
       "      <th>2</th>\n",
       "      <td>enron</td>\n",
       "      <td>6555</td>\n",
       "    </tr>\n",
       "    <tr>\n",
       "      <th>3</th>\n",
       "      <td>subject</td>\n",
       "      <td>6405</td>\n",
       "    </tr>\n",
       "    <tr>\n",
       "      <th>4</th>\n",
       "      <td>2000</td>\n",
       "      <td>4308</td>\n",
       "    </tr>\n",
       "    <tr>\n",
       "      <th>...</th>\n",
       "      <td>...</td>\n",
       "      <td>...</td>\n",
       "    </tr>\n",
       "    <tr>\n",
       "      <th>18783</th>\n",
       "      <td>156387</td>\n",
       "      <td>1</td>\n",
       "    </tr>\n",
       "    <tr>\n",
       "      <th>18784</th>\n",
       "      <td>149421</td>\n",
       "      <td>1</td>\n",
       "    </tr>\n",
       "    <tr>\n",
       "      <th>18785</th>\n",
       "      <td>mecca</td>\n",
       "      <td>1</td>\n",
       "    </tr>\n",
       "    <tr>\n",
       "      <th>18786</th>\n",
       "      <td>huskers</td>\n",
       "      <td>1</td>\n",
       "    </tr>\n",
       "    <tr>\n",
       "      <th>18787</th>\n",
       "      <td>buydeaug</td>\n",
       "      <td>1</td>\n",
       "    </tr>\n",
       "  </tbody>\n",
       "</table>\n",
       "<p>18788 rows × 2 columns</p>\n",
       "</div>"
      ],
      "text/plain": [
       "          index      0\n",
       "0           ect  13897\n",
       "1           hou   7281\n",
       "2         enron   6555\n",
       "3       subject   6405\n",
       "4          2000   4308\n",
       "...         ...    ...\n",
       "18783    156387      1\n",
       "18784    149421      1\n",
       "18785     mecca      1\n",
       "18786   huskers      1\n",
       "18787  buydeaug      1\n",
       "\n",
       "[18788 rows x 2 columns]"
      ]
     },
     "execution_count": 15,
     "metadata": {},
     "output_type": "execute_result"
    }
   ],
   "source": [
    "df_ham"
   ]
  },
  {
   "cell_type": "markdown",
   "metadata": {
    "id": "8tc1A3vrc01U"
   },
   "source": [
    "spam mails token distribution"
   ]
  },
  {
   "cell_type": "code",
   "execution_count": 16,
   "metadata": {
    "colab": {
     "base_uri": "https://localhost:8080/",
     "height": 424
    },
    "id": "pe9QiVvPc43E",
    "outputId": "bacfd6e6-1df2-49d8-cbe2-43a177cfb24b"
   },
   "outputs": [
    {
     "data": {
      "text/html": [
       "<div>\n",
       "<style scoped>\n",
       "    .dataframe tbody tr th:only-of-type {\n",
       "        vertical-align: middle;\n",
       "    }\n",
       "\n",
       "    .dataframe tbody tr th {\n",
       "        vertical-align: top;\n",
       "    }\n",
       "\n",
       "    .dataframe thead th {\n",
       "        text-align: right;\n",
       "    }\n",
       "</style>\n",
       "<table border=\"1\" class=\"dataframe\">\n",
       "  <thead>\n",
       "    <tr style=\"text-align: right;\">\n",
       "      <th></th>\n",
       "      <th>index</th>\n",
       "      <th>0</th>\n",
       "    </tr>\n",
       "  </thead>\n",
       "  <tbody>\n",
       "    <tr>\n",
       "      <th>0</th>\n",
       "      <td>subject</td>\n",
       "      <td>1657</td>\n",
       "    </tr>\n",
       "    <tr>\n",
       "      <th>1</th>\n",
       "      <td>3</td>\n",
       "      <td>1239</td>\n",
       "    </tr>\n",
       "    <tr>\n",
       "      <th>2</th>\n",
       "      <td>com</td>\n",
       "      <td>992</td>\n",
       "    </tr>\n",
       "    <tr>\n",
       "      <th>3</th>\n",
       "      <td>http</td>\n",
       "      <td>984</td>\n",
       "    </tr>\n",
       "    <tr>\n",
       "      <th>4</th>\n",
       "      <td>company</td>\n",
       "      <td>918</td>\n",
       "    </tr>\n",
       "    <tr>\n",
       "      <th>...</th>\n",
       "      <td>...</td>\n",
       "      <td>...</td>\n",
       "    </tr>\n",
       "    <tr>\n",
       "      <th>36884</th>\n",
       "      <td>babylon</td>\n",
       "      <td>1</td>\n",
       "    </tr>\n",
       "    <tr>\n",
       "      <th>36885</th>\n",
       "      <td>squire</td>\n",
       "      <td>1</td>\n",
       "    </tr>\n",
       "    <tr>\n",
       "      <th>36886</th>\n",
       "      <td>batten</td>\n",
       "      <td>1</td>\n",
       "    </tr>\n",
       "    <tr>\n",
       "      <th>36887</th>\n",
       "      <td>kuwo</td>\n",
       "      <td>1</td>\n",
       "    </tr>\n",
       "    <tr>\n",
       "      <th>36888</th>\n",
       "      <td>charterr</td>\n",
       "      <td>1</td>\n",
       "    </tr>\n",
       "  </tbody>\n",
       "</table>\n",
       "<p>36889 rows × 2 columns</p>\n",
       "</div>"
      ],
      "text/plain": [
       "          index     0\n",
       "0       subject  1657\n",
       "1             3  1239\n",
       "2           com   992\n",
       "3          http   984\n",
       "4       company   918\n",
       "...         ...   ...\n",
       "36884   babylon     1\n",
       "36885    squire     1\n",
       "36886    batten     1\n",
       "36887      kuwo     1\n",
       "36888  charterr     1\n",
       "\n",
       "[36889 rows x 2 columns]"
      ]
     },
     "execution_count": 16,
     "metadata": {},
     "output_type": "execute_result"
    }
   ],
   "source": [
    "df_spam"
   ]
  },
  {
   "cell_type": "markdown",
   "metadata": {
    "id": "jmyHnXsETYu6"
   },
   "source": [
    "## Feature extraction"
   ]
  },
  {
   "cell_type": "code",
   "execution_count": 17,
   "metadata": {
    "id": "m0HPA6x8ETpk"
   },
   "outputs": [],
   "source": [
    "y=pd.DataFrame(df['label_num'])\n",
    "x=pd.DataFrame(df[['lem_text', 'final_text']])"
   ]
  },
  {
   "cell_type": "code",
   "execution_count": 18,
   "metadata": {
    "id": "m9U3WEIDFqcm"
   },
   "outputs": [],
   "source": [
    "# split data to train and test. we want to learn the n-gram only on train and apply it on test\n",
    "x_train,x_val,y_train,y_val=train_test_split(x,y,train_size=0.8,test_size=0.2, random_state=42)"
   ]
  },
  {
   "cell_type": "markdown",
   "metadata": {
    "id": "PgWnSR8fqZ0F"
   },
   "source": [
    "N-Gram features"
   ]
  },
  {
   "cell_type": "code",
   "execution_count": 19,
   "metadata": {
    "colab": {
     "base_uri": "https://localhost:8080/"
    },
    "id": "zG_fQAZtqzRj",
    "outputId": "f85a9b5c-6cd2-43d0-8d05-f4f936e9cf12"
   },
   "outputs": [],
   "source": [
    "from sklearn.feature_extraction.text import CountVectorizer\n",
    "\n",
    "# Take feature of n-gram of 1\n",
    "model = CountVectorizer(ngram_range = (1, 1), max_features=5000)\n",
    "\n",
    "matrix = model.fit_transform(x_train['final_text']).toarray()\n",
    "temp_df = pd.DataFrame(data = matrix, columns = model.get_feature_names(),index=x_train.index)\n",
    "x_train_ngram = pd.concat([x_train, temp_df],axis=1,sort=False)\n",
    "\n",
    "matrix = model.transform(x_val['final_text']).toarray()\n",
    "temp_df = pd.DataFrame(data = matrix, columns = model.get_feature_names(),index=x_val.index)\n",
    "x_val_ngram = pd.concat([x_val, temp_df],axis=1,sort=False)\n"
   ]
  },
  {
   "cell_type": "markdown",
   "metadata": {
    "id": "PmBW5osAu33D"
   },
   "source": [
    "TFIDF Features"
   ]
  },
  {
   "cell_type": "code",
   "execution_count": 20,
   "metadata": {
    "id": "s8V2KTVFFuwG"
   },
   "outputs": [],
   "source": [
    "# Take feature of TF-IDF \n",
    "cv=CountVectorizer(max_features=5000)\n",
    "temp_train=cv.fit_transform(x_train['final_text']).toarray()\n",
    "temp_val=cv.transform(x_val['final_text']).toarray()\n"
   ]
  },
  {
   "cell_type": "code",
   "execution_count": 21,
   "metadata": {
    "id": "Ug3Ga6uTGAeM"
   },
   "outputs": [],
   "source": [
    "tf=TfidfTransformer()\n",
    "temp_train=tf.fit_transform(temp_train)\n",
    "temp_val=tf.transform(temp_val)\n"
   ]
  },
  {
   "cell_type": "code",
   "execution_count": 22,
   "metadata": {
    "colab": {
     "base_uri": "https://localhost:8080/",
     "height": 235
    },
    "id": "wtyNOu5HGCwN",
    "outputId": "02800712-9a68-447b-8124-93ca9f3ca749"
   },
   "outputs": [
    {
     "data": {
      "text/html": [
       "<div>\n",
       "<style scoped>\n",
       "    .dataframe tbody tr th:only-of-type {\n",
       "        vertical-align: middle;\n",
       "    }\n",
       "\n",
       "    .dataframe tbody tr th {\n",
       "        vertical-align: top;\n",
       "    }\n",
       "\n",
       "    .dataframe thead th {\n",
       "        text-align: right;\n",
       "    }\n",
       "</style>\n",
       "<table border=\"1\" class=\"dataframe\">\n",
       "  <thead>\n",
       "    <tr style=\"text-align: right;\">\n",
       "      <th></th>\n",
       "      <th>lem_text</th>\n",
       "      <th>final_text</th>\n",
       "      <th>0</th>\n",
       "      <th>1</th>\n",
       "      <th>2</th>\n",
       "      <th>3</th>\n",
       "      <th>4</th>\n",
       "      <th>5</th>\n",
       "      <th>6</th>\n",
       "      <th>7</th>\n",
       "      <th>...</th>\n",
       "      <th>4990</th>\n",
       "      <th>4991</th>\n",
       "      <th>4992</th>\n",
       "      <th>4993</th>\n",
       "      <th>4994</th>\n",
       "      <th>4995</th>\n",
       "      <th>4996</th>\n",
       "      <th>4997</th>\n",
       "      <th>4998</th>\n",
       "      <th>4999</th>\n",
       "    </tr>\n",
       "  </thead>\n",
       "  <tbody>\n",
       "    <tr>\n",
       "      <th>5132</th>\n",
       "      <td>[subject, april, activity, survey, starting, c...</td>\n",
       "      <td>subject april activity survey starting collect...</td>\n",
       "      <td>0.0</td>\n",
       "      <td>0.0</td>\n",
       "      <td>0.0</td>\n",
       "      <td>0.0</td>\n",
       "      <td>0.0</td>\n",
       "      <td>0.0</td>\n",
       "      <td>0.0</td>\n",
       "      <td>0.0</td>\n",
       "      <td>...</td>\n",
       "      <td>0.0</td>\n",
       "      <td>0.0</td>\n",
       "      <td>0.0</td>\n",
       "      <td>0.000000</td>\n",
       "      <td>0.0</td>\n",
       "      <td>0.0</td>\n",
       "      <td>0.0</td>\n",
       "      <td>0.0</td>\n",
       "      <td>0.0</td>\n",
       "      <td>0.0</td>\n",
       "    </tr>\n",
       "    <tr>\n",
       "      <th>2067</th>\n",
       "      <td>[subject, message, subject, hey, julie, turned...</td>\n",
       "      <td>subject message subject hey julie turned 18 hi...</td>\n",
       "      <td>0.0</td>\n",
       "      <td>0.0</td>\n",
       "      <td>0.0</td>\n",
       "      <td>0.0</td>\n",
       "      <td>0.0</td>\n",
       "      <td>0.0</td>\n",
       "      <td>0.0</td>\n",
       "      <td>0.0</td>\n",
       "      <td>...</td>\n",
       "      <td>0.0</td>\n",
       "      <td>0.0</td>\n",
       "      <td>0.0</td>\n",
       "      <td>0.000000</td>\n",
       "      <td>0.0</td>\n",
       "      <td>0.0</td>\n",
       "      <td>0.0</td>\n",
       "      <td>0.0</td>\n",
       "      <td>0.0</td>\n",
       "      <td>0.0</td>\n",
       "    </tr>\n",
       "    <tr>\n",
       "      <th>4716</th>\n",
       "      <td>[subject, txu, fuel, sd, nomination, may, 2001...</td>\n",
       "      <td>subject txu fuel sd nomination may 2001 attach...</td>\n",
       "      <td>0.0</td>\n",
       "      <td>0.0</td>\n",
       "      <td>0.0</td>\n",
       "      <td>0.0</td>\n",
       "      <td>0.0</td>\n",
       "      <td>0.0</td>\n",
       "      <td>0.0</td>\n",
       "      <td>0.0</td>\n",
       "      <td>...</td>\n",
       "      <td>0.0</td>\n",
       "      <td>0.0</td>\n",
       "      <td>0.0</td>\n",
       "      <td>0.000000</td>\n",
       "      <td>0.0</td>\n",
       "      <td>0.0</td>\n",
       "      <td>0.0</td>\n",
       "      <td>0.0</td>\n",
       "      <td>0.0</td>\n",
       "      <td>0.0</td>\n",
       "    </tr>\n",
       "    <tr>\n",
       "      <th>4710</th>\n",
       "      <td>[subject, richardson, volume, nov, 99, dec, 99...</td>\n",
       "      <td>subject richardson volume nov 99 dec 99 meter ...</td>\n",
       "      <td>0.0</td>\n",
       "      <td>0.0</td>\n",
       "      <td>0.0</td>\n",
       "      <td>0.0</td>\n",
       "      <td>0.0</td>\n",
       "      <td>0.0</td>\n",
       "      <td>0.0</td>\n",
       "      <td>0.0</td>\n",
       "      <td>...</td>\n",
       "      <td>0.0</td>\n",
       "      <td>0.0</td>\n",
       "      <td>0.0</td>\n",
       "      <td>0.093117</td>\n",
       "      <td>0.0</td>\n",
       "      <td>0.0</td>\n",
       "      <td>0.0</td>\n",
       "      <td>0.0</td>\n",
       "      <td>0.0</td>\n",
       "      <td>0.0</td>\n",
       "    </tr>\n",
       "    <tr>\n",
       "      <th>2268</th>\n",
       "      <td>[subject, new, era, online, medical, care, new...</td>\n",
       "      <td>subject new era online medical care new era on...</td>\n",
       "      <td>0.0</td>\n",
       "      <td>0.0</td>\n",
       "      <td>0.0</td>\n",
       "      <td>0.0</td>\n",
       "      <td>0.0</td>\n",
       "      <td>0.0</td>\n",
       "      <td>0.0</td>\n",
       "      <td>0.0</td>\n",
       "      <td>...</td>\n",
       "      <td>0.0</td>\n",
       "      <td>0.0</td>\n",
       "      <td>0.0</td>\n",
       "      <td>0.000000</td>\n",
       "      <td>0.0</td>\n",
       "      <td>0.0</td>\n",
       "      <td>0.0</td>\n",
       "      <td>0.0</td>\n",
       "      <td>0.0</td>\n",
       "      <td>0.0</td>\n",
       "    </tr>\n",
       "  </tbody>\n",
       "</table>\n",
       "<p>5 rows × 5002 columns</p>\n",
       "</div>"
      ],
      "text/plain": [
       "                                               lem_text  \\\n",
       "5132  [subject, april, activity, survey, starting, c...   \n",
       "2067  [subject, message, subject, hey, julie, turned...   \n",
       "4716  [subject, txu, fuel, sd, nomination, may, 2001...   \n",
       "4710  [subject, richardson, volume, nov, 99, dec, 99...   \n",
       "2268  [subject, new, era, online, medical, care, new...   \n",
       "\n",
       "                                             final_text    0    1    2    3  \\\n",
       "5132  subject april activity survey starting collect...  0.0  0.0  0.0  0.0   \n",
       "2067  subject message subject hey julie turned 18 hi...  0.0  0.0  0.0  0.0   \n",
       "4716  subject txu fuel sd nomination may 2001 attach...  0.0  0.0  0.0  0.0   \n",
       "4710  subject richardson volume nov 99 dec 99 meter ...  0.0  0.0  0.0  0.0   \n",
       "2268  subject new era online medical care new era on...  0.0  0.0  0.0  0.0   \n",
       "\n",
       "        4    5    6    7  ...  4990  4991  4992      4993  4994  4995  4996  \\\n",
       "5132  0.0  0.0  0.0  0.0  ...   0.0   0.0   0.0  0.000000   0.0   0.0   0.0   \n",
       "2067  0.0  0.0  0.0  0.0  ...   0.0   0.0   0.0  0.000000   0.0   0.0   0.0   \n",
       "4716  0.0  0.0  0.0  0.0  ...   0.0   0.0   0.0  0.000000   0.0   0.0   0.0   \n",
       "4710  0.0  0.0  0.0  0.0  ...   0.0   0.0   0.0  0.093117   0.0   0.0   0.0   \n",
       "2268  0.0  0.0  0.0  0.0  ...   0.0   0.0   0.0  0.000000   0.0   0.0   0.0   \n",
       "\n",
       "      4997  4998  4999  \n",
       "5132   0.0   0.0   0.0  \n",
       "2067   0.0   0.0   0.0  \n",
       "4716   0.0   0.0   0.0  \n",
       "4710   0.0   0.0   0.0  \n",
       "2268   0.0   0.0   0.0  \n",
       "\n",
       "[5 rows x 5002 columns]"
      ]
     },
     "execution_count": 22,
     "metadata": {},
     "output_type": "execute_result"
    }
   ],
   "source": [
    "temp_train = pd.DataFrame(temp_train.toarray(),index=x_train.index)\n",
    "temp_val = pd.DataFrame(temp_val.toarray(),index=x_val.index)\n",
    "x_train_tfidf = pd.concat([x_train,temp_train],axis=1,sort=False)\n",
    "x_val_tfidf = pd.concat([x_val,temp_val],axis=1,sort=False)\n",
    "\n",
    "x_train_tfidf.head()\n"
   ]
  },
  {
   "cell_type": "code",
   "execution_count": 23,
   "metadata": {
    "id": "qP9HCInUGW1v"
   },
   "outputs": [],
   "source": [
    "y_train=y_train.astype(int)\n",
    "y_val=y_val.astype(int)\n"
   ]
  },
  {
   "cell_type": "markdown",
   "metadata": {
    "id": "MjvLCAsM1TQf"
   },
   "source": [
    "## Classifier\n",
    "4 experiments:\n",
    "1. N-Gram with Logistic Regression\n",
    "2. N-Gram with Random Forest\n",
    "3. TF-IDF with Logistic Regression\n",
    "4. TF-IDF with Random Forest"
   ]
  },
  {
   "cell_type": "code",
   "execution_count": 24,
   "metadata": {
    "id": "0vG7zDdTS3p_"
   },
   "outputs": [],
   "source": [
    "from sklearn import metrics\n",
    "\n",
    "# Calculate the benchmark for a classifier algorithm and dataset\n",
    "# return classifier name, accuracy, precision_score, recall_score and f1_score\n",
    "def benchmark(classifier_algorithm, X_train, y_train, X_test, y_test):\n",
    "    classifier_algorithm.fit(X_train, y_train)\n",
    "    pred = classifier_algorithm.predict(X_test)\n",
    "\n",
    "    score = metrics.accuracy_score(y_test, pred)\n",
    "    precision_score = metrics.precision_score(y_test, pred, average='weighted')\n",
    "    recall_score = metrics.recall_score(y_test, pred, average='weighted')\n",
    "    f1_score = metrics.f1_score(y_test, pred, average='weighted')\n",
    "\n",
    "    clf_descr = classifier_algorithm.__class__.__name__\n",
    "    return clf_descr, score, precision_score, recall_score, f1_score"
   ]
  },
  {
   "cell_type": "markdown",
   "metadata": {
    "id": "10UomYmn3KyG"
   },
   "source": [
    "Logistic Regression"
   ]
  },
  {
   "cell_type": "code",
   "execution_count": 25,
   "metadata": {
    "id": "E99MEHai3PNV"
   },
   "outputs": [],
   "source": [
    "from sklearn.linear_model import LogisticRegression"
   ]
  },
  {
   "cell_type": "code",
   "execution_count": 26,
   "metadata": {
    "id": "PHQ4WIHvGZjx"
   },
   "outputs": [
    {
     "name": "stderr",
     "output_type": "stream",
     "text": [
      "C:\\Users\\levil\\anaconda3\\lib\\site-packages\\sklearn\\utils\\validation.py:72: DataConversionWarning: A column-vector y was passed when a 1d array was expected. Please change the shape of y to (n_samples, ), for example using ravel().\n",
      "  return f(**kwargs)\n"
     ]
    }
   ],
   "source": [
    "model = LogisticRegression()\n",
    "\n",
    "# N-Gram\n",
    "# remove the token and sentence from the data, remain only features \n",
    "x_train = x_train_ngram.drop(['lem_text', 'final_text'], axis=1)\n",
    "x_val = x_val_ngram.drop(['lem_text', 'final_text'], axis=1)\n",
    "\n",
    "# run benchmark\n",
    "lr_ngram_results = benchmark(model, x_train, y_train, x_val, y_val)"
   ]
  },
  {
   "cell_type": "code",
   "execution_count": 27,
   "metadata": {
    "id": "H_Ix__Yl9fhL"
   },
   "outputs": [
    {
     "name": "stderr",
     "output_type": "stream",
     "text": [
      "C:\\Users\\levil\\anaconda3\\lib\\site-packages\\sklearn\\utils\\validation.py:72: DataConversionWarning: A column-vector y was passed when a 1d array was expected. Please change the shape of y to (n_samples, ), for example using ravel().\n",
      "  return f(**kwargs)\n"
     ]
    }
   ],
   "source": [
    "model = LogisticRegression()\n",
    "\n",
    "# TF-IDF\n",
    "# remove the token and sentence from the data, remain only features \n",
    "x_train = x_train_tfidf.drop(['lem_text', 'final_text'], axis=1)\n",
    "x_val = x_val_tfidf.drop(['lem_text', 'final_text'], axis=1)\n",
    "\n",
    "# run benchmark\n",
    "lr_tfidf_results = benchmark(model, x_train, y_train, x_val, y_val)"
   ]
  },
  {
   "cell_type": "markdown",
   "metadata": {
    "id": "MDJfWUZP9sJK"
   },
   "source": [
    "Random Forest"
   ]
  },
  {
   "cell_type": "code",
   "execution_count": 28,
   "metadata": {
    "id": "Yrk3dmVR92HF"
   },
   "outputs": [],
   "source": [
    "from sklearn.ensemble import RandomForestClassifier"
   ]
  },
  {
   "cell_type": "code",
   "execution_count": 29,
   "metadata": {
    "id": "5ztKwCCt-HfX"
   },
   "outputs": [
    {
     "name": "stderr",
     "output_type": "stream",
     "text": [
      "<ipython-input-24-e058ce6af180>:6: DataConversionWarning: A column-vector y was passed when a 1d array was expected. Please change the shape of y to (n_samples,), for example using ravel().\n",
      "  classifier_algorithm.fit(X_train, y_train)\n"
     ]
    }
   ],
   "source": [
    "model = RandomForestClassifier(n_estimators=100, random_state=42)\n",
    "\n",
    "# N-Gram\n",
    "# remove the token and sentence from the data, remain only features \n",
    "x_train = x_train_ngram.drop(['lem_text', 'final_text'], axis=1)\n",
    "x_val = x_val_ngram.drop(['lem_text', 'final_text'], axis=1)\n",
    "\n",
    "# run benchmark\n",
    "rf_ngram_results = benchmark(model, x_train, y_train, x_val, y_val)"
   ]
  },
  {
   "cell_type": "code",
   "execution_count": 30,
   "metadata": {
    "id": "w6xlZO1T-wJz"
   },
   "outputs": [
    {
     "name": "stderr",
     "output_type": "stream",
     "text": [
      "<ipython-input-24-e058ce6af180>:6: DataConversionWarning: A column-vector y was passed when a 1d array was expected. Please change the shape of y to (n_samples,), for example using ravel().\n",
      "  classifier_algorithm.fit(X_train, y_train)\n"
     ]
    }
   ],
   "source": [
    "model = RandomForestClassifier(n_estimators=100, random_state=42)\n",
    "\n",
    "# TF-IDF\n",
    "# remove the token and sentence from the data, remain only features \n",
    "x_train = x_train_tfidf.drop(['lem_text', 'final_text'], axis=1)\n",
    "x_val = x_val_tfidf.drop(['lem_text', 'final_text'], axis=1)\n",
    "\n",
    "# run benchmark\n",
    "rf_tfidf_results = benchmark(model, x_train, y_train, x_val, y_val)"
   ]
  },
  {
   "cell_type": "markdown",
   "metadata": {
    "id": "DThtrnJRAJlv"
   },
   "source": [
    "## Results"
   ]
  },
  {
   "cell_type": "code",
   "execution_count": 31,
   "metadata": {
    "colab": {
     "base_uri": "https://localhost:8080/",
     "height": 624
    },
    "id": "ymBHeb6EAPsZ",
    "outputId": "581958b3-cd19-4d32-9eda-f97081c06f5e"
   },
   "outputs": [
    {
     "data": {
      "text/plain": [
       "Text(0.5, 1.0, 'Random Forest - TF-IDF')"
      ]
     },
     "execution_count": 31,
     "metadata": {},
     "output_type": "execute_result"
    },
    {
     "data": {
      "image/png": "[encoded data removed]",
      "text/plain": [
       "<Figure size 720x720 with 4 Axes>"
      ]
     },
     "metadata": {},
     "output_type": "display_data"
    }
   ],
   "source": [
    "x_axis = ['Accuracy', 'Precision_score', 'Recall_score', 'f1_score']\n",
    "\n",
    "plt.figure(1,figsize=(10,10))\n",
    "\n",
    "plt.subplot(2,2,1)\n",
    "plt.ylim([0.95, 1])\n",
    "_ = plt.bar(x_axis, lr_ngram_results[1:])\n",
    "plt.title('Logistic Regression - N-Gram')\n",
    "\n",
    "plt.subplot(2,2,2)\n",
    "plt.ylim([0.95, 1])\n",
    "_ = plt.bar(x_axis, lr_tfidf_results[1:])\n",
    "plt.title('Logistic Regression - TF-IDF')\n",
    "\n",
    "plt.subplot(2,2,3)\n",
    "plt.ylim([0.95, 1])\n",
    "_ = plt.bar(x_axis, rf_ngram_results[1:])\n",
    "plt.title('Random Forest - N-Gram')\n",
    "\n",
    "plt.subplot(2,2,4)\n",
    "plt.ylim([0.95, 1])\n",
    "_ = plt.bar(x_axis, rf_tfidf_results[1:])\n",
    "plt.title('Random Forest - TF-IDF')"
   ]
  },
  {
   "cell_type": "code",
   "execution_count": 32,
   "metadata": {
    "colab": {
     "base_uri": "https://localhost:8080/",
     "height": 175
    },
    "id": "hHvGDRnLGQcw",
    "outputId": "37733289-3ebb-472a-ef55-51b033eddfd4"
   },
   "outputs": [
    {
     "data": {
      "text/html": [
       "<div>\n",
       "<style scoped>\n",
       "    .dataframe tbody tr th:only-of-type {\n",
       "        vertical-align: middle;\n",
       "    }\n",
       "\n",
       "    .dataframe tbody tr th {\n",
       "        vertical-align: top;\n",
       "    }\n",
       "\n",
       "    .dataframe thead th {\n",
       "        text-align: right;\n",
       "    }\n",
       "</style>\n",
       "<table border=\"1\" class=\"dataframe\">\n",
       "  <thead>\n",
       "    <tr style=\"text-align: right;\">\n",
       "      <th></th>\n",
       "      <th>Logistic Regression - N-Gram</th>\n",
       "      <th>Logistic Regression - TF-IDF</th>\n",
       "      <th>Random Forest - N-Gram</th>\n",
       "      <th>Random Forest - TF-IDF</th>\n",
       "    </tr>\n",
       "  </thead>\n",
       "  <tbody>\n",
       "    <tr>\n",
       "      <th>Accuracy</th>\n",
       "      <td>0.977778</td>\n",
       "      <td>0.984541</td>\n",
       "      <td>0.977778</td>\n",
       "      <td>0.982609</td>\n",
       "    </tr>\n",
       "    <tr>\n",
       "      <th>Precision_score</th>\n",
       "      <td>0.978592</td>\n",
       "      <td>0.984582</td>\n",
       "      <td>0.978155</td>\n",
       "      <td>0.983131</td>\n",
       "    </tr>\n",
       "    <tr>\n",
       "      <th>Recall_score</th>\n",
       "      <td>0.977778</td>\n",
       "      <td>0.984541</td>\n",
       "      <td>0.977778</td>\n",
       "      <td>0.982609</td>\n",
       "    </tr>\n",
       "    <tr>\n",
       "      <th>f1_score</th>\n",
       "      <td>0.977942</td>\n",
       "      <td>0.984557</td>\n",
       "      <td>0.977878</td>\n",
       "      <td>0.982712</td>\n",
       "    </tr>\n",
       "  </tbody>\n",
       "</table>\n",
       "</div>"
      ],
      "text/plain": [
       "                 Logistic Regression - N-Gram  Logistic Regression - TF-IDF  \\\n",
       "Accuracy                             0.977778                      0.984541   \n",
       "Precision_score                      0.978592                      0.984582   \n",
       "Recall_score                         0.977778                      0.984541   \n",
       "f1_score                             0.977942                      0.984557   \n",
       "\n",
       "                 Random Forest - N-Gram  Random Forest - TF-IDF  \n",
       "Accuracy                       0.977778                0.982609  \n",
       "Precision_score                0.978155                0.983131  \n",
       "Recall_score                   0.977778                0.982609  \n",
       "f1_score                       0.977878                0.982712  "
      ]
     },
     "execution_count": 32,
     "metadata": {},
     "output_type": "execute_result"
    }
   ],
   "source": [
    "d= {'Logistic Regression - N-Gram': lr_ngram_results[1:],\n",
    "    'Logistic Regression - TF-IDF': lr_tfidf_results[1:],\n",
    "    'Random Forest - N-Gram': rf_ngram_results[1:],\n",
    "    'Random Forest - TF-IDF': rf_tfidf_results[1:]}\n",
    "results = pd.DataFrame.from_dict(d)\n",
    "\n",
    "results.set_axis(x_axis)"
   ]
  },
  {
   "cell_type": "markdown",
   "metadata": {},
   "source": [
    "<div dir=\"rtl\" style=\"text-align: right;\">\n",
    "\n",
    "הריצה שנתנה את התוצאה הטובה ביותר היא הריצה שבה השתמשנו במודל Logistic Regression ובפיצ'רים של TF-IDF.\n",
    "\n",
    "הריצה קיבלה תוצאה גבוהה יותר משאר הריצות בכל הפרמטרים.\n",
    "התוצאה הנוספת שהתקרבה אליה גם השתמשה ב-TF-IDF.\n",
    "לכן ניתן להבין שהפיצ'רים האלה יותר משמעותיים ומביאים לתוצאות טובות יותר לעומת השיטה השנייה לחילוץ הפיצ'רים שהשתמשנו.\n",
    "\n",
    "לדעתי, הסיבה שהפיצ'ר הזה יותר טוב הוא מכיוון שהוא מצרף את שכיחויות המילה לתהליך החיזוי ולא רק מידע של האם מילה נמצאת או לא נמצאת במייל.\n",
    "האינפורמציה הנוספת הזו עוזרת לקבוע יותר טוב אם מייל הוא ספאם או לא.\n",
    "\n",
    "לגבי המסווגים, הם הביאו ביצועים קרובים ויכול להיות שעם פרמטר אחר המסווג השני היה מקבל תוצאת חיזוי דומה.\n",
    "\n",
    "</div>"
   ]
  }
 ],
 "metadata": {
  "colab": {
   "provenance": []
  },
  "kernelspec": {
   "display_name": "Python 3",
   "language": "python",
   "name": "python3"
  },
  "language_info": {
   "codemirror_mode": {
    "name": "ipython",
    "version": 3
   },
   "file_extension": ".py",
   "mimetype": "text/x-python",
   "name": "python",
   "nbconvert_exporter": "python",
   "pygments_lexer": "ipython3",
   "version": "3.8.5"
  }
 },
 "nbformat": 4,
 "nbformat_minor": 1
}
