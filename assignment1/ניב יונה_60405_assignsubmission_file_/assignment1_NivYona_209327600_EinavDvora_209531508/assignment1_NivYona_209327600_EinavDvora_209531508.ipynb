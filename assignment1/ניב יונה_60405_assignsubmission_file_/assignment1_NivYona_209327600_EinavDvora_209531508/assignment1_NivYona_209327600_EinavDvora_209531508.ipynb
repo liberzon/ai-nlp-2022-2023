{
 "cells": [
  {
   "cell_type": "markdown",
   "source": [
    "Students:\n",
    "Niv Yona - 209327600\n",
    "Einav Dvora - 209531508"
   ],
   "metadata": {
    "collapsed": false
   }
  },
  {
   "cell_type": "code",
   "execution_count": 1,
   "outputs": [],
   "source": [
    "import pandas as pd\n",
    "df = pd.read_csv(\"spam_ham_dataset.csv\") # loading the data frame"
   ],
   "metadata": {
    "collapsed": false
   }
  },
  {
   "cell_type": "markdown",
   "source": [
    "# checking for missing values"
   ],
   "metadata": {
    "collapsed": false
   }
  },
  {
   "cell_type": "code",
   "execution_count": 2,
   "outputs": [
    {
     "name": "stdout",
     "output_type": "stream",
     "text": [
      "<class 'pandas.core.frame.DataFrame'>\n",
      "RangeIndex: 5171 entries, 0 to 5170\n",
      "Data columns (total 4 columns):\n",
      " #   Column      Non-Null Count  Dtype \n",
      "---  ------      --------------  ----- \n",
      " 0   Unnamed: 0  5171 non-null   int64 \n",
      " 1   label       5171 non-null   object\n",
      " 2   text        5171 non-null   object\n",
      " 3   label_num   5171 non-null   int64 \n",
      "dtypes: int64(2), object(2)\n",
      "memory usage: 161.7+ KB\n"
     ]
    }
   ],
   "source": [
    "df.info() # to check for missing values"
   ],
   "metadata": {
    "collapsed": false
   }
  },
  {
   "cell_type": "markdown",
   "source": [
    "#  pre-processing of data"
   ],
   "metadata": {
    "collapsed": false
   }
  },
  {
   "cell_type": "code",
   "execution_count": 3,
   "outputs": [
    {
     "name": "stderr",
     "output_type": "stream",
     "text": [
      "[nltk_data] Downloading package stopwords to\n",
      "[nltk_data]     C:\\Users\\nivyo\\AppData\\Roaming\\nltk_data...\n",
      "[nltk_data]   Package stopwords is already up-to-date!\n",
      "[nltk_data] Downloading package punkt to\n",
      "[nltk_data]     C:\\Users\\nivyo\\AppData\\Roaming\\nltk_data...\n",
      "[nltk_data]   Package punkt is already up-to-date!\n",
      "C:\\Users\\nivyo\\AppData\\Local\\Temp\\ipykernel_13252\\3720685147.py:11: FutureWarning: The default value of regex will change from True to False in a future version.\n",
      "  df['cleaned_text'] = df['cleaned_text'].str.replace(r'[^\\w\\s]+', '') # remove punctuations\n"
     ]
    }
   ],
   "source": [
    "#transforming the raw data into a more understandable NLP contex.\n",
    "from nltk.corpus import stopwords\n",
    "from nltk.tokenize import word_tokenize\n",
    "import nltk\n",
    "\n",
    "nltk.download('stopwords')\n",
    "nltk.download('punkt')\n",
    "\n",
    "stop_words = stopwords.words('english')\n",
    "df['cleaned_text'] = df['text'].apply(lambda x: ' '.join([word for word in x.split() if word not in stop_words])) #remove stopwords\n",
    "df['cleaned_text'] = df['cleaned_text'].str.replace(r'[^\\w\\s]+', '') # remove punctuations\n",
    "df['cleaned_text'] = df['cleaned_text'].str.lower() # Change all the text to lower case"
   ],
   "metadata": {
    "collapsed": false
   }
  },
  {
   "cell_type": "markdown",
   "source": [
    "# Tokenizing the Cleaned Data"
   ],
   "metadata": {
    "collapsed": false
   }
  },
  {
   "cell_type": "code",
   "execution_count": 4,
   "outputs": [
    {
     "data": {
      "text/plain": "   Unnamed: 0 label                                               text  \\\n0         605   ham  Subject: enron methanol ; meter # : 988291\\r\\n...   \n1        2349   ham  Subject: hpl nom for january 9 , 2001\\r\\n( see...   \n2        3624   ham  Subject: neon retreat\\r\\nho ho ho , we ' re ar...   \n3        4685  spam  Subject: photoshop , windows , office . cheap ...   \n4        2030   ham  Subject: re : indian springs\\r\\nthis deal is t...   \n\n   label_num                                       cleaned_text  \\\n0          0  subject enron methanol  meter   988291 follow ...   \n1          0  subject hpl nom january 9  2001  see attached ...   \n2          0  subject neon retreat ho ho ho   around wonderf...   \n3          1  subject photoshop  windows  office  cheap  mai...   \n4          0  subject  indian springs deal book teco pvr rev...   \n\n                                           tokenized  \n0  [subject, enron, methanol, meter, 988291, foll...  \n1  [subject, hpl, nom, january, 9, 2001, see, att...  \n2  [subject, neon, retreat, ho, ho, ho, around, w...  \n3  [subject, photoshop, windows, office, cheap, m...  \n4  [subject, indian, springs, deal, book, teco, p...  ",
      "text/html": "<div>\n<style scoped>\n    .dataframe tbody tr th:only-of-type {\n        vertical-align: middle;\n    }\n\n    .dataframe tbody tr th {\n        vertical-align: top;\n    }\n\n    .dataframe thead th {\n        text-align: right;\n    }\n</style>\n<table border=\"1\" class=\"dataframe\">\n  <thead>\n    <tr style=\"text-align: right;\">\n      <th></th>\n      <th>Unnamed: 0</th>\n      <th>label</th>\n      <th>text</th>\n      <th>label_num</th>\n      <th>cleaned_text</th>\n      <th>tokenized</th>\n    </tr>\n  </thead>\n  <tbody>\n    <tr>\n      <th>0</th>\n      <td>605</td>\n      <td>ham</td>\n      <td>Subject: enron methanol ; meter # : 988291\\r\\n...</td>\n      <td>0</td>\n      <td>subject enron methanol  meter   988291 follow ...</td>\n      <td>[subject, enron, methanol, meter, 988291, foll...</td>\n    </tr>\n    <tr>\n      <th>1</th>\n      <td>2349</td>\n      <td>ham</td>\n      <td>Subject: hpl nom for january 9 , 2001\\r\\n( see...</td>\n      <td>0</td>\n      <td>subject hpl nom january 9  2001  see attached ...</td>\n      <td>[subject, hpl, nom, january, 9, 2001, see, att...</td>\n    </tr>\n    <tr>\n      <th>2</th>\n      <td>3624</td>\n      <td>ham</td>\n      <td>Subject: neon retreat\\r\\nho ho ho , we ' re ar...</td>\n      <td>0</td>\n      <td>subject neon retreat ho ho ho   around wonderf...</td>\n      <td>[subject, neon, retreat, ho, ho, ho, around, w...</td>\n    </tr>\n    <tr>\n      <th>3</th>\n      <td>4685</td>\n      <td>spam</td>\n      <td>Subject: photoshop , windows , office . cheap ...</td>\n      <td>1</td>\n      <td>subject photoshop  windows  office  cheap  mai...</td>\n      <td>[subject, photoshop, windows, office, cheap, m...</td>\n    </tr>\n    <tr>\n      <th>4</th>\n      <td>2030</td>\n      <td>ham</td>\n      <td>Subject: re : indian springs\\r\\nthis deal is t...</td>\n      <td>0</td>\n      <td>subject  indian springs deal book teco pvr rev...</td>\n      <td>[subject, indian, springs, deal, book, teco, p...</td>\n    </tr>\n  </tbody>\n</table>\n</div>"
     },
     "execution_count": 4,
     "metadata": {},
     "output_type": "execute_result"
    }
   ],
   "source": [
    "df['tokenized'] = df.apply(lambda row: nltk.word_tokenize(row['cleaned_text']), axis=1) #tokenization\n",
    "df.head()"
   ],
   "metadata": {
    "collapsed": false
   }
  },
  {
   "cell_type": "markdown",
   "source": [
    "# Exploratory Data Analysis"
   ],
   "metadata": {
    "collapsed": false
   }
  },
  {
   "cell_type": "code",
   "execution_count": 5,
   "outputs": [
    {
     "data": {
      "text/plain": "<Figure size 1600x800 with 1 Axes>",
      "image/png": "[encoded data removed]"
     },
     "metadata": {},
     "output_type": "display_data"
    }
   ],
   "source": [
    "import matplotlib.pyplot as plt\n",
    "ham = df[df.label_num == 0].shape[0]\n",
    "spam = df[df.label_num == 1].shape[0]\n",
    "plt.figure(1, figsize=(16,8))\n",
    "plt.subplot(1,2,1)\n",
    "plt.bar(['spam', 'ham'], [spam, ham]) #bar chart to see the distribution of the target column\n",
    "plt.show()"
   ],
   "metadata": {
    "collapsed": false
   }
  },
  {
   "cell_type": "code",
   "execution_count": 6,
   "outputs": [
    {
     "data": {
      "text/plain": "<Figure size 1600x800 with 1 Axes>",
      "image/png": "[encoded data removed]"
     },
     "metadata": {},
     "output_type": "display_data"
    }
   ],
   "source": [
    "def plot_target_based_features(feature): # A function that produces a histogram for the received features\n",
    "    x1=df[df.label_num == 1][feature] #spam\n",
    "    x2=df[df.label_num == 0][feature] #ham\n",
    "    plt.figure(1, figsize=(16,8))\n",
    "    plt.subplot(1,2,1)\n",
    "    plt.xlabel(feature)\n",
    "    plt.ylabel('frequency')\n",
    "    plt.hist(x2, alpha=0.5, color=\"grey\", bins=100)#ham\n",
    "    plt.hist(x1, alpha=0.5, color=\"red\", bins=100)#spam\n",
    "\n",
    "df['text_len'] = df.text.map(lambda x:len(x))\n",
    "plot_target_based_features('text_len') # histogram based on text length"
   ],
   "metadata": {
    "collapsed": false
   }
  },
  {
   "cell_type": "code",
   "execution_count": 7,
   "outputs": [
    {
     "data": {
      "text/plain": "<Figure size 1600x800 with 1 Axes>",
      "image/png": "[encoded data removed]"
     },
     "metadata": {},
     "output_type": "display_data"
    }
   ],
   "source": [
    "df['words_count'] = df.text.str.split().map(lambda x:len(x))\n",
    "plot_target_based_features('words_count')  # histogram based on words count"
   ],
   "metadata": {
    "collapsed": false
   }
  },
  {
   "cell_type": "code",
   "execution_count": 8,
   "outputs": [
    {
     "name": "stdout",
     "output_type": "stream",
     "text": [
      "Features: ['0' '00' '000' ... 'zzocb' 'zzso' 'zzsyt']\n",
      "\n",
      "     0        00      000  0000  000000  000000000002858  000000000049773  \\\n",
      "0  0.0  0.000000  0.00000   0.0     0.0              0.0              0.0   \n",
      "1  0.0  0.000000  0.07245   0.0     0.0              0.0              0.0   \n",
      "2  0.0  0.219126  0.00000   0.0     0.0              0.0              0.0   \n",
      "3  0.0  0.000000  0.00000   0.0     0.0              0.0              0.0   \n",
      "4  0.0  0.000000  0.00000   0.0     0.0              0.0              0.0   \n",
      "\n",
      "   000080  000099  0001  ...  zynve  zyqtaqlt  zyrtec  zyyqywp  zzezrjok  zzn  \\\n",
      "0     0.0     0.0   0.0  ...    0.0       0.0     0.0      0.0       0.0  0.0   \n",
      "1     0.0     0.0   0.0  ...    0.0       0.0     0.0      0.0       0.0  0.0   \n",
      "2     0.0     0.0   0.0  ...    0.0       0.0     0.0      0.0       0.0  0.0   \n",
      "3     0.0     0.0   0.0  ...    0.0       0.0     0.0      0.0       0.0  0.0   \n",
      "4     0.0     0.0   0.0  ...    0.0       0.0     0.0      0.0       0.0  0.0   \n",
      "\n",
      "   zzo  zzocb  zzso  zzsyt  \n",
      "0  0.0    0.0   0.0    0.0  \n",
      "1  0.0    0.0   0.0    0.0  \n",
      "2  0.0    0.0   0.0    0.0  \n",
      "3  0.0    0.0   0.0    0.0  \n",
      "4  0.0    0.0   0.0    0.0  \n",
      "\n",
      "[5 rows x 50375 columns]\n",
      "Train with 4136 records with 50375 features\n",
      "     0   00  000  0000  000000  000000000002858  000000000049773  000080  \\\n",
      "0  0.0  0.0  0.0   0.0     0.0              0.0              0.0     0.0   \n",
      "1  0.0  0.0  0.0   0.0     0.0              0.0              0.0     0.0   \n",
      "2  0.0  0.0  0.0   0.0     0.0              0.0              0.0     0.0   \n",
      "3  0.0  0.0  0.0   0.0     0.0              0.0              0.0     0.0   \n",
      "4  0.0  0.0  0.0   0.0     0.0              0.0              0.0     0.0   \n",
      "\n",
      "   000099  0001  ...  zynve  zyqtaqlt  zyrtec  zyyqywp  zzezrjok  zzn  zzo  \\\n",
      "0     0.0   0.0  ...    0.0       0.0     0.0      0.0       0.0  0.0  0.0   \n",
      "1     0.0   0.0  ...    0.0       0.0     0.0      0.0       0.0  0.0  0.0   \n",
      "2     0.0   0.0  ...    0.0       0.0     0.0      0.0       0.0  0.0  0.0   \n",
      "3     0.0   0.0  ...    0.0       0.0     0.0      0.0       0.0  0.0  0.0   \n",
      "4     0.0   0.0  ...    0.0       0.0     0.0      0.0       0.0  0.0  0.0   \n",
      "\n",
      "   zzocb  zzso  zzsyt  \n",
      "0    0.0   0.0    0.0  \n",
      "1    0.0   0.0    0.0  \n",
      "2    0.0   0.0    0.0  \n",
      "3    0.0   0.0    0.0  \n",
      "4    0.0   0.0    0.0  \n",
      "\n",
      "[5 rows x 50375 columns]\n",
      "Test with 1035 records with 50375 features\n"
     ]
    }
   ],
   "source": [
    "from sklearn.model_selection import train_test_split\n",
    "from sklearn.feature_extraction.text import TfidfVectorizer\n",
    "\n",
    "df_new = df[['cleaned_text', 'label_num']]\n",
    "train, test = train_test_split(df_new, test_size=0.2, random_state=1) # splitting the data for train set and test set\n",
    "\n",
    "vocabulary = []\n",
    "for list in df['tokenized']: # making a list of all the tokenized words\n",
    "    vocabulary += list\n",
    "wordset = set(vocabulary) # transform the list to set so that each value will be unique\n",
    "TfidfVectorizer = TfidfVectorizer(vocabulary=wordset)\n",
    "print(\"Features:\", TfidfVectorizer.get_feature_names_out()) # extract features\n",
    "print()\n",
    "\n",
    "X_train = TfidfVectorizer.fit_transform(train['cleaned_text'])\n",
    "df_bow_train = pd.DataFrame(X_train.toarray(), columns=TfidfVectorizer.get_feature_names_out())\n",
    "print(df_bow_train.head())\n",
    "print(f'Train with {X_train.shape[0]} records with {X_train.shape[1]} features')\n",
    "\n",
    "X_test = TfidfVectorizer.fit_transform(test['cleaned_text'])\n",
    "df_bow_test = pd.DataFrame(X_test.toarray(), columns=TfidfVectorizer.get_feature_names_out())\n",
    "print(df_bow_test.head())\n",
    "print(f'Test with {X_test.shape[0]} records with {X_test.shape[1]} features')\n",
    "\n",
    "y_train = train['label_num']\n",
    "y_test = test['label_num']"
   ],
   "metadata": {
    "collapsed": false
   }
  },
  {
   "cell_type": "markdown",
   "source": [
    "# Classification Models"
   ],
   "metadata": {
    "collapsed": false
   }
  },
  {
   "cell_type": "code",
   "execution_count": 9,
   "outputs": [],
   "source": [
    "from sklearn.metrics import recall_score, precision_score, accuracy_score, f1_score\n",
    "\n",
    "def train_classifier(classifier, X_train, y_train, X_test, y_test): #A function that train the models and predict on the test set\n",
    "    classifier.fit(X_train, y_train)\n",
    "    y_pred = classifier.predict(X_test)\n",
    "    accuracy = accuracy_score(y_test,y_pred)\n",
    "    precision = precision_score(y_test,y_pred)\n",
    "    f1 = f1_score(y_test, y_pred, average='binary')\n",
    "    recall = recall_score(y_test, y_pred)\n",
    "    return accuracy,precision,f1,recall\n",
    "\n",
    "def train_indices(classifier, X_train, y_train): # A function that predict on the train set\n",
    "    y_pred = classifier.predict(X_train)\n",
    "    accuracy = accuracy_score(y_train,y_pred)\n",
    "    precision = precision_score(y_train,y_pred)\n",
    "    f1 = f1_score(y_train, y_pred, average='binary')\n",
    "    recall = recall_score(y_train, y_pred)\n",
    "    return accuracy,precision,f1,recall"
   ],
   "metadata": {
    "collapsed": false
   }
  },
  {
   "cell_type": "code",
   "execution_count": 10,
   "outputs": [
    {
     "name": "stdout",
     "output_type": "stream",
     "text": [
      "accuracy test 0.9594202898550724\n",
      "recall test 0.9263157894736842\n",
      "precision test 0.9924812030075187\n",
      "f1 score test 0.868421052631579\n",
      "\n",
      "accuracy train 0.9605899419729207\n",
      "recall train 0.9283516483516484\n",
      "precision train 0.9777777777777777\n",
      "f1 score train 0.8836820083682009\n"
     ]
    }
   ],
   "source": [
    "#KNeighborsClassifier\n",
    "from sklearn.neighbors import KNeighborsClassifier\n",
    "from sklearn.model_selection import GridSearchCV\n",
    "\n",
    "classifier_KNN = KNeighborsClassifier(n_neighbors=30)\n",
    "accuracy_test_KNN, precision_test_KNN, recall_test_KNN, F1_test_KNN =train_classifier(classifier_KNN,X_train,y_train,X_test,y_test)\n",
    "\n",
    "print(\"accuracy test\", accuracy_test_KNN)\n",
    "print(\"recall test\", recall_test_KNN)\n",
    "print(\"precision test\", precision_test_KNN)\n",
    "print(\"f1 score test\", F1_test_KNN)\n",
    "print()\n",
    "accuracy_train_KNN, precision_train_KNN, recall_train_KNN, F1_train_KNN =train_indices(classifier_KNN,X_train,y_train)\n",
    "print(\"accuracy train\", accuracy_train_KNN)\n",
    "print(\"recall train\", recall_train_KNN)\n",
    "print(\"precision train\", precision_train_KNN)\n",
    "print(\"f1 score train\", F1_train_KNN)"
   ],
   "metadata": {
    "collapsed": false
   }
  },
  {
   "cell_type": "code",
   "execution_count": 11,
   "outputs": [
    {
     "name": "stdout",
     "output_type": "stream",
     "text": [
      "accuracy test 0.991304347826087\n",
      "recall test 0.9853658536585366\n",
      "precision test 0.9742765273311897\n",
      "f1 score test 0.9967105263157895\n",
      "\n",
      "accuracy train 0.995164410058027\n",
      "recall train 0.9916874480465503\n",
      "precision train 0.9851362510322048\n",
      "f1 score train 0.998326359832636\n"
     ]
    }
   ],
   "source": [
    "# Logistic Regression\n",
    "from sklearn.linear_model import LogisticRegression\n",
    "import numpy as np\n",
    "\n",
    "classifier_LR = LogisticRegression(random_state=1, penalty='l2')\n",
    "accuracy_test_LR, precision_test_LR, recall_test_LR, F1_test_LR =train_classifier(classifier_LR,X_train,y_train,X_test,y_test)\n",
    "print(\"accuracy test\", accuracy_test_LR)\n",
    "print(\"recall test\", recall_test_LR)\n",
    "print(\"precision test\", precision_test_LR)\n",
    "print(\"f1 score test\", F1_test_LR)\n",
    "print()\n",
    "accuracy_train_LR, precision_train_LR, recall_train_LR, F1_train_LR =train_indices(classifier_LR,X_train,y_train)\n",
    "print(\"accuracy train\", accuracy_train_LR)\n",
    "print(\"recall train\", recall_train_LR)\n",
    "print(\"precision train\", precision_train_LR)\n",
    "print(\"f1 score train\", F1_train_LR)"
   ],
   "metadata": {
    "collapsed": false
   }
  },
  {
   "cell_type": "code",
   "execution_count": 12,
   "outputs": [
    {
     "name": "stdout",
     "output_type": "stream",
     "text": [
      "accuracy test 0.9922705314009662\n",
      "recall test 0.9869706840390879\n",
      "precision test 0.9774193548387097\n",
      "f1 score test 0.9967105263157895\n",
      "\n",
      "accuracy train 0.996615087040619\n",
      "recall train 0.9941715237302248\n",
      "precision train 0.9892294946147473\n",
      "f1 score train 0.999163179916318\n"
     ]
    }
   ],
   "source": [
    "# Support Vector Classification (SVC)\n",
    "from sklearn.svm import SVC\n",
    "\n",
    "classifier_SVC = SVC(random_state=1, kernel='sigmoid',gamma=1)\n",
    "\n",
    "accuracy_test_SVC, precision_test_SVC, recall_test_SVC, F1_test_SVC =train_classifier(classifier_SVC,X_train,y_train,X_test,y_test)\n",
    "print(\"accuracy test\", accuracy_test_SVC)\n",
    "print(\"recall test\", recall_test_SVC)\n",
    "print(\"precision test\", precision_test_SVC)\n",
    "print(\"f1 score test\", F1_test_SVC)\n",
    "print()\n",
    "accuracy_train_SVC, precision_train_SVC, recall_train_SVC, F1_train_SVC =train_indices(classifier_SVC,X_train,y_train)\n",
    "print(\"accuracy train\", accuracy_train_SVC)\n",
    "print(\"recall train\", recall_train_SVC)\n",
    "print(\"precision train\", precision_train_SVC)\n",
    "print(\"f1 score train\", F1_train_SVC)"
   ],
   "metadata": {
    "collapsed": false
   }
  },
  {
   "cell_type": "code",
   "execution_count": 13,
   "outputs": [
    {
     "name": "stdout",
     "output_type": "stream",
     "text": [
      "accuracy test 0.9797101449275363\n",
      "recall test 0.9654036243822075\n",
      "precision test 0.966996699669967\n",
      "f1 score test 0.9638157894736842\n",
      "\n",
      "accuracy train 0.9968568665377177\n",
      "recall train 0.9945810754481034\n",
      "precision train 0.9908637873754153\n",
      "f1 score train 0.998326359832636\n"
     ]
    }
   ],
   "source": [
    "# RandomForestClassifier\n",
    "from sklearn.ensemble import RandomForestClassifier\n",
    "\n",
    "classifier_RF = RandomForestClassifier(criterion='entropy', max_depth=50, n_estimators=250, random_state=1)\n",
    "accuracy_test_RF, precision_test_RF, recall_test_RF, F1_test_RF =train_classifier(classifier_RF,X_train,y_train,X_test,y_test)\n",
    "print(\"accuracy test\", accuracy_test_RF)\n",
    "print(\"recall test\", recall_test_RF)\n",
    "print(\"precision test\", precision_test_RF)\n",
    "print(\"f1 score test\", F1_test_RF)\n",
    "print()\n",
    "accuracy_train_RF, precision_train_RF, recall_train_RF, F1_train_RF =train_indices(classifier_RF,X_train,y_train)\n",
    "print(\"accuracy train\", accuracy_train_RF)\n",
    "print(\"recall train\", recall_train_RF)\n",
    "print(\"precision train\", precision_train_RF)\n",
    "print(\"f1 score train\", F1_train_RF)"
   ],
   "metadata": {
    "collapsed": false
   }
  },
  {
   "cell_type": "markdown",
   "source": [
    "# Table of the results of the models"
   ],
   "metadata": {
    "collapsed": false
   }
  },
  {
   "cell_type": "code",
   "execution_count": 14,
   "outputs": [
    {
     "name": "stdout",
     "output_type": "stream",
     "text": [
      "Model                  Accuracy - Train    Recall - Train    Precision - Train    f1 score - Train\n",
      "-------------------  ------------------  ----------------  -------------------  ------------------\n",
      "Logistic Regression            0.995164          0.991687             0.985136            0.998326\n",
      "SVC                            0.996615          0.994172             0.989229            0.999163\n",
      "KNeighbors                     0.96059           0.928352             0.977778            0.883682\n",
      "Random Forest                  0.996857          0.994581             0.990864            0.998326\n",
      "\n",
      "Model                  Accuracy - Test    Recall - Test    Precision - Test    f1 score - Test\n",
      "-------------------  -----------------  ---------------  ------------------  -----------------\n",
      "Logistic Regression           0.991304         0.985366            0.974277           0.996711\n",
      "SVC                           0.992271         0.986971            0.977419           0.996711\n",
      "KNeighbors                    0.95942          0.926316            0.992481           0.868421\n",
      "Random Forest                 0.97971          0.965404            0.966997           0.963816\n"
     ]
    }
   ],
   "source": [
    "from tabulate import tabulate\n",
    "\n",
    "data_train = [[\"Logistic Regression\", accuracy_train_LR, recall_train_LR,precision_train_LR, F1_train_LR],\n",
    "        [\"SVC\", accuracy_train_SVC, recall_train_SVC,precision_train_SVC, F1_train_SVC],\n",
    "        [\"KNeighbors\", accuracy_train_KNN, recall_train_KNN,precision_train_KNN, F1_train_KNN],\n",
    "        [\"Random Forest\",accuracy_train_RF, recall_train_RF,precision_train_RF, F1_train_RF ]]\n",
    "col_names = [\"Model\", \"Accuracy - Train\", \"Recall - Train\", \"Precision - Train\", \"f1 score - Train\"]\n",
    "print(tabulate(data_train, headers=col_names)) # table of the train results\n",
    "print()\n",
    "data_test = [[\"Logistic Regression\", accuracy_test_LR, recall_test_LR,precision_test_LR, F1_test_LR],\n",
    "              [\"SVC\", accuracy_test_SVC, recall_test_SVC,precision_test_SVC, F1_test_SVC],\n",
    "              [\"KNeighbors\", accuracy_test_KNN, recall_test_KNN,precision_test_KNN, F1_test_KNN],\n",
    "              [\"Random Forest\",accuracy_test_RF, recall_test_RF,precision_test_RF, F1_test_RF]]\n",
    "col_names = [\"Model\", \"Accuracy - Test\", \"Recall - Test\", \"Precision - Test\", \"f1 score - Test\"]\n",
    "print(tabulate(data_test, headers=col_names)) # table of the test results"
   ],
   "metadata": {
    "collapsed": false
   }
  },
  {
   "cell_type": "markdown",
   "source": [
    "To examine the results of the models first we will look for overfitting.\n",
    "overfitting occurs when the model doesn't perform on the test set as well on the train set.\n",
    "According to that, we can see that in all the models, the indices of the train and the test set are approximately close so there is no concern for overfitting.\n",
    "Second, we will examine the indices to choose the model with the best performance.\n",
    "The best model is the SVC model because it has the highest indices (and the highest accuracy).\n",
    "\n",
    "SVC is a linear model for classification and regression problems. It can solve linear and non-linear problems and work well for many practical problems. The algorithm creates a line or a hyperplane which separates the data into classes.\n",
    "One reason that can cause the difference in the models is the advantages of the SVC model over the other models.\n",
    "SVC offers very high accuracy compared to other classifiers such as logistic regression and decision trees. It is known for its kernel trick to handle nonlinear input spaces.\n",
    "SVC works well with unstructured and semi-structured data like text and images while logistic regression works with already identified independent variables.\n",
    "SVC takes care of outliers better than KNN and logistic regression. In addition, SVC outperforms KNN when there are large features and we have a large number of features in our case.\n",
    "Compared to Random Forest, RF is intrinsically suited for multiclass problems, while SVC is intrinsically two-class - our problem is binary.\n",
    "\n",
    "Another reason is the selection of the hyperparameters.  Hyperparameters are important because they directly control the behavior of the training algorithm and have a significant impact on the performance of the model being trained.\n",
    "So, there is a chance that the choice of hyperparameters for the SVC model was the best over the rest models, and it is possible that if we had made a GridSearch we would have gotten different results."
   ],
   "metadata": {
    "collapsed": false
   }
  }
 ],
 "metadata": {
  "kernelspec": {
   "display_name": "Python 3",
   "language": "python",
   "name": "python3"
  },
  "language_info": {
   "codemirror_mode": {
    "name": "ipython",
    "version": 2
   },
   "file_extension": ".py",
   "mimetype": "text/x-python",
   "name": "python",
   "nbconvert_exporter": "python",
   "pygments_lexer": "ipython2",
   "version": "2.7.6"
  }
 },
 "nbformat": 4,
 "nbformat_minor": 0
}
