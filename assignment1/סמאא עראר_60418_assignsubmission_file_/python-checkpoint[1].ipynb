{
 "cells": [
  {
   "cell_type": "code",
   "execution_count": 54,
   "id": "c269165e",
   "metadata": {},
   "outputs": [],
   "source": [
    "#name:gal horesh id: 311306187\n",
    "#name:samaa arar id:322983370"
   ]
  },
  {
   "cell_type": "code",
   "execution_count": 55,
   "id": "bc1a2d24",
   "metadata": {},
   "outputs": [],
   "source": [
    "#קריאת הקובץ\n",
    "import pandas as pd\n",
    "csv_file=pd.read_csv(\"spam_ham_dataset.csv\")"
   ]
  },
  {
   "cell_type": "code",
   "execution_count": 56,
   "id": "dadbd648",
   "metadata": {},
   "outputs": [
    {
     "data": {
      "text/html": [
       "<div>\n",
       "<style scoped>\n",
       "    .dataframe tbody tr th:only-of-type {\n",
       "        vertical-align: middle;\n",
       "    }\n",
       "\n",
       "    .dataframe tbody tr th {\n",
       "        vertical-align: top;\n",
       "    }\n",
       "\n",
       "    .dataframe thead th {\n",
       "        text-align: right;\n",
       "    }\n",
       "</style>\n",
       "<table border=\"1\" class=\"dataframe\">\n",
       "  <thead>\n",
       "    <tr style=\"text-align: right;\">\n",
       "      <th></th>\n",
       "      <th>Unnamed: 0</th>\n",
       "      <th>label</th>\n",
       "      <th>text</th>\n",
       "      <th>label_num</th>\n",
       "      <th>tokenized_sents</th>\n",
       "      <th>english</th>\n",
       "    </tr>\n",
       "  </thead>\n",
       "  <tbody>\n",
       "    <tr>\n",
       "      <th>0</th>\n",
       "      <td>605</td>\n",
       "      <td>ham</td>\n",
       "      <td>Subject: enron methanol ; meter # : 988291\\r\\n...</td>\n",
       "      <td>0</td>\n",
       "      <td>[Subject, :, enron, methanol, ;, meter, #, :, ...</td>\n",
       "      <td>[Subject, enron, methanol, meter, 988291, foll...</td>\n",
       "    </tr>\n",
       "    <tr>\n",
       "      <th>1</th>\n",
       "      <td>2349</td>\n",
       "      <td>ham</td>\n",
       "      <td>Subject: hpl nom for january 9 , 2001\\r\\n( see...</td>\n",
       "      <td>0</td>\n",
       "      <td>[Subject, :, hpl, nom, for, january, 9, ,, 200...</td>\n",
       "      <td>[Subject, hpl, nom, january, 9, 2001, see, att...</td>\n",
       "    </tr>\n",
       "    <tr>\n",
       "      <th>2</th>\n",
       "      <td>3624</td>\n",
       "      <td>ham</td>\n",
       "      <td>Subject: neon retreat\\r\\nho ho ho , we ' re ar...</td>\n",
       "      <td>0</td>\n",
       "      <td>[Subject, :, neon, retreat, ho, ho, ho, ,, we,...</td>\n",
       "      <td>[Subject, neon, retreat, ho, ho, ho, around, w...</td>\n",
       "    </tr>\n",
       "    <tr>\n",
       "      <th>3</th>\n",
       "      <td>4685</td>\n",
       "      <td>spam</td>\n",
       "      <td>Subject: photoshop , windows , office . cheap ...</td>\n",
       "      <td>1</td>\n",
       "      <td>[Subject, :, photoshop, ,, windows, ,, office,...</td>\n",
       "      <td>[Subject, photoshop, windows, office, cheap, m...</td>\n",
       "    </tr>\n",
       "    <tr>\n",
       "      <th>4</th>\n",
       "      <td>2030</td>\n",
       "      <td>ham</td>\n",
       "      <td>Subject: re : indian springs\\r\\nthis deal is t...</td>\n",
       "      <td>0</td>\n",
       "      <td>[Subject, :, re, :, indian, springs, this, dea...</td>\n",
       "      <td>[Subject, indian, springs, deal, book, teco, p...</td>\n",
       "    </tr>\n",
       "  </tbody>\n",
       "</table>\n",
       "</div>"
      ],
      "text/plain": [
       "   Unnamed: 0 label                                               text  \\\n",
       "0         605   ham  Subject: enron methanol ; meter # : 988291\\r\\n...   \n",
       "1        2349   ham  Subject: hpl nom for january 9 , 2001\\r\\n( see...   \n",
       "2        3624   ham  Subject: neon retreat\\r\\nho ho ho , we ' re ar...   \n",
       "3        4685  spam  Subject: photoshop , windows , office . cheap ...   \n",
       "4        2030   ham  Subject: re : indian springs\\r\\nthis deal is t...   \n",
       "\n",
       "   label_num                                    tokenized_sents  \\\n",
       "0          0  [Subject, :, enron, methanol, ;, meter, #, :, ...   \n",
       "1          0  [Subject, :, hpl, nom, for, january, 9, ,, 200...   \n",
       "2          0  [Subject, :, neon, retreat, ho, ho, ho, ,, we,...   \n",
       "3          1  [Subject, :, photoshop, ,, windows, ,, office,...   \n",
       "4          0  [Subject, :, re, :, indian, springs, this, dea...   \n",
       "\n",
       "                                             english  \n",
       "0  [Subject, enron, methanol, meter, 988291, foll...  \n",
       "1  [Subject, hpl, nom, january, 9, 2001, see, att...  \n",
       "2  [Subject, neon, retreat, ho, ho, ho, around, w...  \n",
       "3  [Subject, photoshop, windows, office, cheap, m...  \n",
       "4  [Subject, indian, springs, deal, book, teco, p...  "
      ]
     },
     "execution_count": 56,
     "metadata": {},
     "output_type": "execute_result"
    }
   ],
   "source": [
    "#2\n",
    "import nltk\n",
    "import string\n",
    "from nltk.corpus import stopwords\n",
    "from nltk.tokenize import word_tokenize\n",
    "csv_file['tokenized_sents'] = csv_file.apply(lambda row: word_tokenize(row['text']), axis=1)\n",
    "csv_file['english']=csv_file.apply(lambda row: ([c for c in row['tokenized_sents'] if  (c not in string.punctuation and c not in stopwords.words('english'))]),axis=1)\n",
    "csv_file.head()"
   ]
  },
  {
   "cell_type": "code",
   "execution_count": 57,
   "id": "0cbefa6e",
   "metadata": {},
   "outputs": [
    {
     "name": "stderr",
     "output_type": "stream",
     "text": [
      "C:\\Users\\Samaa\\AppData\\Local\\Temp\\ipykernel_14696\\3819906295.py:5: MatplotlibDeprecationWarning: The seaborn styles shipped by Matplotlib are deprecated since 3.6, as they no longer correspond to the styles shipped by seaborn. However, they will remain available as 'seaborn-v0_8-<style>'. Alternatively, directly use the seaborn API instead.\n",
      "  plt.style.use(style=\"seaborn\")\n"
     ]
    },
    {
     "data": {
      "image/png": "[encoded data removed]",
      "text/plain": [
       "<Figure size 1600x800 with 1 Axes>"
      ]
     },
     "metadata": {},
     "output_type": "display_data"
    }
   ],
   "source": [
    "#3\n",
    "import pandas as pd\n",
    "import numpy as np\n",
    "import matplotlib.pyplot as plt\n",
    "plt.style.use(style=\"seaborn\")\n",
    "spam = pd.read_csv('spam_ham_dataset.csv')\n",
    "spam.head()\n",
    "spam.label.value_counts()[:5]\n",
    "spam.text.value_counts()[:5]\n",
    "its_spam = spam[spam.label_num == 1].shape[0]\n",
    "not_spam = spam[spam.label_num == 0].shape[0]\n",
    "plt.figure(1,figsize=(16,8))\n",
    "plt.subplot(1,2,1)\n",
    "_ = plt.bar(['its_spam', 'Not_spam'], [its_spam, not_spam])\n",
    "def plot_target_based_features(feature):\n",
    "    x1 = spam[spam.label_num == 1][feature]\n",
    "    x2 = spam[spam.label_num == 0][feature]\n",
    "    plt.figure(1, figsize=(16,8))\n",
    "    plt.subplot(1,1,1)\n",
    "    _ = plt.hist(x2, alpha=0.5, color=\"grey\", bins=50)\n",
    "    _ = plt.hist(x1, alpha=0.7, color=\"red\", bins=50)\n",
    "    return _\n"
   ]
  },
  {
   "cell_type": "code",
   "execution_count": 58,
   "id": "c3a29958",
   "metadata": {},
   "outputs": [],
   "source": [
    "from sklearn.feature_extraction.text import CountVectorizer\n",
    "from sklearn.feature_extraction.text import TfidfTransformer\n",
    "from sklearn.naive_bayes import MultinomialNB\n",
    "from sklearn.model_selection import train_test_split\n",
    "from sklearn.metrics import classification_report"
   ]
  },
  {
   "cell_type": "code",
   "execution_count": 59,
   "id": "f6cc03fe",
   "metadata": {},
   "outputs": [
    {
     "name": "stdout",
     "output_type": "stream",
     "text": [
      "(5171, 50300)\n"
     ]
    }
   ],
   "source": [
    "#4\n",
    "vectorizer=CountVectorizer()\n",
    "strings=csv_file.apply(lambda row:' '.join(row['english']),axis=1)\n",
    "bow = vectorizer.fit(strings)\n",
    "message_bow=bow.transform(strings)\n",
    "message_bow.shape\n",
    "print(message_bow.shape)\n"
   ]
  },
  {
   "cell_type": "code",
   "execution_count": 60,
   "id": "fc3debb8",
   "metadata": {},
   "outputs": [],
   "source": [
    "#5\n",
    "tfidf_transformer=TfidfTransformer().fit(message_bow)\n",
    "message_tfidf=tfidf_transformer.transform(message_bow)\n",
    "X_train, X_test, y_train, y_test=train_test_split(message_bow,csv_file['label'],test_size=0.3)\n",
    "spam_detect_model=MultinomialNB().fit(X_train,y_train)\n",
    "all_pred=spam_detect_model.predict(X_test)"
   ]
  },
  {
   "cell_type": "code",
   "execution_count": 61,
   "id": "5e4c813b",
   "metadata": {},
   "outputs": [
    {
     "name": "stdout",
     "output_type": "stream",
     "text": [
      "              precision    recall  f1-score   support\n",
      "\n",
      "         ham       0.99      0.98      0.98      1124\n",
      "        spam       0.95      0.97      0.96       428\n",
      "\n",
      "    accuracy                           0.98      1552\n",
      "   macro avg       0.97      0.97      0.97      1552\n",
      "weighted avg       0.98      0.98      0.98      1552\n",
      "\n"
     ]
    }
   ],
   "source": [
    "#6\n",
    "print(classification_report(y_test,all_pred))"
   ]
  },
  {
   "cell_type": "code",
   "execution_count": 62,
   "id": "9b3b1b73",
   "metadata": {},
   "outputs": [
    {
     "name": "stdout",
     "output_type": "stream",
     "text": [
      "              precision    recall  f1-score   support\n",
      "\n",
      "         ham       0.90      1.00      0.94      1124\n",
      "        spam       1.00      0.69      0.82       428\n",
      "\n",
      "    accuracy                           0.92      1552\n",
      "   macro avg       0.95      0.85      0.88      1552\n",
      "weighted avg       0.92      0.92      0.91      1552\n",
      "\n"
     ]
    }
   ],
   "source": [
    "#7\n",
    "from sklearn.pipeline import Pipeline\n",
    "pipeline=Pipeline([\n",
    "    (\"tfidf\",TfidfTransformer()),\n",
    "    (\"classifier\",MultinomialNB())])\n",
    "pipeline.fit((X_train),(y_train))\n",
    "pred=pipeline.predict(X_test)\n",
    "print(classification_report(y_test,pred))"
   ]
  },
  {
   "cell_type": "code",
   "execution_count": 63,
   "id": "c38c92c6",
   "metadata": {},
   "outputs": [
    {
     "name": "stdout",
     "output_type": "stream",
     "text": [
      "╒═════════════════════════════════════════════════════════╕\n",
      "│               precision    recall  f1-score   support   │\n",
      "│                                                         │\n",
      "│          ham       0.99      0.98      0.98      1124   │\n",
      "│         spam       0.95      0.97      0.96       428   │\n",
      "│                                                         │\n",
      "│     accuracy                           0.98      1552   │\n",
      "│    macro avg       0.97      0.97      0.97      1552   │\n",
      "│ weighted avg       0.98      0.98      0.98      1552   │\n",
      "│                                                         │\n",
      "╞═════════════════════════════════════════════════════════╡\n",
      "╘═════════════════════════════════════════════════════════╛\n",
      "╒═════════════════════════════════════════════════════════╕\n",
      "│               precision    recall  f1-score   support   │\n",
      "│                                                         │\n",
      "│          ham       0.90      1.00      0.94      1124   │\n",
      "│         spam       1.00      0.69      0.82       428   │\n",
      "│                                                         │\n",
      "│     accuracy                           0.92      1552   │\n",
      "│    macro avg       0.95      0.85      0.88      1552   │\n",
      "│ weighted avg       0.92      0.92      0.91      1552   │\n",
      "│                                                         │\n",
      "╞═════════════════════════════════════════════════════════╡\n",
      "╘═════════════════════════════════════════════════════════╛\n"
     ]
    }
   ],
   "source": [
    "#8\n",
    "from tabulate import tabulate\n",
    "table_data = [[classification_report(y_test,all_pred)]]\n",
    "table_data1 = [[classification_report(y_test,pred)]]\n",
    "print(tabulate(table_data, headers=\"firstrow\",tablefmt=\"fancy_grid\"))\n",
    "print(tabulate(table_data1, headers=\"firstrow\",tablefmt=\"fancy_grid\"))\n",
    "\n"
   ]
  },
  {
   "cell_type": "code",
   "execution_count": 64,
   "id": "4b232572",
   "metadata": {},
   "outputs": [],
   "source": [
    "#9\n",
    "#הריצה שנתנה את הדיוק הגבוה ביותר היא מודל הערכת הדיוק, ריצה זו מדייקת את המודל ומסייעת להגיע לערכית אופטימליים\n",
    "#הריצה מודדת באופן מדויק את המדדים לכל תור"
   ]
  }
 ],
 "metadata": {
  "kernelspec": {
   "display_name": "Python 3 (ipykernel)",
   "language": "python",
   "name": "python3"
  },
  "language_info": {
   "codemirror_mode": {
    "name": "ipython",
    "version": 3
   },
   "file_extension": ".py",
   "mimetype": "text/x-python",
   "name": "python",
   "nbconvert_exporter": "python",
   "pygments_lexer": "ipython3",
   "version": "3.11.1"
  },
  "vscode": {
   "interpreter": {
    "hash": "5238573367df39f7286bb46f9ff5f08f63a01a80960060ce41e3c79b190280fa"
   }
  }
 },
 "nbformat": 4,
 "nbformat_minor": 5
}
