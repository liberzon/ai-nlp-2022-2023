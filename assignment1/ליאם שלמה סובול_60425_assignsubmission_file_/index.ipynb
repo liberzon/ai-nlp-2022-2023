{
 "cells": [
  {
   "attachments": {},
   "cell_type": "markdown",
   "metadata": {},
   "source": [
    "Liam sobol 206092397\n",
    "Raphael stanislas 332264498"
   ]
  },
  {
   "cell_type": "code",
   "execution_count": 122,
   "metadata": {},
   "outputs": [
    {
     "name": "stderr",
     "output_type": "stream",
     "text": [
      "[nltk_data] Downloading package punkt to\n",
      "[nltk_data]     C:\\Users\\liam1\\AppData\\Roaming\\nltk_data...\n",
      "[nltk_data]   Package punkt is already up-to-date!\n"
     ]
    }
   ],
   "source": [
    "import pandas as pd\n",
    "import nltk\n",
    "from nltk.tokenize import word_tokenize\n",
    "import matplotlib.pyplot as plt\n",
    "nltk.download('punkt')\n",
    "data = pd.read_csv('spam_ham_dataset.csv')\n",
    "data['text'] = data['text'].map(lambda x: x.lstrip('Subject:'))\n",
    "xLower = data[\"text\"].map(lambda x: x.lower())\n",
    "data.fillna(-99,inplace=True)\n",
    "\n"
   ]
  },
  {
   "attachments": {},
   "cell_type": "markdown",
   "metadata": {},
   "source": [
    "Vectorize wi"
   ]
  },
  {
   "cell_type": "code",
   "execution_count": 123,
   "metadata": {},
   "outputs": [],
   "source": [
    "from nltk.corpus import stopwords\n",
    "import numpy as np\n",
    "from sortedcontainers import SortedSet\n",
    "import re\n",
    "\n",
    "from nltk.tokenize import word_tokenize\n",
    "\n",
    "data['tokenized_text'] = data['text'].apply(word_tokenize) \n"
   ]
  },
  {
   "cell_type": "code",
   "execution_count": 124,
   "metadata": {},
   "outputs": [
    {
     "name": "stdout",
     "output_type": "stream",
     "text": [
      "0        57\n",
      "1        19\n",
      "2       227\n",
      "3        45\n",
      "4        53\n",
      "       ... \n",
      "5166     57\n",
      "5167    113\n",
      "5168     53\n",
      "5169     62\n",
      "5170    107\n",
      "Name: word_count, Length: 5171, dtype: int64\n"
     ]
    }
   ],
   "source": [
    "\n",
    "data[\"word_count\"] =data.tokenized_text.map(lambda x: len(set(str(x).split())))\n",
    "print(data[\"word_count\"])"
   ]
  },
  {
   "attachments": {},
   "cell_type": "markdown",
   "metadata": {},
   "source": [
    "EDA Of the text column"
   ]
  },
  {
   "cell_type": "code",
   "execution_count": 125,
   "metadata": {},
   "outputs": [
    {
     "name": "stdout",
     "output_type": "stream",
     "text": [
      "ham info\n",
      "count    3672.000000\n",
      "mean       90.558279\n",
      "std        83.618133\n",
      "min         1.000000\n",
      "25%        35.000000\n",
      "50%        68.000000\n",
      "75%       121.000000\n",
      "max      1647.000000\n",
      "Name: word_count, dtype: float64\n",
      "--------------\n",
      "spam info\n",
      "count    1499.000000\n",
      "mean      122.619746\n",
      "std       132.635112\n",
      "min         1.000000\n",
      "25%        42.000000\n",
      "50%        80.000000\n",
      "75%       147.000000\n",
      "max      1328.000000\n",
      "Name: word_count, dtype: float64\n"
     ]
    }
   ],
   "source": [
    "spam = data[data.label_num == 1]['word_count']\n",
    "ham = data[data.label_num == 0]['word_count']\n",
    "print('ham info')\n",
    "print(ham.describe())\n",
    "\n",
    "print('--------------')\n",
    "print('spam info')\n",
    "print(spam.describe())"
   ]
  },
  {
   "cell_type": "code",
   "execution_count": 126,
   "metadata": {},
   "outputs": [
    {
     "data": {
      "image/png": "[encoded data removed]",
      "text/plain": [
       "<Figure size 1600x800 with 1 Axes>"
      ]
     },
     "metadata": {},
     "output_type": "display_data"
    }
   ],
   "source": [
    "\n",
    "\n",
    "def plot_target_based_features(feature):\n",
    "    x1 = data[data.label_num== 1][feature]\n",
    "    x2 = data[data.label_num == 0][feature]\n",
    "    plt.figure(1, figsize=(16,8))\n",
    "    plt.subplot(1,1,1)\n",
    "    _ = plt.hist(x2, alpha=0.5, color=\"grey\", bins=50)\n",
    "    _ = plt.hist(x1, alpha=0.7, color=\"red\", bins=50)\n",
    "    return _\n",
    "\n",
    "_ = plot_target_based_features(\"word_count\")"
   ]
  },
  {
   "attachments": {},
   "cell_type": "markdown",
   "metadata": {},
   "source": [
    "CountVectorize function in order to build a table that shows the number of occurnace of each ngram"
   ]
  },
  {
   "cell_type": "code",
   "execution_count": 127,
   "metadata": {},
   "outputs": [
    {
     "name": "stdout",
     "output_type": "stream",
     "text": [
      "      00  000  0000  000000  000000000002858  000000000049773  000080  000099  \\\n",
      "0      1    0     0       0                0                0       0       0   \n",
      "1      0    0     0       0                0                0       0       0   \n",
      "2      0    0     0       0                0                0       0       0   \n",
      "3      0    0     0       0                0                0       0       0   \n",
      "4      0    0     0       0                0                0       0       0   \n",
      "...   ..  ...   ...     ...              ...              ...     ...     ...   \n",
      "5166   0    0     0       0                0                0       0       0   \n",
      "5167   0    4     0       0                0                0       0       0   \n",
      "5168   0    0     0       0                0                0       0       0   \n",
      "5169   0    0     0       0                0                0       0       0   \n",
      "5170   0    0     0       0                0                0       0       0   \n",
      "\n",
      "      0001  00018  ...  zynve  zyqtaqlt  zyrtec  zyyqywp  zzezrjok  zzn  zzo  \\\n",
      "0        0      0  ...      0         0       0        0         0    0    0   \n",
      "1        0      0  ...      0         0       0        0         0    0    0   \n",
      "2        0      0  ...      0         0       0        0         0    0    0   \n",
      "3        0      0  ...      0         0       0        0         0    0    0   \n",
      "4        0      0  ...      0         0       0        0         0    0    0   \n",
      "...    ...    ...  ...    ...       ...     ...      ...       ...  ...  ...   \n",
      "5166     0      0  ...      0         0       0        0         0    0    0   \n",
      "5167     0      0  ...      0         0       0        0         0    0    0   \n",
      "5168     0      0  ...      0         0       0        0         0    0    0   \n",
      "5169     0      0  ...      0         0       0        0         0    0    0   \n",
      "5170     0      0  ...      0         0       0        0         0    0    0   \n",
      "\n",
      "      zzocb  zzso  zzsyt  \n",
      "0         0     0      0  \n",
      "1         0     0      0  \n",
      "2         0     0      0  \n",
      "3         0     0      0  \n",
      "4         0     0      0  \n",
      "...     ...   ...    ...  \n",
      "5166      0     0      0  \n",
      "5167      0     0      0  \n",
      "5168      0     0      0  \n",
      "5169      0     0      0  \n",
      "5170      0     0      0  \n",
      "\n",
      "[5171 rows x 50140 columns]\n"
     ]
    }
   ],
   "source": [
    "from sklearn.feature_extraction.text import CountVectorizer, TfidfVectorizer\n",
    "\n",
    "CountVec = CountVectorizer(ngram_range=(1,1),\n",
    "                           stop_words='english')\n",
    "\n",
    "#transform\n",
    "Count_data = CountVec.fit_transform(data.text.tolist())\n",
    " \n",
    "#create dataframe\n",
    "X=pd.DataFrame(Count_data.toarray(),columns=CountVec.get_feature_names_out())\n",
    "print(X)\n",
    "                   "
   ]
  },
  {
   "cell_type": "code",
   "execution_count": 128,
   "metadata": {},
   "outputs": [],
   "source": [
    "from sklearn.model_selection import train_test_split\n",
    "bow_benchmarks = []\n",
    "y=data.label_num\n",
    "X_train, X_test,y_train,y_test = train_test_split( X, y, test_size=0.2, random_state=123)\n",
    "\n"
   ]
  },
  {
   "cell_type": "code",
   "execution_count": 129,
   "metadata": {},
   "outputs": [],
   "source": [
    "from sklearn.ensemble import RandomForestClassifier\n",
    "\n",
    "RF_classifier = RandomForestClassifier(n_estimators=100, random_state=0)\n",
    "\n"
   ]
  },
  {
   "attachments": {},
   "cell_type": "markdown",
   "metadata": {},
   "source": [
    "Benchmark function to summarize all evaluation scores and returns list"
   ]
  },
  {
   "cell_type": "code",
   "execution_count": 130,
   "metadata": {},
   "outputs": [],
   "source": [
    "from sklearn.metrics import accuracy_score,precision_score,recall_score,f1_score\n",
    "def benchmark(classifier,vec):\n",
    "    classifier.fit(X_train, y_train)\n",
    "    y_pred = classifier.predict(X_test)\n",
    "\n",
    "    a_score = accuracy_score(y_test, y_pred)\n",
    "    p_score = precision_score(y_test, y_pred)\n",
    "    r_score = recall_score(y_test, y_pred)\n",
    "    f_score = f1_score(y_test, y_pred)\n",
    "\n",
    "    clf_descr = classifier.__class__.__name__ + ' ' + vec\n",
    "    stats = [clf_descr,a_score,p_score,r_score,f_score]\n",
    "    return stats"
   ]
  },
  {
   "cell_type": "code",
   "execution_count": 131,
   "metadata": {},
   "outputs": [],
   "source": [
    "\n",
    "bow_rf_results = benchmark(RF_classifier,'BOW')\n"
   ]
  },
  {
   "cell_type": "code",
   "execution_count": 132,
   "metadata": {},
   "outputs": [],
   "source": [
    "from sklearn.linear_model import LogisticRegression\n",
    "\n",
    "LR_classifier = LogisticRegression(C=4, max_iter=800)\n",
    "bow_LR_results = benchmark(LR_classifier,'BOW')\n"
   ]
  },
  {
   "cell_type": "code",
   "execution_count": 133,
   "metadata": {},
   "outputs": [],
   "source": [
    "tf_idf_vec = TfidfVectorizer(use_idf=True, \n",
    "                        smooth_idf=False,  \n",
    "                        ngram_range=(1,1),stop_words='english')\n",
    "\n",
    "tf_idf_data = tf_idf_vec.fit_transform(data.text.tolist())\n",
    "\n",
    "X=pd.DataFrame(tf_idf_data.toarray(),columns=tf_idf_vec.get_feature_names_out())"
   ]
  },
  {
   "cell_type": "code",
   "execution_count": 134,
   "metadata": {},
   "outputs": [],
   "source": [
    "tf_idf_benchmarks = []\n",
    "X_train, X_test,y_train,y_test = train_test_split( X, y, test_size=0.2, random_state=123)\n",
    "\n",
    "tf_idf_RF_results = benchmark(RF_classifier,'tf-idf')\n",
    "\n"
   ]
  },
  {
   "cell_type": "code",
   "execution_count": 135,
   "metadata": {},
   "outputs": [],
   "source": [
    "tf_idf_LR_results = benchmark(LR_classifier,'tf-idf')\n"
   ]
  },
  {
   "cell_type": "code",
   "execution_count": 136,
   "metadata": {},
   "outputs": [
    {
     "name": "stdout",
     "output_type": "stream",
     "text": [
      "                      Model Name  Accuracy  Precision    Recall        f1\n",
      "0     RandomForestClassifier BOW  0.981643   0.952862  0.982639  0.967521\n",
      "1         LogisticRegression BOW  0.981643   0.959044  0.975694  0.967298\n",
      "2  RandomForestClassifier tf-idf  0.977778   0.937294  0.986111  0.961083\n",
      "3      LogisticRegression tf-idf  0.988406   0.975862  0.982639  0.979239\n"
     ]
    }
   ],
   "source": [
    "\n",
    "lists = [bow_rf_results,bow_LR_results,tf_idf_RF_results,tf_idf_LR_results]\n",
    "results = pd.DataFrame(lists,columns=['Model Name','Accuracy','Precision','Recall','f1'])\n",
    "print(results)"
   ]
  },
  {
   "cell_type": "code",
   "execution_count": 137,
   "metadata": {},
   "outputs": [
    {
     "name": "stdout",
     "output_type": "stream",
     "text": [
      "The best model is the one using Logistic Regression Model and the \"term frequency–inverse document frequency\" with accuracy score of 98.88%\n",
      "The reason for that might be That there is a small use of n-grams and stop words in the text field at the spam_ham_dataset\n"
     ]
    }
   ],
   "source": [
    "print('The best model is the one using Logistic Regression Model and the \"term frequency–inverse document frequency\" with accuracy score of 98.88%')\n",
    "print('The reason for that might be That there is a small use of n-grams and stop words in the text field at the spam_ham_dataset')"
   ]
  }
 ],
 "metadata": {
  "kernelspec": {
   "display_name": "Python 3.10.5 64-bit",
   "language": "python",
   "name": "python3"
  },
  "language_info": {
   "codemirror_mode": {
    "name": "ipython",
    "version": 3
   },
   "file_extension": ".py",
   "mimetype": "text/x-python",
   "name": "python",
   "nbconvert_exporter": "python",
   "pygments_lexer": "ipython3",
   "version": "3.10.5"
  },
  "orig_nbformat": 4,
  "vscode": {
   "interpreter": {
    "hash": "03a3fd56030eef7b9c7571864fc648fc67e115882c832775bd7d7e04b8860d9e"
   }
  }
 },
 "nbformat": 4,
 "nbformat_minor": 2
}
