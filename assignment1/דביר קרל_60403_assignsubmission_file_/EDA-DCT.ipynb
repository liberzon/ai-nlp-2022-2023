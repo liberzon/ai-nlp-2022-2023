{
 "cells": [
  {
   "cell_type": "markdown",
   "metadata": {},
   "source": [
    "Dvir & Avishay"
   ]
  },
  {
   "attachments": {},
   "cell_type": "markdown",
   "metadata": {},
   "source": [
    "Part 1 - Importing All Related Packages"
   ]
  },
  {
   "cell_type": "code",
   "execution_count": 1,
   "metadata": {
    "ExecuteTime": {
     "end_time": "2022-12-09T15:07:02.190174Z",
     "start_time": "2022-12-09T15:07:00.027435Z"
    }
   },
   "outputs": [],
   "source": [
    "#loading modules\n",
    "from sklearn.linear_model import LogisticRegression\n",
    "from sortedcontainers import SortedSet\n",
    "from sklearn.feature_extraction.text import CountVectorizer\n",
    "import seaborn as sns\n",
    "import pandas as pd\n",
    "import numpy as np\n",
    "import matplotlib.pyplot as plt\n",
    "import re\n",
    "import string\n",
    "from sklearn.metrics import accuracy_score, f1_score,classification_report\n",
    "from nltk.corpus import stopwords\n",
    "from sklearn.model_selection import train_test_split\n",
    "from sklearn.feature_extraction.text import TfidfVectorizer\n",
    "from sklearn.metrics import confusion_matrix\n",
    "from sklearn.tree import DecisionTreeClassifier\n",
    "import nltk\n",
    "from sklearn.ensemble import RandomForestClassifier\n",
    "#nltk.download('stopwords')\n",
    "#nltk.download('punkt')\n",
    "#nltk.download('wordnet') in\n",
    "#nltk.download('omw-1.4')\n",
    "import collections\n",
    "import warnings\n",
    "warnings.filterwarnings('ignore')"
   ]
  },
  {
   "attachments": {},
   "cell_type": "markdown",
   "metadata": {},
   "source": [
    "Loading the DataSet and viewing its basic properties"
   ]
  },
  {
   "cell_type": "code",
   "execution_count": 2,
   "metadata": {
    "ExecuteTime": {
     "end_time": "2022-12-09T15:07:02.283362Z",
     "start_time": "2022-12-09T15:07:02.192176Z"
    }
   },
   "outputs": [
    {
     "name": "stdout",
     "output_type": "stream",
     "text": [
      "Index(['Unnamed: 0', 'label', 'text', 'label_num'], dtype='object')\n",
      "        Unnamed: 0    label_num\n",
      "count  5171.000000  5171.000000\n",
      "mean   2585.000000     0.289886\n",
      "std    1492.883452     0.453753\n",
      "min       0.000000     0.000000\n",
      "25%    1292.500000     0.000000\n",
      "50%    2585.000000     0.000000\n",
      "75%    3877.500000     1.000000\n",
      "max    5170.000000     1.000000\n",
      "0       Subject: enron methanol ; meter # : 988291\\r\\n...\n",
      "1       Subject: hpl nom for january 9 , 2001\\r\\n( see...\n",
      "2       Subject: neon retreat\\r\\nho ho ho , we ' re ar...\n",
      "3       Subject: photoshop , windows , office . cheap ...\n",
      "4       Subject: re : indian springs\\r\\nthis deal is t...\n",
      "                              ...                        \n",
      "5166    Subject: put the 10 on the ft\\r\\nthe transport...\n",
      "5167    Subject: 3 / 4 / 2000 and following noms\\r\\nhp...\n",
      "5168    Subject: calpine daily gas nomination\\r\\n>\\r\\n...\n",
      "5169    Subject: industrial worksheets for august 2000...\n",
      "5170    Subject: important online banking alert\\r\\ndea...\n",
      "Name: text, Length: 5171, dtype: object\n"
     ]
    }
   ],
   "source": [
    "df = pd.read_csv(\"spam_ham_dataset.csv\")\n",
    "print(df.columns)\n",
    "print(df.describe())\n",
    "print (df[\"text\"])"
   ]
  },
  {
   "attachments": {},
   "cell_type": "markdown",
   "metadata": {},
   "source": [
    "Splitting the Dataframe to 2 categories - Spam and Ham (to specify the top 10 words)"
   ]
  },
  {
   "cell_type": "code",
   "execution_count": 3,
   "metadata": {
    "ExecuteTime": {
     "end_time": "2022-12-09T15:07:02.299387Z",
     "start_time": "2022-12-09T15:07:02.287349Z"
    }
   },
   "outputs": [],
   "source": [
    "spam_df = df[df['label'] == 'spam'] #create sub-dataframe of spam text\n",
    "ham_df = df[df['label'] == 'ham'] #sub-dataframe of ham text"
   ]
  },
  {
   "attachments": {},
   "cell_type": "markdown",
   "metadata": {},
   "source": [
    "Initiating the pre-processing - Lowering,removing punctuation and unrelevant characters using regex"
   ]
  },
  {
   "cell_type": "code",
   "execution_count": 8,
   "metadata": {
    "ExecuteTime": {
     "end_time": "2022-12-09T15:07:05.569429Z",
     "start_time": "2022-12-09T15:07:05.554744Z"
    }
   },
   "outputs": [],
   "source": [
    "stop_words = set(stopwords.words('english'))\n",
    "def tokenize(text):\n",
    "    regex = re.compile('[' +re.escape(string.punctuation) + '0-9\\\\r\\\\t\\\\n]') #remove punctuation\n",
    "    text = regex.sub(' ', text)\n",
    "    tokens = nltk.word_tokenize(text) # tokenize the text\n",
    "    tokens = list(filter(lambda x: x.lower() not in stop_words, tokens)) # remove stop words\n",
    "    tokens = [w.lower() for w in tokens if len(w) >=3] \n",
    "    tokens = [w for w in tokens if re.search('[a-zA-Z]', w)]\n",
    "    return tokens"
   ]
  },
  {
   "cell_type": "code",
   "execution_count": 9,
   "metadata": {
    "ExecuteTime": {
     "end_time": "2022-12-09T15:07:10.038128Z",
     "start_time": "2022-12-09T15:07:05.571800Z"
    }
   },
   "outputs": [],
   "source": [
    "spam_df['tokens'] = spam_df['text'].map(tokenize)\n",
    "ham_df['tokens'] = ham_df['text'].map(tokenize)\n",
    "df['tokens2']=df['text'].map(tokenize)"
   ]
  },
  {
   "attachments": {},
   "cell_type": "markdown",
   "metadata": {},
   "source": [
    "<h5>Most Common Words + Building the Corpus(es)"
   ]
  },
  {
   "cell_type": "code",
   "execution_count": 10,
   "metadata": {
    "ExecuteTime": {
     "end_time": "2022-12-09T15:07:10.649343Z",
     "start_time": "2022-12-09T15:07:10.040651Z"
    }
   },
   "outputs": [],
   "source": [
    "# most common words\n",
    "spam_words = []\n",
    "for token in spam_df['tokens']:\n",
    "    spam_words = spam_words + token #combine text in different columns in one list\n",
    "ham_words = []\n",
    "for token in ham_df['tokens']:\n",
    "    ham_words += token\n",
    "total_words = []\n",
    "for token in df['tokens2']:\n",
    "    total_words += token\n",
    "    \n",
    "spam_count = collections.Counter(spam_words).most_common(10)\n",
    "ham_count = collections.Counter(ham_words).most_common(10)\n",
    "total_count=collections.Counter(total_words).most_common(10)\n",
    "\n",
    "spam_count_df = pd.DataFrame(spam_count, columns = ['word', 'count'])\n",
    "ham_count_df = pd.DataFrame(ham_count, columns = ['word', 'count'])\n",
    "total_count_df=pd.DataFrame(total_count,columns=['word','count'])"
   ]
  },
  {
   "cell_type": "markdown",
   "metadata": {},
   "source": [
    "Viewing the most common words using Seaborn and Matplotlib"
   ]
  },
  {
   "cell_type": "code",
   "execution_count": 11,
   "metadata": {
    "ExecuteTime": {
     "end_time": "2022-12-09T15:07:10.852680Z",
     "start_time": "2022-12-09T15:07:10.650378Z"
    }
   },
   "outputs": [
    {
     "data": {
      "text/plain": [
       "Text(0.5, 1.0, 'ham top 10 words')"
      ]
     },
     "execution_count": 11,
     "metadata": {},
     "output_type": "execute_result"
    },
    {
     "data": {
      "image/png": "[encoded data removed]",
      "text/plain": [
       "<Figure size 1800x1000 with 2 Axes>"
      ]
     },
     "metadata": {},
     "output_type": "display_data"
    }
   ],
   "source": [
    "fig, (ax,ax1) = plt.subplots(1,2,figsize = (18, 10))\n",
    "# for spam_count_df (spam words and there count)\n",
    "sns.barplot(x = spam_count_df['word'], y = spam_count_df['count'], ax = ax)\n",
    "ax.set_ylabel('count', fontsize = 15)\n",
    "ax.set_xlabel('word',fontsize = 15)\n",
    "ax.tick_params(labelsize=10)\n",
    "ax.set_title('spam top 10 words', fontsize = 15)\n",
    "# for ham_count_df (ham words and there count)\n",
    "sns.barplot(x = total_count_df['word'], y = total_count_df['count'], ax = ax1)\n",
    "ax1.set_ylabel('count', fontsize = 15)\n",
    "ax1.set_xlabel('word',fontsize = 15)\n",
    "ax1.tick_params(labelsize=10)\n",
    "ax1.set_title('ham top 10 words', fontsize = 15)"
   ]
  },
  {
   "attachments": {},
   "cell_type": "markdown",
   "metadata": {},
   "source": [
    "PROCESSING THE DATA - Tokenzing"
   ]
  },
  {
   "cell_type": "code",
   "execution_count": 12,
   "metadata": {
    "ExecuteTime": {
     "end_time": "2022-12-09T15:07:13.271711Z",
     "start_time": "2022-12-09T15:07:10.853684Z"
    }
   },
   "outputs": [],
   "source": [
    "df['tokens'] = df['text'].map(tokenize)"
   ]
  },
  {
   "cell_type": "code",
   "execution_count": 13,
   "metadata": {
    "ExecuteTime": {
     "end_time": "2022-12-09T15:07:13.303225Z",
     "start_time": "2022-12-09T15:07:13.272707Z"
    }
   },
   "outputs": [
    {
     "data": {
      "text/html": [
       "<div>\n",
       "<style scoped>\n",
       "    .dataframe tbody tr th:only-of-type {\n",
       "        vertical-align: middle;\n",
       "    }\n",
       "\n",
       "    .dataframe tbody tr th {\n",
       "        vertical-align: top;\n",
       "    }\n",
       "\n",
       "    .dataframe thead th {\n",
       "        text-align: right;\n",
       "    }\n",
       "</style>\n",
       "<table border=\"1\" class=\"dataframe\">\n",
       "  <thead>\n",
       "    <tr style=\"text-align: right;\">\n",
       "      <th></th>\n",
       "      <th>Unnamed: 0</th>\n",
       "      <th>label</th>\n",
       "      <th>text</th>\n",
       "      <th>label_num</th>\n",
       "      <th>tokens2</th>\n",
       "      <th>tokens</th>\n",
       "    </tr>\n",
       "  </thead>\n",
       "  <tbody>\n",
       "    <tr>\n",
       "      <th>0</th>\n",
       "      <td>605</td>\n",
       "      <td>ham</td>\n",
       "      <td>subject enron methanol meter follow note gave ...</td>\n",
       "      <td>0</td>\n",
       "      <td>[subject, enron, methanol, meter, follow, note...</td>\n",
       "      <td>[subject, enron, methanol, meter, follow, note...</td>\n",
       "    </tr>\n",
       "    <tr>\n",
       "      <th>1</th>\n",
       "      <td>2349</td>\n",
       "      <td>ham</td>\n",
       "      <td>subject hpl nom january see attached file hpln...</td>\n",
       "      <td>0</td>\n",
       "      <td>[subject, hpl, nom, january, see, attached, fi...</td>\n",
       "      <td>[subject, hpl, nom, january, see, attached, fi...</td>\n",
       "    </tr>\n",
       "    <tr>\n",
       "      <th>2</th>\n",
       "      <td>3624</td>\n",
       "      <td>ham</td>\n",
       "      <td>subject neon retreat around wonderful time yea...</td>\n",
       "      <td>0</td>\n",
       "      <td>[subject, neon, retreat, around, wonderful, ti...</td>\n",
       "      <td>[subject, neon, retreat, around, wonderful, ti...</td>\n",
       "    </tr>\n",
       "    <tr>\n",
       "      <th>3</th>\n",
       "      <td>4685</td>\n",
       "      <td>spam</td>\n",
       "      <td>subject photoshop windows office cheap main tr...</td>\n",
       "      <td>1</td>\n",
       "      <td>[subject, photoshop, windows, office, cheap, m...</td>\n",
       "      <td>[subject, photoshop, windows, office, cheap, m...</td>\n",
       "    </tr>\n",
       "    <tr>\n",
       "      <th>4</th>\n",
       "      <td>2030</td>\n",
       "      <td>ham</td>\n",
       "      <td>subject indian springs deal book teco pvr reve...</td>\n",
       "      <td>0</td>\n",
       "      <td>[subject, indian, springs, deal, book, teco, p...</td>\n",
       "      <td>[subject, indian, springs, deal, book, teco, p...</td>\n",
       "    </tr>\n",
       "  </tbody>\n",
       "</table>\n",
       "</div>"
      ],
      "text/plain": [
       "   Unnamed: 0 label                                               text  \\\n",
       "0         605   ham  subject enron methanol meter follow note gave ...   \n",
       "1        2349   ham  subject hpl nom january see attached file hpln...   \n",
       "2        3624   ham  subject neon retreat around wonderful time yea...   \n",
       "3        4685  spam  subject photoshop windows office cheap main tr...   \n",
       "4        2030   ham  subject indian springs deal book teco pvr reve...   \n",
       "\n",
       "   label_num                                            tokens2  \\\n",
       "0          0  [subject, enron, methanol, meter, follow, note...   \n",
       "1          0  [subject, hpl, nom, january, see, attached, fi...   \n",
       "2          0  [subject, neon, retreat, around, wonderful, ti...   \n",
       "3          1  [subject, photoshop, windows, office, cheap, m...   \n",
       "4          0  [subject, indian, springs, deal, book, teco, p...   \n",
       "\n",
       "                                              tokens  \n",
       "0  [subject, enron, methanol, meter, follow, note...  \n",
       "1  [subject, hpl, nom, january, see, attached, fi...  \n",
       "2  [subject, neon, retreat, around, wonderful, ti...  \n",
       "3  [subject, photoshop, windows, office, cheap, m...  \n",
       "4  [subject, indian, springs, deal, book, teco, p...  "
      ]
     },
     "execution_count": 13,
     "metadata": {},
     "output_type": "execute_result"
    }
   ],
   "source": [
    "def text_join(text):\n",
    "    return \" \".join(text)\n",
    "df['text'] = df['tokens'].apply(text_join)\n",
    "df.head()"
   ]
  },
  {
   "cell_type": "code",
   "execution_count": 14,
   "metadata": {
    "ExecuteTime": {
     "end_time": "2022-12-09T15:07:13.521502Z",
     "start_time": "2022-12-09T15:07:13.306216Z"
    }
   },
   "outputs": [],
   "source": [
    "\n",
    "word=SortedSet()#putting all tokens in 1 set\n",
    "textlist=[]\n",
    "for w in df['tokens']:\n",
    "    word.update(w)\n",
    "for w in df['text']:\n",
    "    textlist.append(w)"
   ]
  },
  {
   "attachments": {},
   "cell_type": "markdown",
   "metadata": {},
   "source": [
    "Using TFIDF Method"
   ]
  },
  {
   "cell_type": "code",
   "execution_count": 15,
   "metadata": {
    "ExecuteTime": {
     "end_time": "2022-12-09T15:07:13.847573Z",
     "start_time": "2022-12-09T15:07:13.523527Z"
    }
   },
   "outputs": [],
   "source": [
    "tv = TfidfVectorizer(sublinear_tf=True, max_df=0.5, min_df=5, stop_words=\"english\")\n",
    "features = tv.fit_transform(textlist)"
   ]
  },
  {
   "cell_type": "code",
   "execution_count": 16,
   "metadata": {
    "ExecuteTime": {
     "end_time": "2022-12-09T15:07:13.955488Z",
     "start_time": "2022-12-09T15:07:13.941982Z"
    }
   },
   "outputs": [
    {
     "name": "stdout",
     "output_type": "stream",
     "text": [
      "  (0, 5173)\t0.2148989536740921\n",
      "  (0, 2168)\t0.25561138164049474\n",
      "  (0, 410)\t0.20349151556132064\n",
      "  (0, 4362)\t0.16682244302628554\n",
      "  (0, 1112)\t0.13140631900198776\n",
      "  (0, 1536)\t0.17200718763887002\n",
      "  (0, 2832)\t0.09651146857065186\n",
      "  (0, 4472)\t0.24005109763027316\n",
      "  (0, 75)\t0.17450003670166123\n",
      "  (0, 5338)\t0.19933866966387048\n",
      "  (0, 7089)\t0.18248830174498926\n",
      "  (0, 5014)\t0.2148989536740921\n",
      "  (0, 6854)\t0.1262399944638329\n",
      "  (0, 1715)\t0.23977947475089467\n",
      "  (0, 4928)\t0.24620446847335883\n",
      "  (0, 4610)\t0.2918564014373499\n",
      "  (0, 1727)\t0.1002671352245315\n",
      "  (0, 5141)\t0.1837783856536489\n",
      "  (0, 1736)\t0.17689103434921138\n",
      "  (0, 2692)\t0.1350975100377642\n",
      "  (0, 4994)\t0.22401993185552396\n",
      "  (0, 4263)\t0.15972031619019433\n",
      "  (0, 2839)\t0.2171794095774341\n",
      "  (0, 4436)\t0.1576730904388808\n",
      "  (0, 2706)\t0.17224931072801522\n",
      "  :\t:\n",
      "  (5170, 37)\t0.2531340822678481\n",
      "  (5170, 5501)\t0.10751755727174696\n",
      "  (5170, 1442)\t0.15714396257188432\n",
      "  (5170, 5806)\t0.06570701116323616\n",
      "  (5170, 2473)\t0.10405112490988534\n",
      "  (5170, 6916)\t0.10110029087496963\n",
      "  (5170, 201)\t0.11705225959397396\n",
      "  (5170, 5643)\t0.09813370276139444\n",
      "  (5170, 3385)\t0.06123974963033997\n",
      "  (5170, 3461)\t0.0912203749534687\n",
      "  (5170, 5818)\t0.14056594666505756\n",
      "  (5170, 475)\t0.10352789349624679\n",
      "  (5170, 2811)\t0.08358059590803595\n",
      "  (5170, 349)\t0.10985927791832412\n",
      "  (5170, 1249)\t0.07570953851054091\n",
      "  (5170, 3957)\t0.06865014062675999\n",
      "  (5170, 4529)\t0.2243295605937803\n",
      "  (5170, 4363)\t0.07807516973874681\n",
      "  (5170, 4152)\t0.1378127591231056\n",
      "  (5170, 1515)\t0.09000688096962112\n",
      "  (5170, 4222)\t0.11334262363401558\n",
      "  (5170, 3308)\t0.09717304990185716\n",
      "  (5170, 2708)\t0.06681623523794603\n",
      "  (5170, 6488)\t0.060693349391246425\n",
      "  (5170, 4436)\t0.0816856726312417\n"
     ]
    }
   ],
   "source": [
    "print(features)"
   ]
  },
  {
   "cell_type": "code",
   "execution_count": 17,
   "metadata": {
    "ExecuteTime": {
     "end_time": "2022-12-09T15:07:13.970865Z",
     "start_time": "2022-12-09T15:07:13.957477Z"
    }
   },
   "outputs": [],
   "source": [
    "X = features\n",
    "y = df['label_num']\n",
    "X_train, X_test, y_train, y_test = train_test_split(X, y, test_size=0.2, random_state=10)"
   ]
  },
  {
   "attachments": {},
   "cell_type": "markdown",
   "metadata": {},
   "source": [
    "Decision Tree Classifier + Logistic Regression"
   ]
  },
  {
   "cell_type": "code",
   "execution_count": 18,
   "metadata": {
    "ExecuteTime": {
     "end_time": "2022-12-09T15:07:14.282074Z",
     "start_time": "2022-12-09T15:07:13.973226Z"
    }
   },
   "outputs": [],
   "source": [
    "from sklearn.metrics import f1_score\n",
    "dtc = DecisionTreeClassifier(random_state=10)\n",
    "dtc.fit(X_train, y_train) #fitting train\n",
    "y_pred_train = dtc.predict(X_train)\n",
    "report_train=classification_report(y_train, y_pred_train,output_dict=True)\n",
    "data={'TFIDF_DTC_TRAIN':[report_train['0']['f1-score'],report_train['1']['f1-score']]}\n",
    "results=pd.DataFrame(data)"
   ]
  },
  {
   "cell_type": "code",
   "execution_count": 19,
   "metadata": {
    "ExecuteTime": {
     "end_time": "2022-12-09T15:07:14.297622Z",
     "start_time": "2022-12-09T15:07:14.284100Z"
    }
   },
   "outputs": [],
   "source": [
    "y_pred_test=dtc.predict(X_test) #Prediction\n",
    "report_test=classification_report(y_test,y_pred_test,output_dict=True)\n",
    "new_col=pd.Series([report_train['0']['f1-score'],report_train['1']['f1-score']],name='TFIDF-DTC-TEST',index=[0,1])\n",
    "data={'TFIDF-DTC-TEST':[report_test['0']['f1-score'],report_test['1']['f1-score']]}\n",
    "results=results.assign(TFIDF_DTC_TEST=[report_test['0']['f1-score'],report_test['1']['f1-score']])"
   ]
  },
  {
   "attachments": {},
   "cell_type": "markdown",
   "metadata": {},
   "source": [
    "Using Logistic Regression - Fit + Train"
   ]
  },
  {
   "cell_type": "code",
   "execution_count": 20,
   "metadata": {},
   "outputs": [],
   "source": [
    "lr=LogisticRegression(random_state=10,C=5,max_iter=1000)\n",
    "lr.fit(X_train,y_train)\n",
    "y_pred_train_lr = lr.predict(X_train)\n",
    "y_pred_test_lr=lr.predict(X_test)\n",
    "report_train=classification_report(y_train,y_pred_train_lr,output_dict=True)\n",
    "report_test=classification_report(y_test,y_pred_test_lr,output_dict=True)\n",
    "results=results.assign(TFIDF_LR_TRAIN=[report_train['0']['f1-score'],report_train['1']['f1-score']])\n",
    "results=results.assign(TFIDF_LR_TEST=[report_test['0']['f1-score'],report_test['1']['f1-score']])\n"
   ]
  },
  {
   "attachments": {},
   "cell_type": "markdown",
   "metadata": {},
   "source": [
    "BAG OF WORDS Method - Decision Tree Classifier + Logistic Regression"
   ]
  },
  {
   "cell_type": "code",
   "execution_count": 21,
   "metadata": {
    "ExecuteTime": {
     "end_time": "2022-12-09T15:07:14.313659Z",
     "start_time": "2022-12-09T15:07:14.299616Z"
    }
   },
   "outputs": [],
   "source": [
    "def calculate_bow(wordset, l_doc):\n",
    "    tf_diz = dict.fromkeys(wordset,0)\n",
    "    for word in l_doc:\n",
    "        tf_diz[word]=l_doc.count(word)\n",
    "    return tf_diz"
   ]
  },
  {
   "cell_type": "code",
   "execution_count": 22,
   "metadata": {
    "ExecuteTime": {
     "end_time": "2022-12-09T15:07:14.452520Z",
     "start_time": "2022-12-09T15:07:14.317649Z"
    }
   },
   "outputs": [],
   "source": [
    "wordset=SortedSet()\n",
    "for line in df['tokens']:\n",
    "    wordset.update(line)"
   ]
  },
  {
   "cell_type": "code",
   "execution_count": 23,
   "metadata": {
    "ExecuteTime": {
     "end_time": "2022-12-09T15:11:22.642491Z",
     "start_time": "2022-12-09T15:09:30.944794Z"
    }
   },
   "outputs": [],
   "source": [
    "bow = []\n",
    "for tok in df['tokens']:\n",
    "    bow.append(calculate_bow(wordset, tok))\n",
    "df_bow = pd.DataFrame(bow)"
   ]
  },
  {
   "cell_type": "code",
   "execution_count": 24,
   "metadata": {
    "ExecuteTime": {
     "end_time": "2022-12-09T15:14:23.266736Z",
     "start_time": "2022-12-09T15:13:44.345470Z"
    }
   },
   "outputs": [
    {
     "data": {
      "text/plain": [
       "<bound method CountVectorizer.get_feature_names_out of CountVectorizer(vocabulary=SortedSet(['aaa', 'aaas', 'aabda', 'aabvmmq', 'aac', 'aachecar', 'aaer', 'aafco', 'aaiabe', 'aaigrcrb', 'aaihmqv', 'aaldano', 'aalland', 'aambique', 'aamlrg', 'aaoeuro', 'aare', 'aarhus', 'aaron', 'aashqcsny', 'aavilable', 'aaxrzm', 'aba', 'ababa', 'abacha', 'aback', 'abackof', 'abacus', 'abacustech', 'abandon', 'abandone', 'abandoned', 'abarch', 'abasem...zvp', 'zvrkxjmex', 'zvx', 'zwallet', 'zwdm', 'zwftnqlp', 'zwiers', 'zwmdjvr', 'zwoegen', 'zwu', 'zxaghur', 'zxgwvpiadobe', 'zxgwvpihere', 'zxgwvpiimg', 'zxgwvpimacromedia', 'zxgwvpimicrosoft', 'zxgwvpinorton', 'zxjcxz', 'zxklh', 'zxzmcnbf', 'zyban', 'zyjvit', 'zykfe', 'zyl', 'zynsdirnh', 'zynve', 'zyqtaqlt', 'zyrtec', 'zyyqywp', 'zzezrjok', 'zzn', 'zzo', 'zzocb', 'zzso', 'zzsyt']))>"
      ]
     },
     "execution_count": 24,
     "metadata": {},
     "output_type": "execute_result"
    }
   ],
   "source": [
    "df_bow.describe()\n",
    "cv=CountVectorizer(vocabulary=wordset) #Presenting the features\n",
    "cv.get_feature_names_out"
   ]
  },
  {
   "cell_type": "code",
   "execution_count": 25,
   "metadata": {},
   "outputs": [],
   "source": [
    "X = cv.fit_transform(df['text'])\n",
    "y = df['label_num']\n",
    "X_train, X_test, y_train, y_test = train_test_split(X, y, test_size=0.2, random_state=10)"
   ]
  },
  {
   "cell_type": "code",
   "execution_count": 26,
   "metadata": {},
   "outputs": [],
   "source": [
    "dtc2 = DecisionTreeClassifier(random_state=10)\n",
    "dtc2.fit(X_train, y_train) #fitting train and then test\n",
    "y_pred_train = dtc2.predict(X_train)\n",
    "y_pred_test=dtc2.predict(X_test)\n",
    "report_train=classification_report(y_train,y_pred_train,output_dict=True)\n",
    "report_test=classification_report(y_test,y_pred_test,output_dict=True)\n",
    "results=results.assign(BOW_DTC_TRAIN=[report_train['0']['f1-score'],report_train['1']['f1-score']])\n",
    "results=results.assign(BOW_DTC_TEST=[report_test['0']['f1-score'],report_test['1']['f1-score']])"
   ]
  },
  {
   "cell_type": "code",
   "execution_count": 27,
   "metadata": {},
   "outputs": [
    {
     "name": "stdout",
     "output_type": "stream",
     "text": [
      "F1-Scores for each Iteration\n",
      "      TFIDF_DTC_TRAIN  TFIDF_DTC_TEST  TFIDF_LR_TRAIN  TFIDF_LR_TEST  \\\n",
      "HAM          0.999829        0.970728        0.999147       0.993915   \n",
      "SPAM         0.999585        0.928453        0.997928       0.984772   \n",
      "\n",
      "      BOW_DTC_TRAIN  BOW_DTC_TEST  BOW_LR_TRAIN  BOW_LR_TEST  \n",
      "HAM             1.0      0.963710           1.0     0.985095  \n",
      "SPAM            1.0      0.907216           1.0     0.962963  \n"
     ]
    }
   ],
   "source": [
    "lr=LogisticRegression(random_state=10,C=5,max_iter=1000)\n",
    "lr.fit(X_train,y_train)\n",
    "y_pred_train_lr = lr.predict(X_train)\n",
    "y_pred_test_lr=lr.predict(X_test)\n",
    "report_train=classification_report(y_train,y_pred_train_lr,output_dict=True)\n",
    "report_test=classification_report(y_test,y_pred_test_lr,output_dict=True)\n",
    "results=results.assign(BOW_LR_TRAIN=[report_train['0']['f1-score'],report_train['1']['f1-score']])\n",
    "results=results.assign(BOW_LR_TEST=[report_test['0']['f1-score'],report_test['1']['f1-score']])\n",
    "print (\"F1-Scores for each Iteration\")\n",
    "results.index=['HAM','SPAM']\n",
    "print(results)"
   ]
  },
  {
   "attachments": {},
   "cell_type": "markdown",
   "metadata": {},
   "source": [
    "Answer for Question 9:\n",
    "According to the DF above, it looks like both methods (BOW and TFIDF) give similar results using Logistic Regression and DTC although by a little, the TFIDF+LR combo offers the best f1-score compared to the other combos tested. reason for that is probably due to the great number of tokens and their frequency.\n",
    "as we've learnt - the token and its frequency in our corpus are both taken into consideration when using TFIDF, moreover, the given dataset's relevancy as to mail is true spam seems to be very high, that in fact ultimately supports the classification reports that have been generated.\n",
    "\n"
   ]
  }
 ],
 "metadata": {
  "kernelspec": {
   "display_name": "Python 3",
   "language": "python",
   "name": "python3"
  },
  "language_info": {
   "codemirror_mode": {
    "name": "ipython",
    "version": 3
   },
   "file_extension": ".py",
   "mimetype": "text/x-python",
   "name": "python",
   "nbconvert_exporter": "python",
   "pygments_lexer": "ipython3",
   "version": "3.10.6"
  },
  "vscode": {
   "interpreter": {
    "hash": "d42b14daae186d1dcc159f6d3c2600b347c73411b94a85135330ddde6a0dfea9"
   }
  }
 },
 "nbformat": 4,
 "nbformat_minor": 2
}
