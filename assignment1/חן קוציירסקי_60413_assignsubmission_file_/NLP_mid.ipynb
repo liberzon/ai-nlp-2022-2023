{
  "cells": [
    {
      "cell_type": "markdown",
      "source": [
        "Chen Kuchiersky - 208081745\n",
        "\n",
        "Lee Cohen - 209008036"
      ],
      "metadata": {
        "id": "N95_p0Rcf7WA"
      }
    },
    {
      "cell_type": "code",
      "execution_count": 241,
      "metadata": {
        "collapsed": true,
        "colab": {
          "base_uri": "https://localhost:8080/"
        },
        "id": "BswHZSmL4NiW",
        "outputId": "ce390357-817d-4ba6-9fd3-cfb02493b81a"
      },
      "outputs": [
        {
          "output_type": "stream",
          "name": "stderr",
          "text": [
            "[nltk_data] Downloading package punkt to /root/nltk_data...\n",
            "[nltk_data]   Package punkt is already up-to-date!\n"
          ]
        }
      ],
      "source": [
        "from nltk.tokenize import word_tokenize,WhitespaceTokenizer\n",
        "import nltk\n",
        "nltk.download('punkt')\n",
        "import pandas as pd\n",
        "import matplotlib.pyplot as plt\n",
        "from sklearn.feature_extraction.text import CountVectorizer,TfidfVectorizer\n",
        "from sklearn.model_selection import train_test_split\n",
        "from sklearn.linear_model import LogisticRegression\n",
        "from sklearn import metrics"
      ]
    },
    {
      "cell_type": "code",
      "execution_count": 242,
      "outputs": [],
      "source": [
        "#--Q2--\n",
        "df = pd.read_csv('/content/spam_ham_dataset.csv')\n",
        "tokenizer_re = r\"[^a-zA-Z0-9]\"\n",
        "from sortedcontainers import SortedSet\n",
        "import re\n",
        "\n",
        "def tokenize(text: str) -> list():\n",
        "    return re.sub(tokenizer_re, \" \", text.lower()).split()\n",
        "\n",
        "wordset = SortedSet()\n",
        "\n",
        "for text in df.text:\n",
        "    wordset.update(tokenize(text))\n"
      ],
      "metadata": {
        "id": "xgFckpC44Nia"
      }
    },
    {
      "cell_type": "code",
      "execution_count": 243,
      "outputs": [
        {
          "output_type": "display_data",
          "data": {
            "text/plain": [
              "<Figure size 1152x576 with 1 Axes>"
            ],
            "image/png": "[encoded data removed]"
          },
          "metadata": {
            "needs_background": "light"
          }
        }
      ],
      "source": [
        "#--Q3--\n",
        "#function that gets the spam and ham from the label column, and return 2 histogram charts\n",
        "def plot_target_based_features(feature):\n",
        "    spam = df[df.label_num == 1][feature]\n",
        "    ham = df[df.label_num == 0][feature]\n",
        "    plt.figure(1, figsize=(16,8))\n",
        "    plt.subplot(1,1,1)\n",
        "    _ = plt.hist(spam, alpha=0.5, color=\"black\", bins=50)\n",
        "    _ = plt.hist(ham, alpha=0.7, color=\"red\", bins=50)\n",
        "    return _\n",
        "\n",
        "#executing the function with new column- unique word for each ham and sapm\n",
        "df[\"unique_word_count\"] =df.text.map(lambda x: len(set(str(x).split())))\n",
        "_ = plot_target_based_features(\"unique_word_count\")"
      ],
      "metadata": {
        "colab": {
          "base_uri": "https://localhost:8080/",
          "height": 483
        },
        "id": "YkAryYZS4NiZ",
        "outputId": "8ad78139-2f71-4d24-ca0d-dbcfe8f69daf"
      }
    },
    {
      "cell_type": "code",
      "execution_count": 244,
      "outputs": [
        {
          "output_type": "stream",
          "name": "stderr",
          "text": [
            "/usr/local/lib/python3.8/dist-packages/sklearn/utils/deprecation.py:87: FutureWarning: Function get_feature_names is deprecated; get_feature_names is deprecated in 1.0 and will be removed in 1.2. Please use get_feature_names_out instead.\n",
            "  warnings.warn(msg, category=FutureWarning)\n"
          ]
        }
      ],
      "source": [
        "#--Q4--\n",
        "#vectorizing and getting the features\n",
        "vectorizer = CountVectorizer(vocabulary=wordset)\n",
        "X_vector = vectorizer.fit_transform(df['text'].tolist())\n",
        "df_bow = pd.DataFrame(X_vector.toarray(),columns=vectorizer.get_feature_names())\n",
        "# df_bow.head(100)"
      ],
      "metadata": {
        "colab": {
          "base_uri": "https://localhost:8080/"
        },
        "id": "PClgfM-A4Nib",
        "outputId": "5574f0eb-4aa2-4700-8d1e-f268216650e8"
      }
    },
    {
      "cell_type": "code",
      "execution_count": 245,
      "outputs": [],
      "source": [
        "#--Q5--\n",
        "#spliting the data to train and test( 0.8% traing , 0.2% test)\n",
        "train,test = train_test_split(df, test_size=0.2, random_state=123)"
      ],
      "metadata": {
        "id": "CPvGEbEE4Nib"
      }
    },
    {
      "cell_type": "code",
      "source": [
        "#deleting nulls\n",
        "train_text=train[~pd.isnull(train['text'])]['text']\n",
        "print(train_text.shape)\n",
        "test_text=test[~pd.isnull(test['text'])]['text']\n",
        "print(test_text.shape)\n"
      ],
      "metadata": {
        "colab": {
          "base_uri": "https://localhost:8080/"
        },
        "id": "SfIk3gpe5gpD",
        "outputId": "083019b4-3727-49ef-dec2-bbbd080f66ed"
      },
      "execution_count": 246,
      "outputs": [
        {
          "output_type": "stream",
          "name": "stdout",
          "text": [
            "(4136,)\n",
            "(1035,)\n"
          ]
        }
      ]
    },
    {
      "cell_type": "code",
      "execution_count": 247,
      "outputs": [
        {
          "output_type": "stream",
          "name": "stdout",
          "text": [
            "4136 44813\n",
            "1035 44813\n"
          ]
        }
      ],
      "source": [
        "#transforming text to featuers\n",
        "vectorizer = TfidfVectorizer(stop_words='english')\n",
        "train_input = vectorizer.fit_transform(train_text)\n",
        "print(train_input.shape[0],train_input.shape[1])\n",
        "test_input = vectorizer.transform(test_text)\n",
        "print(test_input.shape[0],test_input.shape[1])\n",
        "\n"
      ],
      "metadata": {
        "colab": {
          "base_uri": "https://localhost:8080/"
        },
        "id": "oZz_D7vH4Nib",
        "outputId": "6843b8fb-bffa-4856-a785-911645abba4e"
      }
    },
    {
      "cell_type": "code",
      "source": [
        "#deleting nulls\n",
        "expected_train=train[~pd.isnull(train['text'])]['label_num']\n",
        "print(expected_train.shape)\n",
        "expected_test=test[~pd.isnull(test['text'])]['label_num']\n",
        "print(expected_test.shape)\n",
        "\n"
      ],
      "metadata": {
        "colab": {
          "base_uri": "https://localhost:8080/"
        },
        "id": "5bV2ZHRz78lI",
        "outputId": "25f5f1ba-0d74-4d9f-fbb3-8b4c3cb8e5b1"
      },
      "execution_count": 248,
      "outputs": [
        {
          "output_type": "stream",
          "name": "stdout",
          "text": [
            "(4136,)\n",
            "(1035,)\n"
          ]
        }
      ]
    },
    {
      "cell_type": "code",
      "execution_count": 249,
      "outputs": [
        {
          "output_type": "execute_result",
          "data": {
            "text/plain": [
              "LogisticRegression(C=5, max_iter=1000)"
            ]
          },
          "metadata": {},
          "execution_count": 249
        }
      ],
      "source": [
        "classifier = LogisticRegression(C=5, max_iter=1000)\n",
        "classifier.fit(train_input, expected_train)"
      ],
      "metadata": {
        "colab": {
          "base_uri": "https://localhost:8080/"
        },
        "id": "N7uJ3QJV4Nic",
        "outputId": "d1827be7-69fb-4a1d-b1f9-8e4aa199933d"
      }
    },
    {
      "cell_type": "code",
      "source": [
        "#--Q6--\n",
        "#calculating scores and printing them\n",
        "pred = classifier.predict(test_input)\n",
        "recall=metrics.recall_score(expected_test,pred)\n",
        "print(f\"recall score- {recall}\")\n",
        "precision=metrics.precision_score(expected_test,pred)\n",
        "print(f\"precision score- {precision}\")\n",
        "accuracy=metrics.accuracy_score(expected_test,pred)\n",
        "print(f\"accuracy score- {accuracy}\")\n",
        "f1_score=metrics.f1_score(expected_test,pred)\n",
        "print(f\"f1_score score- {f1_score}\")\n"
      ],
      "metadata": {
        "colab": {
          "base_uri": "https://localhost:8080/"
        },
        "id": "vB-mOm3YLvsX",
        "outputId": "e0c0ab06-0995-4128-f8f8-2f53e421b280"
      },
      "execution_count": 250,
      "outputs": [
        {
          "output_type": "stream",
          "name": "stdout",
          "text": [
            "recall score- 0.9756944444444444\n",
            "precision score- 0.9756944444444444\n",
            "accuracy score- 0.9864734299516909\n",
            "f1_score score- 0.9756944444444444\n"
          ]
        }
      ]
    },
    {
      "cell_type": "code",
      "source": [
        "#--Q7--\n",
        "#list of three vecotirzes to run over\n",
        "vectorizers=[TfidfVectorizer(stop_words='english',ngram_range=(2,3)),TfidfVectorizer(),CountVectorizer()]\n",
        "df_scores=pd.DataFrame()\n",
        "\n",
        "for vectorizer in vectorizers:\n",
        "\n",
        "  train_input = vectorizer.fit_transform(train_text)\n",
        "  test_input = vectorizer.transform(test_text)\n",
        "  expected_train=train[~pd.isnull(train['text'])]['label_num']\n",
        "  expected_test=test[~pd.isnull(test['text'])]['label_num']\n",
        "\n",
        "  #building model for each vectorizer\n",
        "  classifier = LogisticRegression(C=5, max_iter=1000)\n",
        "  classifier.fit(train_input, expected_train)\n",
        "  pred = classifier.predict(test_input)\n",
        "\n",
        "  #calculate scores for each model\n",
        "  recall=metrics.recall_score(expected_test,pred)\n",
        "  precision=metrics.precision_score(expected_test,pred)\n",
        "  accuracy=metrics.accuracy_score(expected_test,pred)\n",
        "  f1_score=metrics.f1_score(expected_test,pred)\n",
        "\n",
        "\n",
        "  #--Q8--\n",
        "  #creating scores df to each vectorizer and appending to total dataframe of vectorizers  \n",
        "  scores=[[vectorizer,recall,precision,accuracy,f1_score]]\n",
        "  df= pd.DataFrame(scores, columns=['vectorizer', 'recall','precision','accuracy','f1_score'])\n",
        "  df_scores=df_scores.append(df,ignore_index=True)\n",
        "\n",
        "print(df_scores)\n",
        "\n",
        "\n"
      ],
      "metadata": {
        "colab": {
          "base_uri": "https://localhost:8080/"
        },
        "id": "BJQk19F3Srkg",
        "outputId": "937a1782-57e3-4cce-b8bd-215aba2d0f17"
      },
      "execution_count": 251,
      "outputs": [
        {
          "output_type": "stream",
          "name": "stdout",
          "text": [
            "                                          vectorizer    recall  precision  \\\n",
            "0  TfidfVectorizer(ngram_range=(2, 3), stop_words...  0.746528   0.990783   \n",
            "1                                  TfidfVectorizer()  0.979167   0.972414   \n",
            "2                                  CountVectorizer()  0.961806   0.961806   \n",
            "\n",
            "   accuracy  f1_score  \n",
            "0  0.927536  0.851485  \n",
            "1  0.986473  0.975779  \n",
            "2  0.978744  0.961806  \n"
          ]
        }
      ]
    },
    {
      "cell_type": "markdown",
      "source": [
        "--Q9--\n",
        "\n",
        "The most accurate result was the score of - TfidfVectorizer() vectorizer (98.6%), without using ngrams and stop_words parameters.\n",
        "It means that in the text column in the dataframe, there is no significate use of pharses and stopwords in the text.\n",
        "\n",
        "\n",
        "\n",
        "\n"
      ],
      "metadata": {
        "id": "VnnV6-gxbf5U"
      }
    }
  ],
  "metadata": {
    "kernelspec": {
      "display_name": "Python 3",
      "language": "python",
      "name": "python3"
    },
    "language_info": {
      "codemirror_mode": {
        "name": "ipython",
        "version": 2
      },
      "file_extension": ".py",
      "mimetype": "text/x-python",
      "name": "python",
      "nbconvert_exporter": "python",
      "pygments_lexer": "ipython2",
      "version": "2.7.6"
    },
    "colab": {
      "provenance": []
    }
  },
  "nbformat": 4,
  "nbformat_minor": 0
}