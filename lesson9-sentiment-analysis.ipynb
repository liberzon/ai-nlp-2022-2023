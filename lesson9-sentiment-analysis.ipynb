{
 "cells": [
  {
   "cell_type": "code",
   "execution_count": 5,
   "outputs": [
    {
     "name": "stdout",
     "output_type": "stream",
     "text": [
      "Collecting package metadata (current_repodata.json): done\r\n",
      "Solving environment: done\r\n",
      "\r\n",
      "\r\n",
      "==> WARNING: A newer version of conda exists. <==\r\n",
      "  current version: 4.12.0\r\n",
      "  latest version: 22.11.1\r\n",
      "\r\n",
      "Please update conda by running\r\n",
      "\r\n",
      "    $ conda update -n base -c defaults conda\r\n",
      "\r\n",
      "\r\n",
      "\r\n",
      "# All requested packages already installed.\r\n",
      "\r\n"
     ]
    }
   ],
   "source": [
    "!conda install -y spacy"
   ],
   "metadata": {
    "collapsed": false
   }
  },
  {
   "cell_type": "code",
   "execution_count": 6,
   "outputs": [
    {
     "name": "stdout",
     "output_type": "stream",
     "text": [
      "Collecting package metadata (current_repodata.json): done\r\n",
      "Solving environment: failed with initial frozen solve. Retrying with flexible solve.\r\n",
      "Collecting package metadata (repodata.json): done\r\n",
      "Solving environment: failed with initial frozen solve. Retrying with flexible solve.\r\n",
      "\r\n",
      "PackagesNotFoundError: The following packages are not available from current channels:\r\n",
      "\r\n",
      "  - spacy-lookups-data\r\n",
      "\r\n",
      "Current channels:\r\n",
      "\r\n",
      "  - https://repo.anaconda.com/pkgs/main/osx-arm64\r\n",
      "  - https://repo.anaconda.com/pkgs/main/noarch\r\n",
      "  - https://repo.anaconda.com/pkgs/r/osx-arm64\r\n",
      "  - https://repo.anaconda.com/pkgs/r/noarch\r\n",
      "\r\n",
      "To search for alternate channels that may provide the conda package you're\r\n",
      "looking for, navigate to\r\n",
      "\r\n",
      "    https://anaconda.org\r\n",
      "\r\n",
      "and use the search bar at the top of the page.\r\n",
      "\r\n",
      "\r\n"
     ]
    }
   ],
   "source": [
    "!conda install -y spacy-lookups-data"
   ],
   "metadata": {
    "collapsed": false
   }
  },
  {
   "cell_type": "code",
   "execution_count": 7,
   "outputs": [
    {
     "name": "stdout",
     "output_type": "stream",
     "text": [
      "Requirement already satisfied: spacytextblob in /Users/grembek/.conda/envs/workspace/lib/python3.10/site-packages (4.0.0)\r\n",
      "Requirement already satisfied: spacy<4.0,>=3.0 in /Users/grembek/.conda/envs/workspace/lib/python3.10/site-packages (from spacytextblob) (3.3.1)\r\n",
      "Requirement already satisfied: textblob<0.16.0,>=0.15.3 in /Users/grembek/.conda/envs/workspace/lib/python3.10/site-packages (from spacytextblob) (0.15.3)\r\n",
      "Requirement already satisfied: spacy-legacy<3.1.0,>=3.0.9 in /Users/grembek/.conda/envs/workspace/lib/python3.10/site-packages (from spacy<4.0,>=3.0->spacytextblob) (3.0.9)\r\n",
      "Requirement already satisfied: requests<3.0.0,>=2.13.0 in /Users/grembek/.conda/envs/workspace/lib/python3.10/site-packages (from spacy<4.0,>=3.0->spacytextblob) (2.28.1)\r\n",
      "Requirement already satisfied: typer<0.5.0,>=0.3.0 in /Users/grembek/.conda/envs/workspace/lib/python3.10/site-packages (from spacy<4.0,>=3.0->spacytextblob) (0.4.1)\r\n",
      "Requirement already satisfied: packaging>=20.0 in /Users/grembek/.conda/envs/workspace/lib/python3.10/site-packages (from spacy<4.0,>=3.0->spacytextblob) (21.3)\r\n",
      "Requirement already satisfied: cymem<2.1.0,>=2.0.2 in /Users/grembek/.conda/envs/workspace/lib/python3.10/site-packages (from spacy<4.0,>=3.0->spacytextblob) (2.0.6)\r\n",
      "Requirement already satisfied: numpy>=1.15.0 in /Users/grembek/.conda/envs/workspace/lib/python3.10/site-packages (from spacy<4.0,>=3.0->spacytextblob) (1.23.4)\r\n",
      "Requirement already satisfied: murmurhash<1.1.0,>=0.28.0 in /Users/grembek/.conda/envs/workspace/lib/python3.10/site-packages (from spacy<4.0,>=3.0->spacytextblob) (1.0.7)\r\n",
      "Requirement already satisfied: tqdm<5.0.0,>=4.38.0 in /Users/grembek/.conda/envs/workspace/lib/python3.10/site-packages (from spacy<4.0,>=3.0->spacytextblob) (4.64.1)\r\n",
      "Requirement already satisfied: catalogue<2.1.0,>=2.0.6 in /Users/grembek/.conda/envs/workspace/lib/python3.10/site-packages (from spacy<4.0,>=3.0->spacytextblob) (2.0.7)\r\n",
      "Requirement already satisfied: jinja2 in /Users/grembek/.conda/envs/workspace/lib/python3.10/site-packages (from spacy<4.0,>=3.0->spacytextblob) (3.1.2)\r\n",
      "Requirement already satisfied: spacy-loggers<2.0.0,>=1.0.0 in /Users/grembek/.conda/envs/workspace/lib/python3.10/site-packages (from spacy<4.0,>=3.0->spacytextblob) (1.0.1)\r\n",
      "Requirement already satisfied: preshed<3.1.0,>=3.0.2 in /Users/grembek/.conda/envs/workspace/lib/python3.10/site-packages (from spacy<4.0,>=3.0->spacytextblob) (3.0.6)\r\n",
      "Requirement already satisfied: srsly<3.0.0,>=2.4.3 in /Users/grembek/.conda/envs/workspace/lib/python3.10/site-packages (from spacy<4.0,>=3.0->spacytextblob) (2.4.3)\r\n",
      "Requirement already satisfied: pathy>=0.3.5 in /Users/grembek/.conda/envs/workspace/lib/python3.10/site-packages (from spacy<4.0,>=3.0->spacytextblob) (0.6.1)\r\n",
      "Requirement already satisfied: wasabi<1.1.0,>=0.9.1 in /Users/grembek/.conda/envs/workspace/lib/python3.10/site-packages (from spacy<4.0,>=3.0->spacytextblob) (0.9.1)\r\n",
      "Requirement already satisfied: thinc<8.1.0,>=8.0.14 in /Users/grembek/.conda/envs/workspace/lib/python3.10/site-packages (from spacy<4.0,>=3.0->spacytextblob) (8.0.15)\r\n",
      "Requirement already satisfied: setuptools in /Users/grembek/.conda/envs/workspace/lib/python3.10/site-packages (from spacy<4.0,>=3.0->spacytextblob) (65.5.0)\r\n",
      "Requirement already satisfied: blis<0.8.0,>=0.4.0 in /Users/grembek/.conda/envs/workspace/lib/python3.10/site-packages (from spacy<4.0,>=3.0->spacytextblob) (0.7.7)\r\n",
      "Requirement already satisfied: langcodes<4.0.0,>=3.2.0 in /Users/grembek/.conda/envs/workspace/lib/python3.10/site-packages (from spacy<4.0,>=3.0->spacytextblob) (3.3.0)\r\n",
      "Requirement already satisfied: pydantic!=1.8,!=1.8.1,<1.9.0,>=1.7.4 in /Users/grembek/.conda/envs/workspace/lib/python3.10/site-packages (from spacy<4.0,>=3.0->spacytextblob) (1.8.2)\r\n",
      "Requirement already satisfied: nltk>=3.1 in /Users/grembek/.conda/envs/workspace/lib/python3.10/site-packages (from textblob<0.16.0,>=0.15.3->spacytextblob) (3.7)\r\n",
      "Requirement already satisfied: click in /Users/grembek/.conda/envs/workspace/lib/python3.10/site-packages (from nltk>=3.1->textblob<0.16.0,>=0.15.3->spacytextblob) (8.0.4)\r\n",
      "Requirement already satisfied: joblib in /Users/grembek/.conda/envs/workspace/lib/python3.10/site-packages (from nltk>=3.1->textblob<0.16.0,>=0.15.3->spacytextblob) (1.1.1)\r\n",
      "Requirement already satisfied: regex>=2021.8.3 in /Users/grembek/.conda/envs/workspace/lib/python3.10/site-packages (from nltk>=3.1->textblob<0.16.0,>=0.15.3->spacytextblob) (2022.7.9)\r\n",
      "Requirement already satisfied: pyparsing!=3.0.5,>=2.0.2 in /Users/grembek/.conda/envs/workspace/lib/python3.10/site-packages (from packaging>=20.0->spacy<4.0,>=3.0->spacytextblob) (3.0.9)\r\n",
      "Requirement already satisfied: smart-open<6.0.0,>=5.0.0 in /Users/grembek/.conda/envs/workspace/lib/python3.10/site-packages (from pathy>=0.3.5->spacy<4.0,>=3.0->spacytextblob) (5.2.1)\r\n",
      "Requirement already satisfied: typing-extensions>=3.7.4.3 in /Users/grembek/.conda/envs/workspace/lib/python3.10/site-packages (from pydantic!=1.8,!=1.8.1,<1.9.0,>=1.7.4->spacy<4.0,>=3.0->spacytextblob) (4.3.0)\r\n",
      "Requirement already satisfied: certifi>=2017.4.17 in /Users/grembek/.conda/envs/workspace/lib/python3.10/site-packages (from requests<3.0.0,>=2.13.0->spacy<4.0,>=3.0->spacytextblob) (2022.9.24)\r\n",
      "Requirement already satisfied: idna<4,>=2.5 in /Users/grembek/.conda/envs/workspace/lib/python3.10/site-packages (from requests<3.0.0,>=2.13.0->spacy<4.0,>=3.0->spacytextblob) (3.4)\r\n",
      "Requirement already satisfied: urllib3<1.27,>=1.21.1 in /Users/grembek/.conda/envs/workspace/lib/python3.10/site-packages (from requests<3.0.0,>=2.13.0->spacy<4.0,>=3.0->spacytextblob) (1.26.12)\r\n",
      "Requirement already satisfied: charset-normalizer<3,>=2 in /Users/grembek/.conda/envs/workspace/lib/python3.10/site-packages (from requests<3.0.0,>=2.13.0->spacy<4.0,>=3.0->spacytextblob) (2.0.4)\r\n",
      "Requirement already satisfied: MarkupSafe>=2.0 in /Users/grembek/.conda/envs/workspace/lib/python3.10/site-packages (from jinja2->spacy<4.0,>=3.0->spacytextblob) (2.1.1)\r\n"
     ]
    }
   ],
   "source": [
    "!pip install spacytextblob"
   ],
   "metadata": {
    "collapsed": false
   }
  },
  {
   "cell_type": "code",
   "execution_count": 3,
   "outputs": [],
   "source": [
    "import spacy\n",
    "from spacytextblob.spacytextblob import SpacyTextBlob\n",
    "\n",
    "nlp = spacy.load('en_core_web_sm')"
   ],
   "metadata": {
    "collapsed": false
   }
  },
  {
   "cell_type": "markdown",
   "source": [
    "# Add Spacy Text Blob\n",
    "spacytextblob is a pipeline component that enables sentiment analysis using the TextBlob library."
   ],
   "metadata": {
    "collapsed": false
   }
  },
  {
   "cell_type": "code",
   "execution_count": 4,
   "outputs": [
    {
     "data": {
      "text/plain": "<spacytextblob.spacytextblob.SpacyTextBlob at 0x1570b2f80>"
     },
     "execution_count": 4,
     "metadata": {},
     "output_type": "execute_result"
    }
   ],
   "source": [
    "nlp.add_pipe('spacytextblob')"
   ],
   "metadata": {
    "collapsed": false
   }
  },
  {
   "cell_type": "markdown",
   "source": [
    "# Set the Text"
   ],
   "metadata": {
    "collapsed": false
   }
  },
  {
   "cell_type": "code",
   "execution_count": 14,
   "outputs": [],
   "source": [
    "text = 'I had a really horrible day. It was the worst day ever! But every now and then I have a really good day that makes me happy.'"
   ],
   "metadata": {
    "collapsed": false
   }
  },
  {
   "cell_type": "markdown",
   "source": [
    "# Process the text"
   ],
   "metadata": {
    "collapsed": false
   }
  },
  {
   "cell_type": "code",
   "execution_count": 15,
   "outputs": [],
   "source": [
    "doc = nlp(text)"
   ],
   "metadata": {
    "collapsed": false
   }
  },
  {
   "cell_type": "markdown",
   "source": [
    "# Polarity and subjectivity\n",
    "Polarity is the output that lies between [-1,1], where -1 refers to negative sentiment and +1 refers to positive sentiment. Subjectivity is the output that lies within [0,1] and refers to personal opinions and judgments"
   ],
   "metadata": {
    "collapsed": false
   }
  },
  {
   "cell_type": "code",
   "execution_count": 16,
   "outputs": [
    {
     "data": {
      "text/plain": "-0.125"
     },
     "execution_count": 16,
     "metadata": {},
     "output_type": "execute_result"
    }
   ],
   "source": [
    "doc._.blob.polarity"
   ],
   "metadata": {
    "collapsed": false
   }
  },
  {
   "cell_type": "code",
   "execution_count": 17,
   "outputs": [
    {
     "data": {
      "text/plain": "0.9"
     },
     "execution_count": 17,
     "metadata": {},
     "output_type": "execute_result"
    }
   ],
   "source": [
    "doc._.blob.subjectivity"
   ],
   "metadata": {
    "collapsed": false
   }
  },
  {
   "cell_type": "code",
   "execution_count": 18,
   "outputs": [
    {
     "data": {
      "text/plain": "[(['really', 'horrible'], -1.0, 1.0, None),\n (['worst', '!'], -1.0, 1.0, None),\n (['really', 'good'], 0.7, 0.6000000000000001, None),\n (['happy'], 0.8, 1.0, None)]"
     },
     "execution_count": 18,
     "metadata": {},
     "output_type": "execute_result"
    }
   ],
   "source": [
    "doc._.blob.sentiment_assessments.assessments"
   ],
   "metadata": {
    "collapsed": false
   }
  },
  {
   "cell_type": "code",
   "execution_count": 13,
   "outputs": [
    {
     "data": {
      "text/plain": "[WordList(['I', 'had', 'a']),\n WordList(['had', 'a', 'really']),\n WordList(['a', 'really', 'horrible']),\n WordList(['really', 'horrible', 'day']),\n WordList(['horrible', 'day', 'It']),\n WordList(['day', 'It', 'was']),\n WordList(['It', 'was', 'the']),\n WordList(['was', 'the', 'worst']),\n WordList(['the', 'worst', 'day']),\n WordList(['worst', 'day', 'ever'])]"
     },
     "execution_count": 13,
     "metadata": {},
     "output_type": "execute_result"
    }
   ],
   "source": [
    "doc._.blob.ngrams()"
   ],
   "metadata": {
    "collapsed": false
   }
  },
  {
   "cell_type": "markdown",
   "source": [
    "https://spacytextblob.netlify.app/"
   ],
   "metadata": {
    "collapsed": false
   }
  }
 ],
 "metadata": {
  "kernelspec": {
   "display_name": "Python 3",
   "language": "python",
   "name": "python3"
  },
  "language_info": {
   "codemirror_mode": {
    "name": "ipython",
    "version": 2
   },
   "file_extension": ".py",
   "mimetype": "text/x-python",
   "name": "python",
   "nbconvert_exporter": "python",
   "pygments_lexer": "ipython2",
   "version": "2.7.6"
  }
 },
 "nbformat": 4,
 "nbformat_minor": 0
}
