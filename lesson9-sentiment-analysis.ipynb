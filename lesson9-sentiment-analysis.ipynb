{
 "cells": [
  {
   "cell_type": "code",
   "execution_count": 2,
   "outputs": [
    {
     "name": "stdout",
     "output_type": "stream",
     "text": [
      "Collecting package metadata (current_repodata.json): done\r\n",
      "Solving environment: done\r\n",
      "\r\n",
      "\r\n",
      "==> WARNING: A newer version of conda exists. <==\r\n",
      "  current version: 22.9.0\r\n",
      "  latest version: 22.11.1\r\n",
      "\r\n",
      "Please update conda by running\r\n",
      "\r\n",
      "    $ conda update -n base -c defaults conda\r\n",
      "\r\n",
      "\r\n",
      "\r\n",
      "# All requested packages already installed.\r\n",
      "\r\n",
      "Retrieving notices: ...working... done\r\n"
     ]
    }
   ],
   "source": [
    "!conda install -y spacy"
   ],
   "metadata": {
    "collapsed": false
   }
  },
  {
   "cell_type": "code",
   "execution_count": 3,
   "outputs": [
    {
     "name": "stdout",
     "output_type": "stream",
     "text": [
      "Collecting package metadata (current_repodata.json): done\r\n",
      "Solving environment: done\r\n",
      "\r\n",
      "\r\n",
      "==> WARNING: A newer version of conda exists. <==\r\n",
      "  current version: 22.9.0\r\n",
      "  latest version: 22.11.1\r\n",
      "\r\n",
      "Please update conda by running\r\n",
      "\r\n",
      "    $ conda update -n base -c defaults conda\r\n",
      "\r\n",
      "\r\n",
      "\r\n",
      "# All requested packages already installed.\r\n",
      "\r\n",
      "Retrieving notices: ...working... done\r\n"
     ]
    }
   ],
   "source": [
    "!conda install -y spacy-lookups-data"
   ],
   "metadata": {
    "collapsed": false
   }
  },
  {
   "cell_type": "code",
   "execution_count": 2,
   "outputs": [
    {
     "name": "stdout",
     "output_type": "stream",
     "text": [
      "Collecting spacytextblob\r\n",
      "  Downloading spacytextblob-4.0.0-py3-none-any.whl (4.5 kB)\r\n",
      "Requirement already satisfied: spacy<4.0,>=3.0 in /Users/yairl/.conda/envs/ai-nlp-2022-2023/lib/python3.9/site-packages (from spacytextblob) (3.4.3)\r\n",
      "Collecting textblob<0.16.0,>=0.15.3\r\n",
      "  Downloading textblob-0.15.3-py2.py3-none-any.whl (636 kB)\r\n",
      "\u001B[2K     \u001B[90m━━━━━━━━━━━━━━━━━━━━━━━━━━━━━━━━━━━━━━━\u001B[0m \u001B[32m636.5/636.5 kB\u001B[0m \u001B[31m2.2 MB/s\u001B[0m eta \u001B[36m0:00:00\u001B[0ma \u001B[36m0:00:01\u001B[0m\r\n",
      "\u001B[?25hRequirement already satisfied: pydantic!=1.8,!=1.8.1,<1.11.0,>=1.7.4 in /Users/yairl/.conda/envs/ai-nlp-2022-2023/lib/python3.9/site-packages (from spacy<4.0,>=3.0->spacytextblob) (1.10.2)\r\n",
      "Requirement already satisfied: thinc<8.2.0,>=8.1.0 in /Users/yairl/.conda/envs/ai-nlp-2022-2023/lib/python3.9/site-packages (from spacy<4.0,>=3.0->spacytextblob) (8.1.5)\r\n",
      "Requirement already satisfied: typer<0.8.0,>=0.3.0 in /Users/yairl/.conda/envs/ai-nlp-2022-2023/lib/python3.9/site-packages (from spacy<4.0,>=3.0->spacytextblob) (0.4.2)\r\n",
      "Requirement already satisfied: cymem<2.1.0,>=2.0.2 in /Users/yairl/.conda/envs/ai-nlp-2022-2023/lib/python3.9/site-packages (from spacy<4.0,>=3.0->spacytextblob) (2.0.7)\r\n",
      "Requirement already satisfied: numpy>=1.15.0 in /Users/yairl/.conda/envs/ai-nlp-2022-2023/lib/python3.9/site-packages (from spacy<4.0,>=3.0->spacytextblob) (1.23.5)\r\n",
      "Requirement already satisfied: spacy-legacy<3.1.0,>=3.0.10 in /Users/yairl/.conda/envs/ai-nlp-2022-2023/lib/python3.9/site-packages (from spacy<4.0,>=3.0->spacytextblob) (3.0.10)\r\n",
      "Requirement already satisfied: tqdm<5.0.0,>=4.38.0 in /Users/yairl/.conda/envs/ai-nlp-2022-2023/lib/python3.9/site-packages (from spacy<4.0,>=3.0->spacytextblob) (4.64.1)\r\n",
      "Requirement already satisfied: srsly<3.0.0,>=2.4.3 in /Users/yairl/.conda/envs/ai-nlp-2022-2023/lib/python3.9/site-packages (from spacy<4.0,>=3.0->spacytextblob) (2.4.5)\r\n",
      "Requirement already satisfied: requests<3.0.0,>=2.13.0 in /Users/yairl/.conda/envs/ai-nlp-2022-2023/lib/python3.9/site-packages (from spacy<4.0,>=3.0->spacytextblob) (2.28.1)\r\n",
      "Requirement already satisfied: preshed<3.1.0,>=3.0.2 in /Users/yairl/.conda/envs/ai-nlp-2022-2023/lib/python3.9/site-packages (from spacy<4.0,>=3.0->spacytextblob) (3.0.8)\r\n",
      "Requirement already satisfied: catalogue<2.1.0,>=2.0.6 in /Users/yairl/.conda/envs/ai-nlp-2022-2023/lib/python3.9/site-packages (from spacy<4.0,>=3.0->spacytextblob) (2.0.8)\r\n",
      "Requirement already satisfied: pathy>=0.3.5 in /Users/yairl/.conda/envs/ai-nlp-2022-2023/lib/python3.9/site-packages (from spacy<4.0,>=3.0->spacytextblob) (0.10.1)\r\n",
      "Requirement already satisfied: murmurhash<1.1.0,>=0.28.0 in /Users/yairl/.conda/envs/ai-nlp-2022-2023/lib/python3.9/site-packages (from spacy<4.0,>=3.0->spacytextblob) (1.0.9)\r\n",
      "Requirement already satisfied: spacy-loggers<2.0.0,>=1.0.0 in /Users/yairl/.conda/envs/ai-nlp-2022-2023/lib/python3.9/site-packages (from spacy<4.0,>=3.0->spacytextblob) (1.0.3)\r\n",
      "Requirement already satisfied: packaging>=20.0 in /Users/yairl/.conda/envs/ai-nlp-2022-2023/lib/python3.9/site-packages (from spacy<4.0,>=3.0->spacytextblob) (21.3)\r\n",
      "Requirement already satisfied: setuptools in /Users/yairl/.conda/envs/ai-nlp-2022-2023/lib/python3.9/site-packages (from spacy<4.0,>=3.0->spacytextblob) (65.5.1)\r\n",
      "Requirement already satisfied: jinja2 in /Users/yairl/.conda/envs/ai-nlp-2022-2023/lib/python3.9/site-packages (from spacy<4.0,>=3.0->spacytextblob) (3.1.2)\r\n",
      "Requirement already satisfied: langcodes<4.0.0,>=3.2.0 in /Users/yairl/.conda/envs/ai-nlp-2022-2023/lib/python3.9/site-packages (from spacy<4.0,>=3.0->spacytextblob) (3.3.0)\r\n",
      "Requirement already satisfied: wasabi<1.1.0,>=0.9.1 in /Users/yairl/.conda/envs/ai-nlp-2022-2023/lib/python3.9/site-packages (from spacy<4.0,>=3.0->spacytextblob) (0.10.1)\r\n",
      "Requirement already satisfied: nltk>=3.1 in /Users/yairl/.conda/envs/ai-nlp-2022-2023/lib/python3.9/site-packages (from textblob<0.16.0,>=0.15.3->spacytextblob) (3.7)\r\n",
      "Requirement already satisfied: joblib in /Users/yairl/.conda/envs/ai-nlp-2022-2023/lib/python3.9/site-packages (from nltk>=3.1->textblob<0.16.0,>=0.15.3->spacytextblob) (1.2.0)\r\n",
      "Requirement already satisfied: click in /Users/yairl/.conda/envs/ai-nlp-2022-2023/lib/python3.9/site-packages (from nltk>=3.1->textblob<0.16.0,>=0.15.3->spacytextblob) (8.1.3)\r\n",
      "Requirement already satisfied: regex>=2021.8.3 in /Users/yairl/.conda/envs/ai-nlp-2022-2023/lib/python3.9/site-packages (from nltk>=3.1->textblob<0.16.0,>=0.15.3->spacytextblob) (2022.10.31)\r\n",
      "Requirement already satisfied: pyparsing!=3.0.5,>=2.0.2 in /Users/yairl/.conda/envs/ai-nlp-2022-2023/lib/python3.9/site-packages (from packaging>=20.0->spacy<4.0,>=3.0->spacytextblob) (3.0.9)\r\n",
      "Requirement already satisfied: smart-open<7.0.0,>=5.2.1 in /Users/yairl/.conda/envs/ai-nlp-2022-2023/lib/python3.9/site-packages (from pathy>=0.3.5->spacy<4.0,>=3.0->spacytextblob) (5.2.1)\r\n",
      "Requirement already satisfied: typing-extensions>=4.1.0 in /Users/yairl/.conda/envs/ai-nlp-2022-2023/lib/python3.9/site-packages (from pydantic!=1.8,!=1.8.1,<1.11.0,>=1.7.4->spacy<4.0,>=3.0->spacytextblob) (4.4.0)\r\n",
      "Requirement already satisfied: certifi>=2017.4.17 in /Users/yairl/.conda/envs/ai-nlp-2022-2023/lib/python3.9/site-packages (from requests<3.0.0,>=2.13.0->spacy<4.0,>=3.0->spacytextblob) (2022.12.7)\r\n",
      "Requirement already satisfied: charset-normalizer<3,>=2 in /Users/yairl/.conda/envs/ai-nlp-2022-2023/lib/python3.9/site-packages (from requests<3.0.0,>=2.13.0->spacy<4.0,>=3.0->spacytextblob) (2.1.1)\r\n",
      "Requirement already satisfied: urllib3<1.27,>=1.21.1 in /Users/yairl/.conda/envs/ai-nlp-2022-2023/lib/python3.9/site-packages (from requests<3.0.0,>=2.13.0->spacy<4.0,>=3.0->spacytextblob) (1.26.13)\r\n",
      "Requirement already satisfied: idna<4,>=2.5 in /Users/yairl/.conda/envs/ai-nlp-2022-2023/lib/python3.9/site-packages (from requests<3.0.0,>=2.13.0->spacy<4.0,>=3.0->spacytextblob) (3.4)\r\n",
      "Requirement already satisfied: blis<0.8.0,>=0.7.8 in /Users/yairl/.conda/envs/ai-nlp-2022-2023/lib/python3.9/site-packages (from thinc<8.2.0,>=8.1.0->spacy<4.0,>=3.0->spacytextblob) (0.7.9)\r\n",
      "Requirement already satisfied: confection<1.0.0,>=0.0.1 in /Users/yairl/.conda/envs/ai-nlp-2022-2023/lib/python3.9/site-packages (from thinc<8.2.0,>=8.1.0->spacy<4.0,>=3.0->spacytextblob) (0.0.3)\r\n",
      "Requirement already satisfied: MarkupSafe>=2.0 in /Users/yairl/.conda/envs/ai-nlp-2022-2023/lib/python3.9/site-packages (from jinja2->spacy<4.0,>=3.0->spacytextblob) (2.1.1)\r\n",
      "Installing collected packages: textblob, spacytextblob\r\n",
      "Successfully installed spacytextblob-4.0.0 textblob-0.15.3\r\n"
     ]
    }
   ],
   "source": [
    "!pip install spacytextblob"
   ],
   "metadata": {
    "collapsed": false
   }
  },
  {
   "cell_type": "code",
   "execution_count": 3,
   "outputs": [],
   "source": [
    "import spacy\n",
    "from spacytextblob.spacytextblob import SpacyTextBlob\n",
    "\n",
    "nlp = spacy.load('en_core_web_sm')\n",
    "nlp.add_pipe('spacytextblob')\n",
    "text = 'I had a really horrible day. It was the worst day ever! But every now and then I have a really good day that makes me happy.'\n",
    "doc = nlp(text)"
   ],
   "metadata": {
    "collapsed": false
   }
  },
  {
   "cell_type": "code",
   "execution_count": 5,
   "outputs": [
    {
     "data": {
      "text/plain": "-0.125"
     },
     "execution_count": 5,
     "metadata": {},
     "output_type": "execute_result"
    }
   ],
   "source": [
    "doc._.blob.polarity"
   ],
   "metadata": {
    "collapsed": false
   }
  },
  {
   "cell_type": "code",
   "execution_count": 6,
   "outputs": [
    {
     "data": {
      "text/plain": "0.9"
     },
     "execution_count": 6,
     "metadata": {},
     "output_type": "execute_result"
    }
   ],
   "source": [
    "doc._.blob.subjectivity"
   ],
   "metadata": {
    "collapsed": false
   }
  },
  {
   "cell_type": "code",
   "execution_count": 7,
   "outputs": [
    {
     "data": {
      "text/plain": "[(['really', 'horrible'], -1.0, 1.0, None),\n (['worst', '!'], -1.0, 1.0, None),\n (['really', 'good'], 0.7, 0.6000000000000001, None),\n (['happy'], 0.8, 1.0, None)]"
     },
     "execution_count": 7,
     "metadata": {},
     "output_type": "execute_result"
    }
   ],
   "source": [
    "doc._.blob.sentiment_assessments.assessments"
   ],
   "metadata": {
    "collapsed": false
   }
  },
  {
   "cell_type": "code",
   "execution_count": 9,
   "outputs": [
    {
     "data": {
      "text/plain": "[WordList(['I', 'had', 'a']),\n WordList(['had', 'a', 'really']),\n WordList(['a', 'really', 'horrible']),\n WordList(['really', 'horrible', 'day']),\n WordList(['horrible', 'day', 'It']),\n WordList(['day', 'It', 'was']),\n WordList(['It', 'was', 'the']),\n WordList(['was', 'the', 'worst']),\n WordList(['the', 'worst', 'day']),\n WordList(['worst', 'day', 'ever']),\n WordList(['day', 'ever', 'But']),\n WordList(['ever', 'But', 'every']),\n WordList(['But', 'every', 'now']),\n WordList(['every', 'now', 'and']),\n WordList(['now', 'and', 'then']),\n WordList(['and', 'then', 'I']),\n WordList(['then', 'I', 'have']),\n WordList(['I', 'have', 'a']),\n WordList(['have', 'a', 'really']),\n WordList(['a', 'really', 'good']),\n WordList(['really', 'good', 'day']),\n WordList(['good', 'day', 'that']),\n WordList(['day', 'that', 'makes']),\n WordList(['that', 'makes', 'me']),\n WordList(['makes', 'me', 'happy'])]"
     },
     "execution_count": 9,
     "metadata": {},
     "output_type": "execute_result"
    }
   ],
   "source": [
    "doc._.blob.ngrams()"
   ],
   "metadata": {
    "collapsed": false
   }
  },
  {
   "cell_type": "markdown",
   "source": [
    "https://spacytextblob.netlify.app/"
   ],
   "metadata": {
    "collapsed": false
   }
  },
  {
   "cell_type": "code",
   "execution_count": null,
   "outputs": [],
   "source": [],
   "metadata": {
    "collapsed": false
   }
  }
 ],
 "metadata": {
  "kernelspec": {
   "display_name": "Python 3",
   "language": "python",
   "name": "python3"
  },
  "language_info": {
   "codemirror_mode": {
    "name": "ipython",
    "version": 2
   },
   "file_extension": ".py",
   "mimetype": "text/x-python",
   "name": "python",
   "nbconvert_exporter": "python",
   "pygments_lexer": "ipython2",
   "version": "2.7.6"
  }
 },
 "nbformat": 4,
 "nbformat_minor": 0
}
